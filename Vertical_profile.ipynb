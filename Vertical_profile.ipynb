{
 "cells": [
  {
   "cell_type": "code",
   "execution_count": 2,
   "id": "45873c1e-b07f-4c96-8e60-d5b40af03d1a",
   "metadata": {
    "tags": []
   },
   "outputs": [],
   "source": [
    "import sys\n",
    "import logging\n",
    "\n",
    "so = open(\"data.log\", 'w', 10)\n",
    "sys.stdout.echo = so\n",
    "sys.stderr.echo = so\n",
    "\n",
    "get_ipython().log.handlers[0].stream = so\n",
    "get_ipython().log.setLevel(logging.INFO)"
   ]
  },
  {
   "cell_type": "markdown",
   "id": "a5df7942-a7f9-4bad-991c-499d49acff56",
   "metadata": {},
   "source": [
    "## Vertical Profile Tutorial\n",
    "This is an educational toolkit to demonstrate how to plot the CESM1 data as a vertical profile.\n",
    "Vertical profiles are a vertical trend chart that display a parameter measured at a specified depth, location, and time frame. In this notebook, we will be covering how to create vertical profiles plot for the historic, present day and future projected data."
   ]
  },
  {
   "cell_type": "markdown",
   "id": "ef8ebf94-8949-46ea-8f63-63ca70a05dcb",
   "metadata": {},
   "source": [
    "### CESM1 Large Ensemble\n",
    "This portion of the notebook will detail how to get access to the CESM1 large Ensemble dataset, which is hosted on Amazon Web Services. Since it is hosted on Amazon Web services, the users accessing this data will not have to create a separate account. Directions will be followed very similarly to a NCAR repository labeled CESM LENS on AWS.\n",
    "This has been modified to also include functionality to load a zarr-format grid file containing the latitude and longitude information for CESM1, which for some reason are not included in the data files.\n",
    "Things to note about the data we are accessing:\n",
    "The notebook will be accessing the Ocean model for CESM1\n",
    "Because of this the grid file used here is only for OCEAN variables; the atmosphere and land variables have different lat and lon information.\n",
    "For most ocean variables, latitude and longitude are called \"TLAT\" and \"TLONG\".\n",
    "This notebook will only be looking at a few variables as an example. If you are inclined to view other variables, a whole list can be found here\n",
    "To first open connection to where the files are housed, we need to open the connection by using the intake function"
   ]
  },
  {
   "cell_type": "markdown",
   "id": "3dc2cb66-6b44-410b-91d7-f9e3c8fbac1e",
   "metadata": {},
   "source": [
    "### Data Access\n",
    "This notebook uses information from a notebook from the NCAR organization that can be found [here](https://ncar.github.io/CESM-Tutorial/notebooks/diagnostics/clm_ctsm/basics_clm.html#first-calculate-the-land-weights)\n",
    "\n",
    "\n",
    "Accessing the data for this notebook will be done by using Pangeo's software to promote open access and reproducibility within this notebook. To properly ensure you have the correct packages installed that the 'Pangeo Environment' uses, make sure to view the .README for this repository found [here](https://github.com/Channelislanders/toolkit)\n",
    "Here we are:\n",
    "Accessing the OCN model dataset with RCP 8.5 and 20C runs.\n",
    "Explain what these are\n",
    "Narrowing down the columns to specific variables we aim to access.\n",
    "\n",
    "pH,\n",
    "DO,\n",
    "salinity,\n",
    "nutrients,\n",
    "Temperature\n",
    "\n",
    "For example:\n",
    "col_ocntemp = col.search(\n",
    "    frequency=[\"monthly\"],\n",
    "    component=\"ocn\",\n",
    "    variable=\"TEMP\",\n",
    "    experiment=[\"20C\", \"RCP85\"],  \n",
    ")\n",
    "\n",
    "Loading in lat/lon data separately which was not in CESM1 as of March 2024.\n",
    "This section works similar to accessing other catalogs, we will be using Zarr. More information on the library below.\n",
    "https://zarr.readthedocs.io/en/stable/\n"
   ]
  },
  {
   "cell_type": "markdown",
   "id": "1c9ef6e8-49db-4539-acf3-87b9c12f58fc",
   "metadata": {},
   "source": [
    "### Importing Packages\n",
    "In order to access the data, we'll need to import all necessary packages to do so. Below are the packages I have installed to use throughout this notebook:"
   ]
  },
  {
   "cell_type": "code",
   "execution_count": 3,
   "id": "d02028cd-d41a-4cc1-a285-abf0bf2b0b37",
   "metadata": {
    "tags": []
   },
   "outputs": [],
   "source": [
    "# Packages needed generally\n",
    "import matplotlib.pyplot as plt\n",
    "from cartopy import crs as ccrs, feature as cfeature\n",
    "import xarray as xr\n",
    "import pandas as pd\n",
    "import numpy as np\n",
    "from rasterio import mask\n",
    "\n",
    "# Packages needed for CESM1 example\n",
    "import pprint\n",
    "import intake\n",
    "import requests\n",
    "import aiohttp\n",
    "import s3fs\n",
    "\n",
    "# Packages needed for CMIP6\n",
    "import zarr\n",
    "import gcsfs"
   ]
  },
  {
   "cell_type": "code",
   "execution_count": 4,
   "id": "d85cb3fb-a1ab-4810-94b6-9e43fe35b78b",
   "metadata": {
    "tags": []
   },
   "outputs": [],
   "source": [
    "# Open original collection description file: CESM1 LENS\n",
    "cat_url = \"https://ncar-cesm-lens.s3-us-west-2.amazonaws.com/catalogs/aws-cesm1-le.json\"\n",
    "col = intake.open_esm_datastore(cat_url)\n",
    "col\n",
    "\n",
    "# Location of file containing grid (lat/lon) information for CESM1 LENS\n",
    "grid_url=\"s3://ncar-cesm-lens/ocn/static/grid.zarr\""
   ]
  },
  {
   "cell_type": "code",
   "execution_count": 5,
   "id": "172c511c-c6ff-4196-8d06-1ab90d4f4245",
   "metadata": {
    "tags": []
   },
   "outputs": [
    {
     "data": {
      "text/html": [
       "<div>\n",
       "<style scoped>\n",
       "    .dataframe tbody tr th:only-of-type {\n",
       "        vertical-align: middle;\n",
       "    }\n",
       "\n",
       "    .dataframe tbody tr th {\n",
       "        vertical-align: top;\n",
       "    }\n",
       "\n",
       "    .dataframe thead th {\n",
       "        text-align: right;\n",
       "    }\n",
       "</style>\n",
       "<table border=\"1\" class=\"dataframe\">\n",
       "  <thead>\n",
       "    <tr style=\"text-align: right;\">\n",
       "      <th></th>\n",
       "      <th>variable</th>\n",
       "      <th>long_name</th>\n",
       "      <th>component</th>\n",
       "      <th>experiment</th>\n",
       "      <th>frequency</th>\n",
       "      <th>vertical_levels</th>\n",
       "      <th>spatial_domain</th>\n",
       "      <th>units</th>\n",
       "      <th>start_time</th>\n",
       "      <th>end_time</th>\n",
       "      <th>path</th>\n",
       "    </tr>\n",
       "  </thead>\n",
       "  <tbody>\n",
       "    <tr>\n",
       "      <th>0</th>\n",
       "      <td>O2</td>\n",
       "      <td>dissolved oxygen</td>\n",
       "      <td>ocn</td>\n",
       "      <td>20C</td>\n",
       "      <td>monthly</td>\n",
       "      <td>60.0</td>\n",
       "      <td>global_ocean</td>\n",
       "      <td>mmol/m^3</td>\n",
       "      <td>1920-01-16 12:00:00</td>\n",
       "      <td>2005-12-16 12:00:00</td>\n",
       "      <td>s3://ncar-cesm-lens/ocn/monthly/cesmLE-20C-O2....</td>\n",
       "    </tr>\n",
       "    <tr>\n",
       "      <th>1</th>\n",
       "      <td>SALT</td>\n",
       "      <td>salinity</td>\n",
       "      <td>ocn</td>\n",
       "      <td>20C</td>\n",
       "      <td>monthly</td>\n",
       "      <td>60.0</td>\n",
       "      <td>global_ocean</td>\n",
       "      <td>gram/kilogram</td>\n",
       "      <td>1920-01-16 12:00:00</td>\n",
       "      <td>2005-12-16 12:00:00</td>\n",
       "      <td>s3://ncar-cesm-lens/ocn/monthly/cesmLE-20C-SAL...</td>\n",
       "    </tr>\n",
       "    <tr>\n",
       "      <th>2</th>\n",
       "      <td>SST</td>\n",
       "      <td>potential temperature</td>\n",
       "      <td>ocn</td>\n",
       "      <td>20C</td>\n",
       "      <td>monthly</td>\n",
       "      <td>1.0</td>\n",
       "      <td>global_ocean</td>\n",
       "      <td>degC</td>\n",
       "      <td>1920-01-16 12:00:00</td>\n",
       "      <td>2005-12-16 12:00:00</td>\n",
       "      <td>s3://ncar-cesm-lens/ocn/monthly/cesmLE-20C-SST...</td>\n",
       "    </tr>\n",
       "    <tr>\n",
       "      <th>3</th>\n",
       "      <td>TEMP</td>\n",
       "      <td>potential temperature</td>\n",
       "      <td>ocn</td>\n",
       "      <td>20C</td>\n",
       "      <td>monthly</td>\n",
       "      <td>60.0</td>\n",
       "      <td>global_ocean</td>\n",
       "      <td>degC</td>\n",
       "      <td>1920-01-16 12:00:00</td>\n",
       "      <td>2005-12-16 12:00:00</td>\n",
       "      <td>s3://ncar-cesm-lens/ocn/monthly/cesmLE-20C-TEM...</td>\n",
       "    </tr>\n",
       "    <tr>\n",
       "      <th>4</th>\n",
       "      <td>O2</td>\n",
       "      <td>dissolved oxygen</td>\n",
       "      <td>ocn</td>\n",
       "      <td>RCP85</td>\n",
       "      <td>monthly</td>\n",
       "      <td>60.0</td>\n",
       "      <td>global_ocean</td>\n",
       "      <td>mmol/m^3</td>\n",
       "      <td>2006-01-16 12:00:00</td>\n",
       "      <td>2100-12-16 12:00:00</td>\n",
       "      <td>s3://ncar-cesm-lens/ocn/monthly/cesmLE-RCP85-O...</td>\n",
       "    </tr>\n",
       "    <tr>\n",
       "      <th>5</th>\n",
       "      <td>SALT</td>\n",
       "      <td>salinity</td>\n",
       "      <td>ocn</td>\n",
       "      <td>RCP85</td>\n",
       "      <td>monthly</td>\n",
       "      <td>60.0</td>\n",
       "      <td>global_ocean</td>\n",
       "      <td>gram/kilogram</td>\n",
       "      <td>2006-01-16 12:00:00</td>\n",
       "      <td>2100-12-16 12:00:00</td>\n",
       "      <td>s3://ncar-cesm-lens/ocn/monthly/cesmLE-RCP85-S...</td>\n",
       "    </tr>\n",
       "    <tr>\n",
       "      <th>6</th>\n",
       "      <td>SST</td>\n",
       "      <td>potential temperature</td>\n",
       "      <td>ocn</td>\n",
       "      <td>RCP85</td>\n",
       "      <td>monthly</td>\n",
       "      <td>1.0</td>\n",
       "      <td>global_ocean</td>\n",
       "      <td>degC</td>\n",
       "      <td>2006-01-16 12:00:00</td>\n",
       "      <td>2100-12-16 12:00:00</td>\n",
       "      <td>s3://ncar-cesm-lens/ocn/monthly/cesmLE-RCP85-S...</td>\n",
       "    </tr>\n",
       "    <tr>\n",
       "      <th>7</th>\n",
       "      <td>TEMP</td>\n",
       "      <td>potential temperature</td>\n",
       "      <td>ocn</td>\n",
       "      <td>RCP85</td>\n",
       "      <td>monthly</td>\n",
       "      <td>60.0</td>\n",
       "      <td>global_ocean</td>\n",
       "      <td>degC</td>\n",
       "      <td>2006-01-16 12:00:00</td>\n",
       "      <td>2100-12-16 12:00:00</td>\n",
       "      <td>s3://ncar-cesm-lens/ocn/monthly/cesmLE-RCP85-T...</td>\n",
       "    </tr>\n",
       "  </tbody>\n",
       "</table>\n",
       "</div>"
      ],
      "text/plain": [
       "  variable              long_name component experiment frequency  \\\n",
       "0       O2       dissolved oxygen       ocn        20C   monthly   \n",
       "1     SALT               salinity       ocn        20C   monthly   \n",
       "2      SST  potential temperature       ocn        20C   monthly   \n",
       "3     TEMP  potential temperature       ocn        20C   monthly   \n",
       "4       O2       dissolved oxygen       ocn      RCP85   monthly   \n",
       "5     SALT               salinity       ocn      RCP85   monthly   \n",
       "6      SST  potential temperature       ocn      RCP85   monthly   \n",
       "7     TEMP  potential temperature       ocn      RCP85   monthly   \n",
       "\n",
       "   vertical_levels spatial_domain          units           start_time  \\\n",
       "0             60.0   global_ocean       mmol/m^3  1920-01-16 12:00:00   \n",
       "1             60.0   global_ocean  gram/kilogram  1920-01-16 12:00:00   \n",
       "2              1.0   global_ocean           degC  1920-01-16 12:00:00   \n",
       "3             60.0   global_ocean           degC  1920-01-16 12:00:00   \n",
       "4             60.0   global_ocean       mmol/m^3  2006-01-16 12:00:00   \n",
       "5             60.0   global_ocean  gram/kilogram  2006-01-16 12:00:00   \n",
       "6              1.0   global_ocean           degC  2006-01-16 12:00:00   \n",
       "7             60.0   global_ocean           degC  2006-01-16 12:00:00   \n",
       "\n",
       "              end_time                                               path  \n",
       "0  2005-12-16 12:00:00  s3://ncar-cesm-lens/ocn/monthly/cesmLE-20C-O2....  \n",
       "1  2005-12-16 12:00:00  s3://ncar-cesm-lens/ocn/monthly/cesmLE-20C-SAL...  \n",
       "2  2005-12-16 12:00:00  s3://ncar-cesm-lens/ocn/monthly/cesmLE-20C-SST...  \n",
       "3  2005-12-16 12:00:00  s3://ncar-cesm-lens/ocn/monthly/cesmLE-20C-TEM...  \n",
       "4  2100-12-16 12:00:00  s3://ncar-cesm-lens/ocn/monthly/cesmLE-RCP85-O...  \n",
       "5  2100-12-16 12:00:00  s3://ncar-cesm-lens/ocn/monthly/cesmLE-RCP85-S...  \n",
       "6  2100-12-16 12:00:00  s3://ncar-cesm-lens/ocn/monthly/cesmLE-RCP85-S...  \n",
       "7  2100-12-16 12:00:00  s3://ncar-cesm-lens/ocn/monthly/cesmLE-RCP85-T...  "
      ]
     },
     "execution_count": 5,
     "metadata": {},
     "output_type": "execute_result"
    }
   ],
   "source": [
    "# Search for the sea surface variable, display the first few entries in the resulting data frame\n",
    "col.search(variable=\"TEMP\").df\n",
    "\n",
    "# the experiments and variables we want to work with at a monthly frequency\n",
    "col.search(experiment = [\"RCP85\", \"20C\"], frequency = \"monthly\", variable = [\"O2\",\"SALT\",\"TEMP\",\"SST\"]).df\n",
    "\n"
   ]
  },
  {
   "cell_type": "code",
   "execution_count": 6,
   "id": "37960578-6fb0-4945-b284-e03727b89574",
   "metadata": {
    "tags": []
   },
   "outputs": [
    {
     "name": "stdout",
     "output_type": "stream",
     "text": [
      "{'TEMP': <aws-cesm1-le catalog with 2 dataset(s) from 2 asset(s)>, 'SALT': <aws-cesm1-le catalog with 2 dataset(s) from 2 asset(s)>, 'O2': <aws-cesm1-le catalog with 2 dataset(s) from 2 asset(s)>}\n"
     ]
    },
    {
     "data": {
      "text/html": [
       "<div>\n",
       "<style scoped>\n",
       "    .dataframe tbody tr th:only-of-type {\n",
       "        vertical-align: middle;\n",
       "    }\n",
       "\n",
       "    .dataframe tbody tr th {\n",
       "        vertical-align: top;\n",
       "    }\n",
       "\n",
       "    .dataframe thead th {\n",
       "        text-align: right;\n",
       "    }\n",
       "</style>\n",
       "<table border=\"1\" class=\"dataframe\">\n",
       "  <thead>\n",
       "    <tr style=\"text-align: right;\">\n",
       "      <th></th>\n",
       "      <th>variable</th>\n",
       "      <th>long_name</th>\n",
       "      <th>component</th>\n",
       "      <th>experiment</th>\n",
       "      <th>frequency</th>\n",
       "      <th>vertical_levels</th>\n",
       "      <th>spatial_domain</th>\n",
       "      <th>units</th>\n",
       "      <th>start_time</th>\n",
       "      <th>end_time</th>\n",
       "      <th>path</th>\n",
       "    </tr>\n",
       "  </thead>\n",
       "  <tbody>\n",
       "    <tr>\n",
       "      <th>0</th>\n",
       "      <td>O2</td>\n",
       "      <td>dissolved oxygen</td>\n",
       "      <td>ocn</td>\n",
       "      <td>20C</td>\n",
       "      <td>monthly</td>\n",
       "      <td>60.0</td>\n",
       "      <td>global_ocean</td>\n",
       "      <td>mmol/m^3</td>\n",
       "      <td>1920-01-16 12:00:00</td>\n",
       "      <td>2005-12-16 12:00:00</td>\n",
       "      <td>s3://ncar-cesm-lens/ocn/monthly/cesmLE-20C-O2....</td>\n",
       "    </tr>\n",
       "    <tr>\n",
       "      <th>1</th>\n",
       "      <td>O2</td>\n",
       "      <td>dissolved oxygen</td>\n",
       "      <td>ocn</td>\n",
       "      <td>RCP85</td>\n",
       "      <td>monthly</td>\n",
       "      <td>60.0</td>\n",
       "      <td>global_ocean</td>\n",
       "      <td>mmol/m^3</td>\n",
       "      <td>2006-01-16 12:00:00</td>\n",
       "      <td>2100-12-16 12:00:00</td>\n",
       "      <td>s3://ncar-cesm-lens/ocn/monthly/cesmLE-RCP85-O...</td>\n",
       "    </tr>\n",
       "  </tbody>\n",
       "</table>\n",
       "</div>"
      ],
      "text/plain": [
       "  variable         long_name component experiment frequency  vertical_levels  \\\n",
       "0       O2  dissolved oxygen       ocn        20C   monthly             60.0   \n",
       "1       O2  dissolved oxygen       ocn      RCP85   monthly             60.0   \n",
       "\n",
       "  spatial_domain     units           start_time             end_time  \\\n",
       "0   global_ocean  mmol/m^3  1920-01-16 12:00:00  2005-12-16 12:00:00   \n",
       "1   global_ocean  mmol/m^3  2006-01-16 12:00:00  2100-12-16 12:00:00   \n",
       "\n",
       "                                                path  \n",
       "0  s3://ncar-cesm-lens/ocn/monthly/cesmLE-20C-O2....  \n",
       "1  s3://ncar-cesm-lens/ocn/monthly/cesmLE-RCP85-O...  "
      ]
     },
     "execution_count": 6,
     "metadata": {},
     "output_type": "execute_result"
    }
   ],
   "source": [
    "# Get more detailed: search for monthly output for the 20th century and RCP8.5 scenarios\n",
    "variables = [\"TEMP\", \"SALT\", \"O2\"]\n",
    "col_ocn = {}\n",
    "\n",
    "for var in variables:\n",
    "    col_ocn[f\"{var}\"] = col.search(\n",
    "        frequency=[\"monthly\"],\n",
    "        component=\"ocn\",\n",
    "        variable=var,\n",
    "        experiment=[\"20C\", \"RCP85\"],\n",
    "    )\n",
    "\n",
    "print(col_ocn)\n",
    "\n",
    "#Display the first few entries in the resulting data frame\n",
    "col_ocn[\"TEMP\"].df\n",
    "col_ocn[\"SALT\"].df\n",
    "col_ocn[\"O2\"].df"
   ]
  },
  {
   "cell_type": "code",
   "execution_count": 7,
   "id": "812cf0f3-970e-49aa-b2c8-19a866f31167",
   "metadata": {
    "tags": []
   },
   "outputs": [
    {
     "name": "stdout",
     "output_type": "stream",
     "text": [
      "\n",
      "--> The keys in the returned dictionary of datasets are constructed as follows:\n",
      "\t'component.experiment.frequency'\n"
     ]
    },
    {
     "data": {
      "text/html": [
       "\n",
       "<style>\n",
       "    /* Turns off some styling */\n",
       "    progress {\n",
       "        /* gets rid of default border in Firefox and Opera. */\n",
       "        border: none;\n",
       "        /* Needs to be in here for Safari polyfill so background images work as expected. */\n",
       "        background-size: auto;\n",
       "    }\n",
       "    progress:not([value]), progress:not([value])::-webkit-progress-bar {\n",
       "        background: repeating-linear-gradient(45deg, #7e7e7e, #7e7e7e 10px, #5c5c5c 10px, #5c5c5c 20px);\n",
       "    }\n",
       "    .progress-bar-interrupted, .progress-bar-interrupted::-webkit-progress-bar {\n",
       "        background: #F44336;\n",
       "    }\n",
       "</style>\n"
      ],
      "text/plain": [
       "<IPython.core.display.HTML object>"
      ]
     },
     "metadata": {},
     "output_type": "display_data"
    },
    {
     "data": {
      "text/html": [
       "\n",
       "    <div>\n",
       "      <progress value='2' class='' max='2' style='width:300px; height:20px; vertical-align: middle;'></progress>\n",
       "      100.00% [2/2 00:01&lt;00:00]\n",
       "    </div>\n",
       "    "
      ],
      "text/plain": [
       "<IPython.core.display.HTML object>"
      ]
     },
     "metadata": {},
     "output_type": "display_data"
    },
    {
     "name": "stderr",
     "output_type": "stream",
     "text": [
      "/Users/olholt/.conda/envs/channelislanders/lib/python3.9/site-packages/xarray/backends/plugins.py:80: RuntimeWarning: Engine 'cfgrib' loading failed:\n",
      "Cannot find the ecCodes library\n",
      "  warnings.warn(f\"Engine {name!r} loading failed:\\n{ex}\", RuntimeWarning)\n",
      "/Users/olholt/.conda/envs/channelislanders/lib/python3.9/site-packages/xarray/backends/plugins.py:80: RuntimeWarning: Engine 'cfgrib' loading failed:\n",
      "Cannot find the ecCodes library\n",
      "  warnings.warn(f\"Engine {name!r} loading failed:\\n{ex}\", RuntimeWarning)\n"
     ]
    },
    {
     "name": "stdout",
     "output_type": "stream",
     "text": [
      "\n",
      "Dataset dictionary keys for TEMP:\n",
      " dict_keys(['ocn.20C.monthly', 'ocn.RCP85.monthly'])\n",
      "\n",
      "--> The keys in the returned dictionary of datasets are constructed as follows:\n",
      "\t'component.experiment.frequency'\n"
     ]
    },
    {
     "data": {
      "text/html": [
       "\n",
       "<style>\n",
       "    /* Turns off some styling */\n",
       "    progress {\n",
       "        /* gets rid of default border in Firefox and Opera. */\n",
       "        border: none;\n",
       "        /* Needs to be in here for Safari polyfill so background images work as expected. */\n",
       "        background-size: auto;\n",
       "    }\n",
       "    progress:not([value]), progress:not([value])::-webkit-progress-bar {\n",
       "        background: repeating-linear-gradient(45deg, #7e7e7e, #7e7e7e 10px, #5c5c5c 10px, #5c5c5c 20px);\n",
       "    }\n",
       "    .progress-bar-interrupted, .progress-bar-interrupted::-webkit-progress-bar {\n",
       "        background: #F44336;\n",
       "    }\n",
       "</style>\n"
      ],
      "text/plain": [
       "<IPython.core.display.HTML object>"
      ]
     },
     "metadata": {},
     "output_type": "display_data"
    },
    {
     "data": {
      "text/html": [
       "\n",
       "    <div>\n",
       "      <progress value='2' class='' max='2' style='width:300px; height:20px; vertical-align: middle;'></progress>\n",
       "      100.00% [2/2 00:00&lt;00:00]\n",
       "    </div>\n",
       "    "
      ],
      "text/plain": [
       "<IPython.core.display.HTML object>"
      ]
     },
     "metadata": {},
     "output_type": "display_data"
    },
    {
     "name": "stdout",
     "output_type": "stream",
     "text": [
      "\n",
      "Dataset dictionary keys for SALT:\n",
      " dict_keys(['ocn.20C.monthly', 'ocn.RCP85.monthly'])\n",
      "\n",
      "--> The keys in the returned dictionary of datasets are constructed as follows:\n",
      "\t'component.experiment.frequency'\n"
     ]
    },
    {
     "data": {
      "text/html": [
       "\n",
       "<style>\n",
       "    /* Turns off some styling */\n",
       "    progress {\n",
       "        /* gets rid of default border in Firefox and Opera. */\n",
       "        border: none;\n",
       "        /* Needs to be in here for Safari polyfill so background images work as expected. */\n",
       "        background-size: auto;\n",
       "    }\n",
       "    progress:not([value]), progress:not([value])::-webkit-progress-bar {\n",
       "        background: repeating-linear-gradient(45deg, #7e7e7e, #7e7e7e 10px, #5c5c5c 10px, #5c5c5c 20px);\n",
       "    }\n",
       "    .progress-bar-interrupted, .progress-bar-interrupted::-webkit-progress-bar {\n",
       "        background: #F44336;\n",
       "    }\n",
       "</style>\n"
      ],
      "text/plain": [
       "<IPython.core.display.HTML object>"
      ]
     },
     "metadata": {},
     "output_type": "display_data"
    },
    {
     "data": {
      "text/html": [
       "\n",
       "    <div>\n",
       "      <progress value='2' class='' max='2' style='width:300px; height:20px; vertical-align: middle;'></progress>\n",
       "      100.00% [2/2 00:00&lt;00:00]\n",
       "    </div>\n",
       "    "
      ],
      "text/plain": [
       "<IPython.core.display.HTML object>"
      ]
     },
     "metadata": {},
     "output_type": "display_data"
    },
    {
     "name": "stdout",
     "output_type": "stream",
     "text": [
      "\n",
      "Dataset dictionary keys for O2:\n",
      " dict_keys(['ocn.20C.monthly', 'ocn.RCP85.monthly'])\n"
     ]
    }
   ],
   "source": [
    "# Load catalog entries for subset into a dictionary of xarray datasets\n",
    "#Lets create another for loop to iteratre over the col_ocn dictionary\n",
    "\n",
    "dsets = {}\n",
    "for var in variables:\n",
    "    dsets[var] = col_ocn[var].to_dataset_dict(\n",
    "        zarr_kwargs={\"consolidated\": True}, storage_options={\"anon\": True}\n",
    "    )\n",
    "    print(f\"\\nDataset dictionary keys for {var}:\\n {dsets[var].keys()}\")\n"
   ]
  },
  {
   "cell_type": "code",
   "execution_count": 8,
   "id": "fb545dbf-8932-406c-b46b-bce05c87c20d",
   "metadata": {
    "tags": []
   },
   "outputs": [],
   "source": [
    "# Define Xarray datasets corresponding to the two experiments by each variable \n",
    "ds_20C_TEMP = dsets[\"TEMP\"][\"ocn.20C.monthly\"]\n",
    "ds_RCP85_TEMP = dsets[\"TEMP\"][\"ocn.RCP85.monthly\"]\n",
    "\n",
    "ds_20C_SALT = dsets[\"SALT\"][\"ocn.20C.monthly\"]\n",
    "ds_RCP85_SALT = dsets[\"SALT\"][\"ocn.RCP85.monthly\"]\n",
    "\n",
    "ds_20C_O2 = dsets[\"O2\"][\"ocn.20C.monthly\"]\n",
    "ds_RCP85_O2 = dsets[\"O2\"][\"ocn.RCP85.monthly\"]"
   ]
  },
  {
   "cell_type": "markdown",
   "id": "a2095c01-6211-4622-b1db-15d98ce51cc2",
   "metadata": {},
   "source": [
    "### Downloading the .nc files\n",
    "##### Downloading the subset data will help the plots run faster. A tip is to restart the kernel after each code chunk below to download each dataset. Once the file is downloaded, comment the code out so that is does not created muliple files."
   ]
  },
  {
   "cell_type": "code",
   "execution_count": 9,
   "id": "dd8fd515-edf4-4e03-bc47-1b32f61be4a2",
   "metadata": {
    "tags": []
   },
   "outputs": [],
   "source": [
    "#For Temperature in the 20C run\n",
    "#latlon_subset = ds_20C_TEMP.isel(nlat = 280, nlon = 240)\n",
    "\n",
    "#latlon_subset.to_netcdf(\"latlon_TEMP_subset.nc\")"
   ]
  },
  {
   "cell_type": "code",
   "execution_count": 10,
   "id": "48462792-17da-44f2-8ae0-b7210d726770",
   "metadata": {
    "tags": []
   },
   "outputs": [],
   "source": [
    "#For Salinity in the 20C run\n",
    "#latlon_subset_SALT = ds_20C_SALT.isel(nlat = 280, nlon = 240)\n",
    "\n",
    "#latlon_subset_SALT.to_netcdf(\"latlon_SALT_subset.nc\")"
   ]
  },
  {
   "cell_type": "code",
   "execution_count": 11,
   "id": "db8c5207-ab07-44cb-a537-a5e1af1e7f3d",
   "metadata": {
    "tags": []
   },
   "outputs": [],
   "source": [
    "#For Dissolved Oxygen in the 20C run\n",
    "#latlon_subset_O2 = ds_20C_O2.isel(nlat = 280, nlon = 240)\n",
    "\n",
    "#latlon_subset_O2.to_netcdf(\"latlon_O2_subset.nc\")"
   ]
  },
  {
   "cell_type": "code",
   "execution_count": 12,
   "id": "ad9ef4da-5f82-4834-a772-d1fc73448c62",
   "metadata": {
    "tags": []
   },
   "outputs": [],
   "source": [
    "# Temperature in the RCP8.5 run\n",
    "#latlon_subset_TEMP_rcp = ds_RCP85_TEMP.isel(nlat = 280, nlon = 240)\n",
    "\n",
    "#latlon_subset_TEMP_rcp.to_netcdf(\"latlon_TEMP_subset_rcp.nc\")\n"
   ]
  },
  {
   "cell_type": "code",
   "execution_count": 13,
   "id": "350e48a5-a9c0-4bef-b8b3-75a6d18abe1a",
   "metadata": {
    "tags": []
   },
   "outputs": [],
   "source": [
    "#For Salinity in the RCP8.5 run\n",
    "#latlon_subset_SALT_rcp = ds_RCP85_SALT.isel(nlat = 280, nlon = 240)\n",
    "\n",
    "#latlon_subset_SALT_rcp.to_netcdf(\"latlon_SALT_subset_rcp.nc\")"
   ]
  },
  {
   "cell_type": "code",
   "execution_count": 14,
   "id": "613e9ce7-63fd-48c8-920b-6765fd2916a9",
   "metadata": {
    "tags": []
   },
   "outputs": [],
   "source": [
    "#For Dissolved Oxygen in the RCP8.5 run\n",
    "#latlon_subset_O2_rcp = ds_RCP85_O2.isel(nlat = 280, nlon = 240)\n",
    "\n",
    "#latlon_subset_O2_rcp.to_netcdf(\"latlon_O2_subset_rcp.nc\")"
   ]
  },
  {
   "cell_type": "markdown",
   "id": "5b8ec71a-efb7-4c98-abe7-805a78a425d8",
   "metadata": {},
   "source": [
    "### Plotting Temperature for 20C run (1920-2005)"
   ]
  },
  {
   "cell_type": "code",
   "execution_count": 15,
   "id": "301d90a8-8d21-4d5e-a175-cf89fa2a8e28",
   "metadata": {},
   "outputs": [
    {
     "ename": "FileNotFoundError",
     "evalue": "[Errno 2] No such file or directory: '/Users/olholt/capstone/toolkit/latlon_TEMP_subset.nc'",
     "output_type": "error",
     "traceback": [
      "\u001b[0;31m---------------------------------------------------------------------------\u001b[0m",
      "\u001b[0;31mKeyError\u001b[0m                                  Traceback (most recent call last)",
      "File \u001b[0;32m~/.conda/envs/channelislanders/lib/python3.9/site-packages/xarray/backends/file_manager.py:211\u001b[0m, in \u001b[0;36mCachingFileManager._acquire_with_cache_info\u001b[0;34m(self, needs_lock)\u001b[0m\n\u001b[1;32m    210\u001b[0m \u001b[38;5;28;01mtry\u001b[39;00m:\n\u001b[0;32m--> 211\u001b[0m     file \u001b[38;5;241m=\u001b[39m \u001b[38;5;28;43mself\u001b[39;49m\u001b[38;5;241;43m.\u001b[39;49m\u001b[43m_cache\u001b[49m\u001b[43m[\u001b[49m\u001b[38;5;28;43mself\u001b[39;49m\u001b[38;5;241;43m.\u001b[39;49m\u001b[43m_key\u001b[49m\u001b[43m]\u001b[49m\n\u001b[1;32m    212\u001b[0m \u001b[38;5;28;01mexcept\u001b[39;00m \u001b[38;5;167;01mKeyError\u001b[39;00m:\n",
      "File \u001b[0;32m~/.conda/envs/channelislanders/lib/python3.9/site-packages/xarray/backends/lru_cache.py:56\u001b[0m, in \u001b[0;36mLRUCache.__getitem__\u001b[0;34m(self, key)\u001b[0m\n\u001b[1;32m     55\u001b[0m \u001b[38;5;28;01mwith\u001b[39;00m \u001b[38;5;28mself\u001b[39m\u001b[38;5;241m.\u001b[39m_lock:\n\u001b[0;32m---> 56\u001b[0m     value \u001b[38;5;241m=\u001b[39m \u001b[38;5;28;43mself\u001b[39;49m\u001b[38;5;241;43m.\u001b[39;49m\u001b[43m_cache\u001b[49m\u001b[43m[\u001b[49m\u001b[43mkey\u001b[49m\u001b[43m]\u001b[49m\n\u001b[1;32m     57\u001b[0m     \u001b[38;5;28mself\u001b[39m\u001b[38;5;241m.\u001b[39m_cache\u001b[38;5;241m.\u001b[39mmove_to_end(key)\n",
      "\u001b[0;31mKeyError\u001b[0m: [<class 'netCDF4._netCDF4.Dataset'>, ('/Users/olholt/capstone/toolkit/latlon_TEMP_subset.nc',), 'r', (('clobber', True), ('diskless', False), ('format', 'NETCDF4'), ('persist', False)), '3bfbf076-551d-46aa-babb-b98da7f15da7']",
      "\nDuring handling of the above exception, another exception occurred:\n",
      "\u001b[0;31mFileNotFoundError\u001b[0m                         Traceback (most recent call last)",
      "Cell \u001b[0;32mIn[15], line 2\u001b[0m\n\u001b[1;32m      1\u001b[0m \u001b[38;5;66;03m#load in the netcdf file created above\u001b[39;00m\n\u001b[0;32m----> 2\u001b[0m latlon_TEMP_final \u001b[38;5;241m=\u001b[39m \u001b[43mxr\u001b[49m\u001b[38;5;241;43m.\u001b[39;49m\u001b[43mopen_dataset\u001b[49m\u001b[43m(\u001b[49m\u001b[38;5;124;43m\"\u001b[39;49m\u001b[38;5;124;43mlatlon_TEMP_subset.nc\u001b[39;49m\u001b[38;5;124;43m\"\u001b[39;49m\u001b[43m)\u001b[49m\n\u001b[1;32m      4\u001b[0m \u001b[38;5;66;03m# Initialize an empty list to store mean values for each member_id\u001b[39;00m\n\u001b[1;32m      5\u001b[0m TEMP_means_list \u001b[38;5;241m=\u001b[39m []\n",
      "File \u001b[0;32m~/.conda/envs/channelislanders/lib/python3.9/site-packages/xarray/backends/api.py:566\u001b[0m, in \u001b[0;36mopen_dataset\u001b[0;34m(filename_or_obj, engine, chunks, cache, decode_cf, mask_and_scale, decode_times, decode_timedelta, use_cftime, concat_characters, decode_coords, drop_variables, inline_array, chunked_array_type, from_array_kwargs, backend_kwargs, **kwargs)\u001b[0m\n\u001b[1;32m    554\u001b[0m decoders \u001b[38;5;241m=\u001b[39m _resolve_decoders_kwargs(\n\u001b[1;32m    555\u001b[0m     decode_cf,\n\u001b[1;32m    556\u001b[0m     open_backend_dataset_parameters\u001b[38;5;241m=\u001b[39mbackend\u001b[38;5;241m.\u001b[39mopen_dataset_parameters,\n\u001b[0;32m   (...)\u001b[0m\n\u001b[1;32m    562\u001b[0m     decode_coords\u001b[38;5;241m=\u001b[39mdecode_coords,\n\u001b[1;32m    563\u001b[0m )\n\u001b[1;32m    565\u001b[0m overwrite_encoded_chunks \u001b[38;5;241m=\u001b[39m kwargs\u001b[38;5;241m.\u001b[39mpop(\u001b[38;5;124m\"\u001b[39m\u001b[38;5;124moverwrite_encoded_chunks\u001b[39m\u001b[38;5;124m\"\u001b[39m, \u001b[38;5;28;01mNone\u001b[39;00m)\n\u001b[0;32m--> 566\u001b[0m backend_ds \u001b[38;5;241m=\u001b[39m \u001b[43mbackend\u001b[49m\u001b[38;5;241;43m.\u001b[39;49m\u001b[43mopen_dataset\u001b[49m\u001b[43m(\u001b[49m\n\u001b[1;32m    567\u001b[0m \u001b[43m    \u001b[49m\u001b[43mfilename_or_obj\u001b[49m\u001b[43m,\u001b[49m\n\u001b[1;32m    568\u001b[0m \u001b[43m    \u001b[49m\u001b[43mdrop_variables\u001b[49m\u001b[38;5;241;43m=\u001b[39;49m\u001b[43mdrop_variables\u001b[49m\u001b[43m,\u001b[49m\n\u001b[1;32m    569\u001b[0m \u001b[43m    \u001b[49m\u001b[38;5;241;43m*\u001b[39;49m\u001b[38;5;241;43m*\u001b[39;49m\u001b[43mdecoders\u001b[49m\u001b[43m,\u001b[49m\n\u001b[1;32m    570\u001b[0m \u001b[43m    \u001b[49m\u001b[38;5;241;43m*\u001b[39;49m\u001b[38;5;241;43m*\u001b[39;49m\u001b[43mkwargs\u001b[49m\u001b[43m,\u001b[49m\n\u001b[1;32m    571\u001b[0m \u001b[43m\u001b[49m\u001b[43m)\u001b[49m\n\u001b[1;32m    572\u001b[0m ds \u001b[38;5;241m=\u001b[39m _dataset_from_backend_dataset(\n\u001b[1;32m    573\u001b[0m     backend_ds,\n\u001b[1;32m    574\u001b[0m     filename_or_obj,\n\u001b[0;32m   (...)\u001b[0m\n\u001b[1;32m    584\u001b[0m     \u001b[38;5;241m*\u001b[39m\u001b[38;5;241m*\u001b[39mkwargs,\n\u001b[1;32m    585\u001b[0m )\n\u001b[1;32m    586\u001b[0m \u001b[38;5;28;01mreturn\u001b[39;00m ds\n",
      "File \u001b[0;32m~/.conda/envs/channelislanders/lib/python3.9/site-packages/xarray/backends/netCDF4_.py:590\u001b[0m, in \u001b[0;36mNetCDF4BackendEntrypoint.open_dataset\u001b[0;34m(self, filename_or_obj, mask_and_scale, decode_times, concat_characters, decode_coords, drop_variables, use_cftime, decode_timedelta, group, mode, format, clobber, diskless, persist, lock, autoclose)\u001b[0m\n\u001b[1;32m    569\u001b[0m \u001b[38;5;28;01mdef\u001b[39;00m \u001b[38;5;21mopen_dataset\u001b[39m(  \u001b[38;5;66;03m# type: ignore[override]  # allow LSP violation, not supporting **kwargs\u001b[39;00m\n\u001b[1;32m    570\u001b[0m     \u001b[38;5;28mself\u001b[39m,\n\u001b[1;32m    571\u001b[0m     filename_or_obj: \u001b[38;5;28mstr\u001b[39m \u001b[38;5;241m|\u001b[39m os\u001b[38;5;241m.\u001b[39mPathLike[Any] \u001b[38;5;241m|\u001b[39m BufferedIOBase \u001b[38;5;241m|\u001b[39m AbstractDataStore,\n\u001b[0;32m   (...)\u001b[0m\n\u001b[1;32m    587\u001b[0m     autoclose\u001b[38;5;241m=\u001b[39m\u001b[38;5;28;01mFalse\u001b[39;00m,\n\u001b[1;32m    588\u001b[0m ) \u001b[38;5;241m-\u001b[39m\u001b[38;5;241m>\u001b[39m Dataset:\n\u001b[1;32m    589\u001b[0m     filename_or_obj \u001b[38;5;241m=\u001b[39m _normalize_path(filename_or_obj)\n\u001b[0;32m--> 590\u001b[0m     store \u001b[38;5;241m=\u001b[39m \u001b[43mNetCDF4DataStore\u001b[49m\u001b[38;5;241;43m.\u001b[39;49m\u001b[43mopen\u001b[49m\u001b[43m(\u001b[49m\n\u001b[1;32m    591\u001b[0m \u001b[43m        \u001b[49m\u001b[43mfilename_or_obj\u001b[49m\u001b[43m,\u001b[49m\n\u001b[1;32m    592\u001b[0m \u001b[43m        \u001b[49m\u001b[43mmode\u001b[49m\u001b[38;5;241;43m=\u001b[39;49m\u001b[43mmode\u001b[49m\u001b[43m,\u001b[49m\n\u001b[1;32m    593\u001b[0m \u001b[43m        \u001b[49m\u001b[38;5;28;43mformat\u001b[39;49m\u001b[38;5;241;43m=\u001b[39;49m\u001b[38;5;28;43mformat\u001b[39;49m\u001b[43m,\u001b[49m\n\u001b[1;32m    594\u001b[0m \u001b[43m        \u001b[49m\u001b[43mgroup\u001b[49m\u001b[38;5;241;43m=\u001b[39;49m\u001b[43mgroup\u001b[49m\u001b[43m,\u001b[49m\n\u001b[1;32m    595\u001b[0m \u001b[43m        \u001b[49m\u001b[43mclobber\u001b[49m\u001b[38;5;241;43m=\u001b[39;49m\u001b[43mclobber\u001b[49m\u001b[43m,\u001b[49m\n\u001b[1;32m    596\u001b[0m \u001b[43m        \u001b[49m\u001b[43mdiskless\u001b[49m\u001b[38;5;241;43m=\u001b[39;49m\u001b[43mdiskless\u001b[49m\u001b[43m,\u001b[49m\n\u001b[1;32m    597\u001b[0m \u001b[43m        \u001b[49m\u001b[43mpersist\u001b[49m\u001b[38;5;241;43m=\u001b[39;49m\u001b[43mpersist\u001b[49m\u001b[43m,\u001b[49m\n\u001b[1;32m    598\u001b[0m \u001b[43m        \u001b[49m\u001b[43mlock\u001b[49m\u001b[38;5;241;43m=\u001b[39;49m\u001b[43mlock\u001b[49m\u001b[43m,\u001b[49m\n\u001b[1;32m    599\u001b[0m \u001b[43m        \u001b[49m\u001b[43mautoclose\u001b[49m\u001b[38;5;241;43m=\u001b[39;49m\u001b[43mautoclose\u001b[49m\u001b[43m,\u001b[49m\n\u001b[1;32m    600\u001b[0m \u001b[43m    \u001b[49m\u001b[43m)\u001b[49m\n\u001b[1;32m    602\u001b[0m     store_entrypoint \u001b[38;5;241m=\u001b[39m StoreBackendEntrypoint()\n\u001b[1;32m    603\u001b[0m     \u001b[38;5;28;01mwith\u001b[39;00m close_on_error(store):\n",
      "File \u001b[0;32m~/.conda/envs/channelislanders/lib/python3.9/site-packages/xarray/backends/netCDF4_.py:391\u001b[0m, in \u001b[0;36mNetCDF4DataStore.open\u001b[0;34m(cls, filename, mode, format, group, clobber, diskless, persist, lock, lock_maker, autoclose)\u001b[0m\n\u001b[1;32m    385\u001b[0m kwargs \u001b[38;5;241m=\u001b[39m \u001b[38;5;28mdict\u001b[39m(\n\u001b[1;32m    386\u001b[0m     clobber\u001b[38;5;241m=\u001b[39mclobber, diskless\u001b[38;5;241m=\u001b[39mdiskless, persist\u001b[38;5;241m=\u001b[39mpersist, \u001b[38;5;28mformat\u001b[39m\u001b[38;5;241m=\u001b[39m\u001b[38;5;28mformat\u001b[39m\n\u001b[1;32m    387\u001b[0m )\n\u001b[1;32m    388\u001b[0m manager \u001b[38;5;241m=\u001b[39m CachingFileManager(\n\u001b[1;32m    389\u001b[0m     netCDF4\u001b[38;5;241m.\u001b[39mDataset, filename, mode\u001b[38;5;241m=\u001b[39mmode, kwargs\u001b[38;5;241m=\u001b[39mkwargs\n\u001b[1;32m    390\u001b[0m )\n\u001b[0;32m--> 391\u001b[0m \u001b[38;5;28;01mreturn\u001b[39;00m \u001b[38;5;28;43mcls\u001b[39;49m\u001b[43m(\u001b[49m\u001b[43mmanager\u001b[49m\u001b[43m,\u001b[49m\u001b[43m \u001b[49m\u001b[43mgroup\u001b[49m\u001b[38;5;241;43m=\u001b[39;49m\u001b[43mgroup\u001b[49m\u001b[43m,\u001b[49m\u001b[43m \u001b[49m\u001b[43mmode\u001b[49m\u001b[38;5;241;43m=\u001b[39;49m\u001b[43mmode\u001b[49m\u001b[43m,\u001b[49m\u001b[43m \u001b[49m\u001b[43mlock\u001b[49m\u001b[38;5;241;43m=\u001b[39;49m\u001b[43mlock\u001b[49m\u001b[43m,\u001b[49m\u001b[43m \u001b[49m\u001b[43mautoclose\u001b[49m\u001b[38;5;241;43m=\u001b[39;49m\u001b[43mautoclose\u001b[49m\u001b[43m)\u001b[49m\n",
      "File \u001b[0;32m~/.conda/envs/channelislanders/lib/python3.9/site-packages/xarray/backends/netCDF4_.py:338\u001b[0m, in \u001b[0;36mNetCDF4DataStore.__init__\u001b[0;34m(self, manager, group, mode, lock, autoclose)\u001b[0m\n\u001b[1;32m    336\u001b[0m \u001b[38;5;28mself\u001b[39m\u001b[38;5;241m.\u001b[39m_group \u001b[38;5;241m=\u001b[39m group\n\u001b[1;32m    337\u001b[0m \u001b[38;5;28mself\u001b[39m\u001b[38;5;241m.\u001b[39m_mode \u001b[38;5;241m=\u001b[39m mode\n\u001b[0;32m--> 338\u001b[0m \u001b[38;5;28mself\u001b[39m\u001b[38;5;241m.\u001b[39mformat \u001b[38;5;241m=\u001b[39m \u001b[38;5;28;43mself\u001b[39;49m\u001b[38;5;241;43m.\u001b[39;49m\u001b[43mds\u001b[49m\u001b[38;5;241m.\u001b[39mdata_model\n\u001b[1;32m    339\u001b[0m \u001b[38;5;28mself\u001b[39m\u001b[38;5;241m.\u001b[39m_filename \u001b[38;5;241m=\u001b[39m \u001b[38;5;28mself\u001b[39m\u001b[38;5;241m.\u001b[39mds\u001b[38;5;241m.\u001b[39mfilepath()\n\u001b[1;32m    340\u001b[0m \u001b[38;5;28mself\u001b[39m\u001b[38;5;241m.\u001b[39mis_remote \u001b[38;5;241m=\u001b[39m is_remote_uri(\u001b[38;5;28mself\u001b[39m\u001b[38;5;241m.\u001b[39m_filename)\n",
      "File \u001b[0;32m~/.conda/envs/channelislanders/lib/python3.9/site-packages/xarray/backends/netCDF4_.py:400\u001b[0m, in \u001b[0;36mNetCDF4DataStore.ds\u001b[0;34m(self)\u001b[0m\n\u001b[1;32m    398\u001b[0m \u001b[38;5;129m@property\u001b[39m\n\u001b[1;32m    399\u001b[0m \u001b[38;5;28;01mdef\u001b[39;00m \u001b[38;5;21mds\u001b[39m(\u001b[38;5;28mself\u001b[39m):\n\u001b[0;32m--> 400\u001b[0m     \u001b[38;5;28;01mreturn\u001b[39;00m \u001b[38;5;28;43mself\u001b[39;49m\u001b[38;5;241;43m.\u001b[39;49m\u001b[43m_acquire\u001b[49m\u001b[43m(\u001b[49m\u001b[43m)\u001b[49m\n",
      "File \u001b[0;32m~/.conda/envs/channelislanders/lib/python3.9/site-packages/xarray/backends/netCDF4_.py:394\u001b[0m, in \u001b[0;36mNetCDF4DataStore._acquire\u001b[0;34m(self, needs_lock)\u001b[0m\n\u001b[1;32m    393\u001b[0m \u001b[38;5;28;01mdef\u001b[39;00m \u001b[38;5;21m_acquire\u001b[39m(\u001b[38;5;28mself\u001b[39m, needs_lock\u001b[38;5;241m=\u001b[39m\u001b[38;5;28;01mTrue\u001b[39;00m):\n\u001b[0;32m--> 394\u001b[0m     \u001b[38;5;28;01mwith\u001b[39;00m \u001b[38;5;28mself\u001b[39m\u001b[38;5;241m.\u001b[39m_manager\u001b[38;5;241m.\u001b[39macquire_context(needs_lock) \u001b[38;5;28;01mas\u001b[39;00m root:\n\u001b[1;32m    395\u001b[0m         ds \u001b[38;5;241m=\u001b[39m _nc4_require_group(root, \u001b[38;5;28mself\u001b[39m\u001b[38;5;241m.\u001b[39m_group, \u001b[38;5;28mself\u001b[39m\u001b[38;5;241m.\u001b[39m_mode)\n\u001b[1;32m    396\u001b[0m     \u001b[38;5;28;01mreturn\u001b[39;00m ds\n",
      "File \u001b[0;32m~/.conda/envs/channelislanders/lib/python3.9/contextlib.py:119\u001b[0m, in \u001b[0;36m_GeneratorContextManager.__enter__\u001b[0;34m(self)\u001b[0m\n\u001b[1;32m    117\u001b[0m \u001b[38;5;28;01mdel\u001b[39;00m \u001b[38;5;28mself\u001b[39m\u001b[38;5;241m.\u001b[39margs, \u001b[38;5;28mself\u001b[39m\u001b[38;5;241m.\u001b[39mkwds, \u001b[38;5;28mself\u001b[39m\u001b[38;5;241m.\u001b[39mfunc\n\u001b[1;32m    118\u001b[0m \u001b[38;5;28;01mtry\u001b[39;00m:\n\u001b[0;32m--> 119\u001b[0m     \u001b[38;5;28;01mreturn\u001b[39;00m \u001b[38;5;28;43mnext\u001b[39;49m\u001b[43m(\u001b[49m\u001b[38;5;28;43mself\u001b[39;49m\u001b[38;5;241;43m.\u001b[39;49m\u001b[43mgen\u001b[49m\u001b[43m)\u001b[49m\n\u001b[1;32m    120\u001b[0m \u001b[38;5;28;01mexcept\u001b[39;00m \u001b[38;5;167;01mStopIteration\u001b[39;00m:\n\u001b[1;32m    121\u001b[0m     \u001b[38;5;28;01mraise\u001b[39;00m \u001b[38;5;167;01mRuntimeError\u001b[39;00m(\u001b[38;5;124m\"\u001b[39m\u001b[38;5;124mgenerator didn\u001b[39m\u001b[38;5;124m'\u001b[39m\u001b[38;5;124mt yield\u001b[39m\u001b[38;5;124m\"\u001b[39m) \u001b[38;5;28;01mfrom\u001b[39;00m \u001b[38;5;28;01mNone\u001b[39;00m\n",
      "File \u001b[0;32m~/.conda/envs/channelislanders/lib/python3.9/site-packages/xarray/backends/file_manager.py:199\u001b[0m, in \u001b[0;36mCachingFileManager.acquire_context\u001b[0;34m(self, needs_lock)\u001b[0m\n\u001b[1;32m    196\u001b[0m \u001b[38;5;129m@contextlib\u001b[39m\u001b[38;5;241m.\u001b[39mcontextmanager\n\u001b[1;32m    197\u001b[0m \u001b[38;5;28;01mdef\u001b[39;00m \u001b[38;5;21macquire_context\u001b[39m(\u001b[38;5;28mself\u001b[39m, needs_lock\u001b[38;5;241m=\u001b[39m\u001b[38;5;28;01mTrue\u001b[39;00m):\n\u001b[1;32m    198\u001b[0m \u001b[38;5;250m    \u001b[39m\u001b[38;5;124;03m\"\"\"Context manager for acquiring a file.\"\"\"\u001b[39;00m\n\u001b[0;32m--> 199\u001b[0m     file, cached \u001b[38;5;241m=\u001b[39m \u001b[38;5;28;43mself\u001b[39;49m\u001b[38;5;241;43m.\u001b[39;49m\u001b[43m_acquire_with_cache_info\u001b[49m\u001b[43m(\u001b[49m\u001b[43mneeds_lock\u001b[49m\u001b[43m)\u001b[49m\n\u001b[1;32m    200\u001b[0m     \u001b[38;5;28;01mtry\u001b[39;00m:\n\u001b[1;32m    201\u001b[0m         \u001b[38;5;28;01myield\u001b[39;00m file\n",
      "File \u001b[0;32m~/.conda/envs/channelislanders/lib/python3.9/site-packages/xarray/backends/file_manager.py:217\u001b[0m, in \u001b[0;36mCachingFileManager._acquire_with_cache_info\u001b[0;34m(self, needs_lock)\u001b[0m\n\u001b[1;32m    215\u001b[0m     kwargs \u001b[38;5;241m=\u001b[39m kwargs\u001b[38;5;241m.\u001b[39mcopy()\n\u001b[1;32m    216\u001b[0m     kwargs[\u001b[38;5;124m\"\u001b[39m\u001b[38;5;124mmode\u001b[39m\u001b[38;5;124m\"\u001b[39m] \u001b[38;5;241m=\u001b[39m \u001b[38;5;28mself\u001b[39m\u001b[38;5;241m.\u001b[39m_mode\n\u001b[0;32m--> 217\u001b[0m file \u001b[38;5;241m=\u001b[39m \u001b[38;5;28;43mself\u001b[39;49m\u001b[38;5;241;43m.\u001b[39;49m\u001b[43m_opener\u001b[49m\u001b[43m(\u001b[49m\u001b[38;5;241;43m*\u001b[39;49m\u001b[38;5;28;43mself\u001b[39;49m\u001b[38;5;241;43m.\u001b[39;49m\u001b[43m_args\u001b[49m\u001b[43m,\u001b[49m\u001b[43m \u001b[49m\u001b[38;5;241;43m*\u001b[39;49m\u001b[38;5;241;43m*\u001b[39;49m\u001b[43mkwargs\u001b[49m\u001b[43m)\u001b[49m\n\u001b[1;32m    218\u001b[0m \u001b[38;5;28;01mif\u001b[39;00m \u001b[38;5;28mself\u001b[39m\u001b[38;5;241m.\u001b[39m_mode \u001b[38;5;241m==\u001b[39m \u001b[38;5;124m\"\u001b[39m\u001b[38;5;124mw\u001b[39m\u001b[38;5;124m\"\u001b[39m:\n\u001b[1;32m    219\u001b[0m     \u001b[38;5;66;03m# ensure file doesn't get overridden when opened again\u001b[39;00m\n\u001b[1;32m    220\u001b[0m     \u001b[38;5;28mself\u001b[39m\u001b[38;5;241m.\u001b[39m_mode \u001b[38;5;241m=\u001b[39m \u001b[38;5;124m\"\u001b[39m\u001b[38;5;124ma\u001b[39m\u001b[38;5;124m\"\u001b[39m\n",
      "File \u001b[0;32msrc/netCDF4/_netCDF4.pyx:2469\u001b[0m, in \u001b[0;36mnetCDF4._netCDF4.Dataset.__init__\u001b[0;34m()\u001b[0m\n",
      "File \u001b[0;32msrc/netCDF4/_netCDF4.pyx:2028\u001b[0m, in \u001b[0;36mnetCDF4._netCDF4._ensure_nc_success\u001b[0;34m()\u001b[0m\n",
      "\u001b[0;31mFileNotFoundError\u001b[0m: [Errno 2] No such file or directory: '/Users/olholt/capstone/toolkit/latlon_TEMP_subset.nc'"
     ]
    }
   ],
   "source": [
    "#load in the netcdf file created above\n",
    "latlon_TEMP_final = xr.open_dataset(\"latlon_TEMP_subset.nc\")\n",
    "\n",
    "# Initialize an empty list to store mean values for each member_id\n",
    "TEMP_means_list = []\n",
    "\n",
    "# Loop through each member_id and calculate the mean\n",
    "for member in ds_20C_TEMP.member_id:\n",
    "    member_mean = latlon_TEMP_final.sel(member_id=member).TEMP.mean(\"time\")\n",
    "    TEMP_means_list.append(member_mean)\n",
    "\n",
    "# Convert the list to an xarray DataArray (assuming member IDs are a coordinate)\n",
    "TEMP_means = xr.concat(TEMP_means_list, dim='member_id').mean('member_id')\n",
    "\n",
    "# Plot the dissolved oxygen with inverted y-axis\n",
    "plt.figure()\n",
    "TEMP_means.plot(y='z_t')\n",
    "plt.gca().invert_yaxis()\n",
    "plt.xlabel('Temperature (Degrees Celsius)')\n",
    "plt.ylabel('Depth (cm)')\n",
    "plt.title('Mean Temperature Profile')\n",
    "plt.show()"
   ]
  },
  {
   "cell_type": "markdown",
   "id": "27ab27e5-5175-4a86-bb55-a5b061ffec36",
   "metadata": {},
   "source": [
    "### Plotting Tempertaure for RCP8.5 run (2006-2100)"
   ]
  },
  {
   "cell_type": "code",
   "execution_count": 1,
   "id": "d89e305b-3c5a-45ec-8c5e-94be8575d2ce",
   "metadata": {
    "tags": []
   },
   "outputs": [
    {
     "ename": "NameError",
     "evalue": "name 'xr' is not defined",
     "output_type": "error",
     "traceback": [
      "\u001b[0;31m---------------------------------------------------------------------------\u001b[0m",
      "\u001b[0;31mNameError\u001b[0m                                 Traceback (most recent call last)",
      "Cell \u001b[0;32mIn[1], line 2\u001b[0m\n\u001b[1;32m      1\u001b[0m \u001b[38;5;66;03m# Load in the netcdf file created above\u001b[39;00m\n\u001b[0;32m----> 2\u001b[0m latlon_TEMP_final_rcp \u001b[38;5;241m=\u001b[39m \u001b[43mxr\u001b[49m\u001b[38;5;241m.\u001b[39mopen_dataset(\u001b[38;5;124m\"\u001b[39m\u001b[38;5;124mlatlon_TEMP_subset_rcp.nc\u001b[39m\u001b[38;5;124m\"\u001b[39m)\n\u001b[1;32m      4\u001b[0m \u001b[38;5;66;03m# Initialize an empty list to store mean values for each member_id\u001b[39;00m\n\u001b[1;32m      5\u001b[0m TEMP_means_list_rcp \u001b[38;5;241m=\u001b[39m []\n",
      "\u001b[0;31mNameError\u001b[0m: name 'xr' is not defined"
     ]
    }
   ],
   "source": [
    "# Load in the netcdf file created above\n",
    "latlon_TEMP_final_rcp = xr.open_dataset(\"latlon_TEMP_subset_rcp.nc\")\n",
    "\n",
    "# Initialize an empty list to store mean values for each member_id\n",
    "TEMP_means_list_rcp = []\n",
    "\n",
    "# Loop through each member_id and calculate the mean\n",
    "for member in latlon_TEMP_final_rcp.member_id:\n",
    "    member_mean_rcp = latlon_TEMP_final_rcp.sel(member_id=member).TEMP.mean(\"time\")\n",
    "    TEMP_means_list_rcp.append(member_mean_rcp)\n",
    "\n",
    "# Convert the list to an xarray DataArray (assuming member IDs are a coordinate)\n",
    "TEMP_means_rcp = xr.concat(TEMP_means_list_rcp, dim='member_id').mean('member_id')\n",
    "\n",
    "# Plot the dissolved oxygen with inverted y-axis\n",
    "plt.figure()\n",
    "TEMP_means_rcp.plot(y='z_t')\n",
    "plt.gca().invert_yaxis()\n",
    "plt.xlabel('Temperature (Degrees Celsius)')\n",
    "plt.ylabel('Depth (cm)')\n",
    "plt.title('Mean Temperature Profile for RCP8.5')\n",
    "plt.show()\n"
   ]
  },
  {
   "cell_type": "markdown",
   "id": "f51037b5-205d-46f4-8435-1b22a3f3fed0",
   "metadata": {},
   "source": [
    "### Plotting Dissolved Oxygen for 20C run (1920-2005)"
   ]
  },
  {
   "cell_type": "code",
   "execution_count": null,
   "id": "0ab5e5ae-be8a-42ba-90b5-aced8add5055",
   "metadata": {},
   "outputs": [],
   "source": [
    "#load in the netcdf file created above\n",
    "latlon_O2_final = xr.open_dataset(\"latlon_O2_subset.nc\")\n",
    "\n",
    "# Initialize an empty list to store mean values for each member_id\n",
    "O2_means_list = []\n",
    "\n",
    "# Loop through each member_id and calculate the mean\n",
    "for member in ds_20C_O2.member_id:\n",
    "    member_mean = latlon_O2_final.sel(member_id=member).O2.mean(\"time\")\n",
    "    O2_means_list.append(member_mean)\n",
    "\n",
    "# Convert the list to an xarray DataArray (assuming member IDs are a coordinate)\n",
    "O2_means = xr.concat(O2_means_list, dim='member_id').mean('member_id')\n",
    "\n",
    "# Plot the dissolved oxygen with inverted y-axis\n",
    "plt.figure()\n",
    "O2_means.plot(y='z_t')\n",
    "plt.gca().invert_yaxis()\n",
    "plt.xlabel('O2 (mmol/m^3)')\n",
    "plt.ylabel('Depth (cm)')\n",
    "plt.title('Mean O2 Profile')\n",
    "plt.show()"
   ]
  },
  {
   "cell_type": "markdown",
   "id": "b103dcaf-bde4-419d-b0db-44b6e7b5f916",
   "metadata": {},
   "source": [
    "### Plotting Dissolved Oxygen for RCP8.5 run (2006-2100)"
   ]
  },
  {
   "cell_type": "code",
   "execution_count": null,
   "id": "495115e3-fed8-4328-8231-d51fa2c8e6d9",
   "metadata": {
    "tags": []
   },
   "outputs": [],
   "source": [
    "# Initialize an empty list to store mean values for each member_id\n",
    "O2_means_list_2 = []\n",
    "\n",
    "# Loop through each member_id and calculate the mean\n",
    "for member in ds_RCP85_O2.member_id:\n",
    "    member_mean = latlon_subset_RCP85_O2.sel(member_id=member).TEMP.mean(\"time\")\n",
    "    O2_means_list_2.append(member_mean)\n",
    "\n",
    "# Convert the list to an xarray DataArray (assuming member IDs are a coordinate)\n",
    "O2_means_2 = xr.concat(O2_means_list_2, dim='member_id').mean('member_id')\n",
    "\n",
    "# Plot the dissolved oxygen with inverted y-axis\n",
    "plt.figure()\n",
    "O2_means_2.plot(y='z_t')\n",
    "plt.gca().invert_yaxis()\n",
    "plt.xlabel('Dissolved Oxygen (mmol/m^3)')\n",
    "plt.ylabel('Depth (cm)')\n",
    "plt.title('Mean Dissolved Oxygen Vertical Profile')\n",
    "plt.show()"
   ]
  },
  {
   "cell_type": "markdown",
   "id": "ad55e138-e329-48a2-a537-036bb54f64f7",
   "metadata": {},
   "source": [
    "### Plotting Salinity for 20C run (1920-2005)"
   ]
  },
  {
   "cell_type": "code",
   "execution_count": null,
   "id": "9da9479d-084d-476c-9428-1207f3131761",
   "metadata": {},
   "outputs": [],
   "source": [
    "#load in the netcdf file created above\n",
    "latlon_SALT_final = xr.open_dataset(\"latlon_SALT_subset.nc\")\n",
    "\n",
    "# Initialize an empty list to store mean values for each member_id\n",
    "SALT_means_list = []\n",
    "\n",
    "# Loop through each member_id and calculate the mean\n",
    "for member in ds_20C_SALT.member_id:\n",
    "    member_mean = latlon_SALT_final.sel(member_id=member).SALT.mean(\"time\")\n",
    "    SALT_means_list.append(member_mean)\n",
    "\n",
    "# Convert the list to an xarray DataArray (assuming member IDs are a coordinate)\n",
    "SALT_means = xr.concat(SALT_means_list, dim='member_id').mean('member_id')\n",
    "\n",
    "# Plot the dissolved oxygen with inverted y-axis\n",
    "plt.figure()\n",
    "SALT_means.plot(y='z_t')\n",
    "plt.gca().invert_yaxis()\n",
    "plt.xlabel('Salinity (g/kg)')\n",
    "plt.ylabel('Depth (cm)')\n",
    "plt.title('Mean Salinity Profile')\n",
    "plt.show()"
   ]
  },
  {
   "cell_type": "markdown",
   "id": "9a25c6b1-ba31-46b8-8868-00b4584bee67",
   "metadata": {},
   "source": [
    "### Plotting Salinity for RCP8.5 run (2006-2100)"
   ]
  },
  {
   "cell_type": "code",
   "execution_count": null,
   "id": "ecf705a4-4e2e-4e70-badd-0a0370a03c95",
   "metadata": {},
   "outputs": [],
   "source": [
    "# Initialize an empty list to store mean values for each member_id\n",
    "SALT_means_list = []\n",
    "\n",
    "# Loop through each member_id and calculate the mean\n",
    "for member in ds_RCP85_SALT.member_id:\n",
    "    member_mean = latlon_subset_RCP85_SALT.sel(member_id=member).TEMP.mean(\"time\")\n",
    "    SALT_means_list.append(member_mean)\n",
    "\n",
    "# Convert the list to an xarray DataArray (assuming member IDs are a coordinate)\n",
    "SALT_means = xr.concat(SALT_means_list, dim='member_id').mean('member_id')\n",
    "\n",
    "# Plot the salinity with inverted y-axis\n",
    "plt.figure()\n",
    "SALT_means.plot(y='z_t')\n",
    "plt.gca().invert_yaxis()\n",
    "plt.xlabel('Salinity (g/kg)')\n",
    "plt.ylabel('Depth (cm)')\n",
    "plt.title('Mean Salinity Vertical Profile')\n",
    "plt.show()"
   ]
  },
  {
   "cell_type": "code",
   "execution_count": null,
   "id": "ecb97b89-504f-488a-aeb4-2db299d70335",
   "metadata": {},
   "outputs": [],
   "source": []
  }
 ],
 "metadata": {
  "kernelspec": {
   "display_name": "channelislanders",
   "language": "python",
   "name": "channelislanders"
  },
  "language_info": {
   "codemirror_mode": {
    "name": "ipython",
    "version": 3
   },
   "file_extension": ".py",
   "mimetype": "text/x-python",
   "name": "python",
   "nbconvert_exporter": "python",
   "pygments_lexer": "ipython3",
   "version": "3.9.18"
  }
 },
 "nbformat": 4,
 "nbformat_minor": 5
}
