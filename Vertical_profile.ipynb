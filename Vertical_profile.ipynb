{
 "cells": [
  {
   "cell_type": "markdown",
   "id": "d954b9e3-ea3b-470a-81ee-09306ef95dd5",
   "metadata": {},
   "source": [
    "# Educational Toolkit for Plotting Vertical Profiles"
   ]
  },
  {
   "cell_type": "markdown",
   "id": "a5df7942-a7f9-4bad-991c-499d49acff56",
   "metadata": {},
   "source": [
    "## Vertical Profile info:\n",
    "This is an educational toolkit to demonstrate how to plot the CESM1 data as a vertical profile.\n",
    "Vertical profiles are a vertical trend chart that display a parameter measured at a specified depth, location, and time frame. In this notebook, we will be covering how to create vertical profiles plot for the historic and future projected data using `matplotlib`."
   ]
  },
  {
   "cell_type": "markdown",
   "id": "8f7ff909-fd37-474e-b7a6-659495f4406f",
   "metadata": {},
   "source": [
    "### Background information\n",
    "\n",
    "#### Overview of Amazon Web Services (AWS)\n",
    "`Amazon Web Services (AWS)` is a comprehensive and widely adopted cloud platform that offers over 200 fully-featured services from data centers globally. `AWS` provides a variety of services including computing power, storage, and databases, which can be scaled up or down depending on the user’s needs. These services help organizations lower their IT costs, improve performance, and innovate faster.\n",
    "\n",
    "`AWS` is widely used across industries such as healthcare, finance, retail, and education due to its reliability, flexibility, and comprehensive suite of tools and services. This makes it an excellent choice for businesses looking to leverage cloud computing to enhance their operations and innovation capabilities.\n",
    "\n",
    "##### Overview of Xarray and APIs\n",
    "`Xarray` is a powerful Python library for handling multi-dimensional arrays, often used in atmospheric, oceanographic, and climate sciences. It provides a high-level API for managing labeled data, making it easy to perform complex operations on large datasets.\n",
    "\n",
    "`APIs` (Application Programming Interfaces) allow different software applications to communicate with each other. In the context of data science, APIs provide access to various datasets and services over the internet, enabling seamless data retrieval and manipulation.\n",
    "\n",
    "This tutorial will guide you through using Xarray and other libraries to analyze climate data from the CESM1 Large Ensemble dataset."
   ]
  },
  {
   "cell_type": "markdown",
   "id": "ef8ebf94-8949-46ea-8f63-63ca70a05dcb",
   "metadata": {},
   "source": [
    "### CESM1 Large Ensemble\n",
    "This portion of the notebook will detail how to get access to the CESM1 large Ensemble dataset, which is hosted on Amazon Web Services. Since it is hosted on Amazon Web services, the users accessing this data will not have to create a separate account. More information on the details of this dataset can be found [here](https://ncar.github.io/cesm-lens-aws/) which is also briefly discussed below. Directions will be followed very similarly to a NCAR repository labeled [CESM LENS on AWS](https://github.com/NCAR/cesm-lens-aws).\n",
    "\n",
    "This has been modified to also include functionality to load a zarr-format grid file containing the latitude and longitude information for CESM1, which for some reason are not included in the data files.\n",
    "\n",
    "Things to note about the data we are accessing:\n",
    "\n",
    "- The notebook will be accessing the Ocean model for CESM1\n",
    "- Because of this the grid file used here is only for OCEAN variables; the atmosphere and land variables have different lat and lon information.\n",
    "- For most ocean variables, latitude and longitude are called \"TLAT\" and \"TLONG\".\n",
    "- This notebook will only be looking at a few variables as an example. If you are inclined to view other variables, a whole list can be found [here](https://www.cesm.ucar.edu/community-projects/lens/data-sets)\n",
    "\n",
    "\n",
    "To first open connection to where the files are housed, we need to open the connection by using the `intake` function"
   ]
  },
  {
   "cell_type": "markdown",
   "id": "3dc2cb66-6b44-410b-91d7-f9e3c8fbac1e",
   "metadata": {},
   "source": [
    "### Data Access\n",
    "This notebook uses information from a notebook from the NCAR organization that can be found [here](https://ncar.github.io/CESM-Tutorial/notebooks/diagnostics/clm_ctsm/basics_clm.html#first-calculate-the-land-weights). To properly ensure you have the correct packages installed to correctly access the data, make sure to view the .README for this repository found [here](https://github.com/Channelislanders/toolkit).\n",
    "\n",
    "Here we are:\n",
    "- Accessing the OCN model dataset with RCP 8.5 and 20C runs. RCP 8.5 runs are the 'worst case scenario' runs, looking at years from 2000 to 2100. 20C runs are present day runs, looking at years from 1920 to 2000\n",
    "- Narrowing down the columns to specific variables we aim to access. In this case, example variables can be dissolved oxygen, salinity, nutrients, and temperature (sea surface or below)\n",
    "\n",
    "For example:\n",
    "```\n",
    "col_ocntemp = col.search(\n",
    "    frequency=[\"monthly\"],\n",
    "    component=\"ocn\",\n",
    "    variable=\"TEMP\",\n",
    "    experiment=[\"20C\", \"RCP85\"],  \n",
    ")\n",
    "```\n",
    "In this example, we are looking for monthly data, with the component 'ocn', finding the variable 'TEMP' and locating the two experiments, 20C and RCP85.\n",
    "\n",
    "\n",
    "\n",
    "This section works similar to accessing other catalogs. In this notebook, we will be using Zarr. More information on the library below.\n",
    "https://zarr.readthedocs.io/en/stable/"
   ]
  },
  {
   "cell_type": "markdown",
   "id": "1c9ef6e8-49db-4539-acf3-87b9c12f58fc",
   "metadata": {},
   "source": [
    "### Setup and Import Packages\n",
    "\n",
    "First, we need to import the necessary libraries for our analysis. Open a new JupyterLab notebook and execute the following code:"
   ]
  },
  {
   "cell_type": "code",
   "execution_count": 11,
   "id": "d02028cd-d41a-4cc1-a285-abf0bf2b0b37",
   "metadata": {
    "tags": []
   },
   "outputs": [],
   "source": [
    "# Import necessary libraries for data analysis and visualization\n",
    "import matplotlib.pyplot as plt\n",
    "from cartopy import crs as ccrs, feature as cfeature\n",
    "import xarray as xr\n",
    "import pandas as pd\n",
    "import numpy as np\n",
    "from rasterio import mask\n",
    "\n",
    "# Import additional libraries needed for working with CESM1 data\n",
    "import pprint\n",
    "import intake\n",
    "import requests\n",
    "import aiohttp\n",
    "import s3fs"
   ]
  },
  {
   "cell_type": "markdown",
   "id": "0e7e10e7-431d-40d4-98db-b2e19bb2b9a3",
   "metadata": {},
   "source": [
    "### Load the CESM1 LENS Catalog\n",
    "\n",
    "We start by loading the CESM1 LENS (Community Earth System Model Large Ensemble) catalog using the `intake` library:"
   ]
  },
  {
   "cell_type": "code",
   "execution_count": 12,
   "id": "d85cb3fb-a1ab-4810-94b6-9e43fe35b78b",
   "metadata": {
    "tags": []
   },
   "outputs": [
    {
     "data": {
      "text/html": [
       "<p><strong>aws-cesm1-le catalog with 56 dataset(s) from 442 asset(s)</strong>:</p> <div>\n",
       "<style scoped>\n",
       "    .dataframe tbody tr th:only-of-type {\n",
       "        vertical-align: middle;\n",
       "    }\n",
       "\n",
       "    .dataframe tbody tr th {\n",
       "        vertical-align: top;\n",
       "    }\n",
       "\n",
       "    .dataframe thead th {\n",
       "        text-align: right;\n",
       "    }\n",
       "</style>\n",
       "<table border=\"1\" class=\"dataframe\">\n",
       "  <thead>\n",
       "    <tr style=\"text-align: right;\">\n",
       "      <th></th>\n",
       "      <th>unique</th>\n",
       "    </tr>\n",
       "  </thead>\n",
       "  <tbody>\n",
       "    <tr>\n",
       "      <th>variable</th>\n",
       "      <td>78</td>\n",
       "    </tr>\n",
       "    <tr>\n",
       "      <th>long_name</th>\n",
       "      <td>75</td>\n",
       "    </tr>\n",
       "    <tr>\n",
       "      <th>component</th>\n",
       "      <td>5</td>\n",
       "    </tr>\n",
       "    <tr>\n",
       "      <th>experiment</th>\n",
       "      <td>4</td>\n",
       "    </tr>\n",
       "    <tr>\n",
       "      <th>frequency</th>\n",
       "      <td>6</td>\n",
       "    </tr>\n",
       "    <tr>\n",
       "      <th>vertical_levels</th>\n",
       "      <td>3</td>\n",
       "    </tr>\n",
       "    <tr>\n",
       "      <th>spatial_domain</th>\n",
       "      <td>5</td>\n",
       "    </tr>\n",
       "    <tr>\n",
       "      <th>units</th>\n",
       "      <td>25</td>\n",
       "    </tr>\n",
       "    <tr>\n",
       "      <th>start_time</th>\n",
       "      <td>12</td>\n",
       "    </tr>\n",
       "    <tr>\n",
       "      <th>end_time</th>\n",
       "      <td>13</td>\n",
       "    </tr>\n",
       "    <tr>\n",
       "      <th>path</th>\n",
       "      <td>427</td>\n",
       "    </tr>\n",
       "    <tr>\n",
       "      <th>derived_variable</th>\n",
       "      <td>0</td>\n",
       "    </tr>\n",
       "  </tbody>\n",
       "</table>\n",
       "</div>"
      ],
      "text/plain": [
       "<IPython.core.display.HTML object>"
      ]
     },
     "metadata": {},
     "output_type": "display_data"
    }
   ],
   "source": [
    "# Open original collection description file: CESM1 LENS\n",
    "cat_url = \"https://ncar-cesm-lens.s3-us-west-2.amazonaws.com/catalogs/aws-cesm1-le.json\"\n",
    "col = intake.open_esm_datastore(cat_url)  # Open the original collection description file: CESM1 LENS\n",
    "col  # Display the collection\n"
   ]
  },
  {
   "cell_type": "markdown",
   "id": "8ad52f66-23d1-4d17-9fda-d96a96f9e29a",
   "metadata": {},
   "source": [
    "## Data Exploration"
   ]
  },
  {
   "cell_type": "markdown",
   "id": "3c1956cf-3102-4599-9974-b0dd4e52f5b6",
   "metadata": {},
   "source": [
    "### Search for Variables\n",
    "\n",
    "Let's search for the sea surface temperature (TEMP) variable and display the first few entries in the resulting data frame:"
   ]
  },
  {
   "cell_type": "code",
   "execution_count": 13,
   "id": "172c511c-c6ff-4196-8d06-1ab90d4f4245",
   "metadata": {
    "tags": []
   },
   "outputs": [
    {
     "data": {
      "text/html": [
       "<div>\n",
       "<style scoped>\n",
       "    .dataframe tbody tr th:only-of-type {\n",
       "        vertical-align: middle;\n",
       "    }\n",
       "\n",
       "    .dataframe tbody tr th {\n",
       "        vertical-align: top;\n",
       "    }\n",
       "\n",
       "    .dataframe thead th {\n",
       "        text-align: right;\n",
       "    }\n",
       "</style>\n",
       "<table border=\"1\" class=\"dataframe\">\n",
       "  <thead>\n",
       "    <tr style=\"text-align: right;\">\n",
       "      <th></th>\n",
       "      <th>variable</th>\n",
       "      <th>long_name</th>\n",
       "      <th>component</th>\n",
       "      <th>experiment</th>\n",
       "      <th>frequency</th>\n",
       "      <th>vertical_levels</th>\n",
       "      <th>spatial_domain</th>\n",
       "      <th>units</th>\n",
       "      <th>start_time</th>\n",
       "      <th>end_time</th>\n",
       "      <th>path</th>\n",
       "    </tr>\n",
       "  </thead>\n",
       "  <tbody>\n",
       "    <tr>\n",
       "      <th>0</th>\n",
       "      <td>TEMP</td>\n",
       "      <td>potential temperature</td>\n",
       "      <td>ocn</td>\n",
       "      <td>20C</td>\n",
       "      <td>monthly</td>\n",
       "      <td>60.0</td>\n",
       "      <td>global_ocean</td>\n",
       "      <td>degC</td>\n",
       "      <td>1920-01-16 12:00:00</td>\n",
       "      <td>2005-12-16 12:00:00</td>\n",
       "      <td>s3://ncar-cesm-lens/ocn/monthly/cesmLE-20C-TEM...</td>\n",
       "    </tr>\n",
       "    <tr>\n",
       "      <th>1</th>\n",
       "      <td>TEMP</td>\n",
       "      <td>potential temperature</td>\n",
       "      <td>ocn</td>\n",
       "      <td>CTRL</td>\n",
       "      <td>monthly</td>\n",
       "      <td>60.0</td>\n",
       "      <td>global_ocean</td>\n",
       "      <td>degC</td>\n",
       "      <td>0400-01-16 12:00:00</td>\n",
       "      <td>2200-12-16 12:00:00</td>\n",
       "      <td>s3://ncar-cesm-lens/ocn/monthly/cesmLE-CTRL-TE...</td>\n",
       "    </tr>\n",
       "    <tr>\n",
       "      <th>2</th>\n",
       "      <td>TEMP</td>\n",
       "      <td>potential temperature</td>\n",
       "      <td>ocn</td>\n",
       "      <td>HIST</td>\n",
       "      <td>monthly</td>\n",
       "      <td>60.0</td>\n",
       "      <td>global_ocean</td>\n",
       "      <td>degC</td>\n",
       "      <td>1850-01-16 12:00:00</td>\n",
       "      <td>1919-12-16 12:00:00</td>\n",
       "      <td>s3://ncar-cesm-lens/ocn/monthly/cesmLE-HIST-TE...</td>\n",
       "    </tr>\n",
       "    <tr>\n",
       "      <th>3</th>\n",
       "      <td>TEMP</td>\n",
       "      <td>potential temperature</td>\n",
       "      <td>ocn</td>\n",
       "      <td>RCP85</td>\n",
       "      <td>monthly</td>\n",
       "      <td>60.0</td>\n",
       "      <td>global_ocean</td>\n",
       "      <td>degC</td>\n",
       "      <td>2006-01-16 12:00:00</td>\n",
       "      <td>2100-12-16 12:00:00</td>\n",
       "      <td>s3://ncar-cesm-lens/ocn/monthly/cesmLE-RCP85-T...</td>\n",
       "    </tr>\n",
       "  </tbody>\n",
       "</table>\n",
       "</div>"
      ],
      "text/plain": [
       "  variable              long_name component experiment frequency  \\\n",
       "0     TEMP  potential temperature       ocn        20C   monthly   \n",
       "1     TEMP  potential temperature       ocn       CTRL   monthly   \n",
       "2     TEMP  potential temperature       ocn       HIST   monthly   \n",
       "3     TEMP  potential temperature       ocn      RCP85   monthly   \n",
       "\n",
       "   vertical_levels spatial_domain units           start_time  \\\n",
       "0             60.0   global_ocean  degC  1920-01-16 12:00:00   \n",
       "1             60.0   global_ocean  degC  0400-01-16 12:00:00   \n",
       "2             60.0   global_ocean  degC  1850-01-16 12:00:00   \n",
       "3             60.0   global_ocean  degC  2006-01-16 12:00:00   \n",
       "\n",
       "              end_time                                               path  \n",
       "0  2005-12-16 12:00:00  s3://ncar-cesm-lens/ocn/monthly/cesmLE-20C-TEM...  \n",
       "1  2200-12-16 12:00:00  s3://ncar-cesm-lens/ocn/monthly/cesmLE-CTRL-TE...  \n",
       "2  1919-12-16 12:00:00  s3://ncar-cesm-lens/ocn/monthly/cesmLE-HIST-TE...  \n",
       "3  2100-12-16 12:00:00  s3://ncar-cesm-lens/ocn/monthly/cesmLE-RCP85-T...  "
      ]
     },
     "execution_count": 13,
     "metadata": {},
     "output_type": "execute_result"
    }
   ],
   "source": [
    "# Search for the sea surface variable, display the first few entries in the resulting data frame\n",
    "col.search(variable=\"TEMP\").df"
   ]
  },
  {
   "cell_type": "markdown",
   "id": "2b7397a2-673c-4e88-988c-82272e3eeaff",
   "metadata": {},
   "source": [
    "Next, search for the experiments and variables we want to work with at a monthly frequency:"
   ]
  },
  {
   "cell_type": "code",
   "execution_count": 14,
   "id": "3f383419-5c67-48de-a28c-46b80441f759",
   "metadata": {
    "tags": []
   },
   "outputs": [
    {
     "data": {
      "text/html": [
       "<div>\n",
       "<style scoped>\n",
       "    .dataframe tbody tr th:only-of-type {\n",
       "        vertical-align: middle;\n",
       "    }\n",
       "\n",
       "    .dataframe tbody tr th {\n",
       "        vertical-align: top;\n",
       "    }\n",
       "\n",
       "    .dataframe thead th {\n",
       "        text-align: right;\n",
       "    }\n",
       "</style>\n",
       "<table border=\"1\" class=\"dataframe\">\n",
       "  <thead>\n",
       "    <tr style=\"text-align: right;\">\n",
       "      <th></th>\n",
       "      <th>variable</th>\n",
       "      <th>long_name</th>\n",
       "      <th>component</th>\n",
       "      <th>experiment</th>\n",
       "      <th>frequency</th>\n",
       "      <th>vertical_levels</th>\n",
       "      <th>spatial_domain</th>\n",
       "      <th>units</th>\n",
       "      <th>start_time</th>\n",
       "      <th>end_time</th>\n",
       "      <th>path</th>\n",
       "    </tr>\n",
       "  </thead>\n",
       "  <tbody>\n",
       "    <tr>\n",
       "      <th>0</th>\n",
       "      <td>O2</td>\n",
       "      <td>dissolved oxygen</td>\n",
       "      <td>ocn</td>\n",
       "      <td>20C</td>\n",
       "      <td>monthly</td>\n",
       "      <td>60.0</td>\n",
       "      <td>global_ocean</td>\n",
       "      <td>mmol/m^3</td>\n",
       "      <td>1920-01-16 12:00:00</td>\n",
       "      <td>2005-12-16 12:00:00</td>\n",
       "      <td>s3://ncar-cesm-lens/ocn/monthly/cesmLE-20C-O2....</td>\n",
       "    </tr>\n",
       "    <tr>\n",
       "      <th>1</th>\n",
       "      <td>SALT</td>\n",
       "      <td>salinity</td>\n",
       "      <td>ocn</td>\n",
       "      <td>20C</td>\n",
       "      <td>monthly</td>\n",
       "      <td>60.0</td>\n",
       "      <td>global_ocean</td>\n",
       "      <td>gram/kilogram</td>\n",
       "      <td>1920-01-16 12:00:00</td>\n",
       "      <td>2005-12-16 12:00:00</td>\n",
       "      <td>s3://ncar-cesm-lens/ocn/monthly/cesmLE-20C-SAL...</td>\n",
       "    </tr>\n",
       "    <tr>\n",
       "      <th>2</th>\n",
       "      <td>SST</td>\n",
       "      <td>potential temperature</td>\n",
       "      <td>ocn</td>\n",
       "      <td>20C</td>\n",
       "      <td>monthly</td>\n",
       "      <td>1.0</td>\n",
       "      <td>global_ocean</td>\n",
       "      <td>degC</td>\n",
       "      <td>1920-01-16 12:00:00</td>\n",
       "      <td>2005-12-16 12:00:00</td>\n",
       "      <td>s3://ncar-cesm-lens/ocn/monthly/cesmLE-20C-SST...</td>\n",
       "    </tr>\n",
       "    <tr>\n",
       "      <th>3</th>\n",
       "      <td>TEMP</td>\n",
       "      <td>potential temperature</td>\n",
       "      <td>ocn</td>\n",
       "      <td>20C</td>\n",
       "      <td>monthly</td>\n",
       "      <td>60.0</td>\n",
       "      <td>global_ocean</td>\n",
       "      <td>degC</td>\n",
       "      <td>1920-01-16 12:00:00</td>\n",
       "      <td>2005-12-16 12:00:00</td>\n",
       "      <td>s3://ncar-cesm-lens/ocn/monthly/cesmLE-20C-TEM...</td>\n",
       "    </tr>\n",
       "    <tr>\n",
       "      <th>4</th>\n",
       "      <td>O2</td>\n",
       "      <td>dissolved oxygen</td>\n",
       "      <td>ocn</td>\n",
       "      <td>RCP85</td>\n",
       "      <td>monthly</td>\n",
       "      <td>60.0</td>\n",
       "      <td>global_ocean</td>\n",
       "      <td>mmol/m^3</td>\n",
       "      <td>2006-01-16 12:00:00</td>\n",
       "      <td>2100-12-16 12:00:00</td>\n",
       "      <td>s3://ncar-cesm-lens/ocn/monthly/cesmLE-RCP85-O...</td>\n",
       "    </tr>\n",
       "    <tr>\n",
       "      <th>5</th>\n",
       "      <td>SALT</td>\n",
       "      <td>salinity</td>\n",
       "      <td>ocn</td>\n",
       "      <td>RCP85</td>\n",
       "      <td>monthly</td>\n",
       "      <td>60.0</td>\n",
       "      <td>global_ocean</td>\n",
       "      <td>gram/kilogram</td>\n",
       "      <td>2006-01-16 12:00:00</td>\n",
       "      <td>2100-12-16 12:00:00</td>\n",
       "      <td>s3://ncar-cesm-lens/ocn/monthly/cesmLE-RCP85-S...</td>\n",
       "    </tr>\n",
       "    <tr>\n",
       "      <th>6</th>\n",
       "      <td>SST</td>\n",
       "      <td>potential temperature</td>\n",
       "      <td>ocn</td>\n",
       "      <td>RCP85</td>\n",
       "      <td>monthly</td>\n",
       "      <td>1.0</td>\n",
       "      <td>global_ocean</td>\n",
       "      <td>degC</td>\n",
       "      <td>2006-01-16 12:00:00</td>\n",
       "      <td>2100-12-16 12:00:00</td>\n",
       "      <td>s3://ncar-cesm-lens/ocn/monthly/cesmLE-RCP85-S...</td>\n",
       "    </tr>\n",
       "    <tr>\n",
       "      <th>7</th>\n",
       "      <td>TEMP</td>\n",
       "      <td>potential temperature</td>\n",
       "      <td>ocn</td>\n",
       "      <td>RCP85</td>\n",
       "      <td>monthly</td>\n",
       "      <td>60.0</td>\n",
       "      <td>global_ocean</td>\n",
       "      <td>degC</td>\n",
       "      <td>2006-01-16 12:00:00</td>\n",
       "      <td>2100-12-16 12:00:00</td>\n",
       "      <td>s3://ncar-cesm-lens/ocn/monthly/cesmLE-RCP85-T...</td>\n",
       "    </tr>\n",
       "  </tbody>\n",
       "</table>\n",
       "</div>"
      ],
      "text/plain": [
       "  variable              long_name component experiment frequency  \\\n",
       "0       O2       dissolved oxygen       ocn        20C   monthly   \n",
       "1     SALT               salinity       ocn        20C   monthly   \n",
       "2      SST  potential temperature       ocn        20C   monthly   \n",
       "3     TEMP  potential temperature       ocn        20C   monthly   \n",
       "4       O2       dissolved oxygen       ocn      RCP85   monthly   \n",
       "5     SALT               salinity       ocn      RCP85   monthly   \n",
       "6      SST  potential temperature       ocn      RCP85   monthly   \n",
       "7     TEMP  potential temperature       ocn      RCP85   monthly   \n",
       "\n",
       "   vertical_levels spatial_domain          units           start_time  \\\n",
       "0             60.0   global_ocean       mmol/m^3  1920-01-16 12:00:00   \n",
       "1             60.0   global_ocean  gram/kilogram  1920-01-16 12:00:00   \n",
       "2              1.0   global_ocean           degC  1920-01-16 12:00:00   \n",
       "3             60.0   global_ocean           degC  1920-01-16 12:00:00   \n",
       "4             60.0   global_ocean       mmol/m^3  2006-01-16 12:00:00   \n",
       "5             60.0   global_ocean  gram/kilogram  2006-01-16 12:00:00   \n",
       "6              1.0   global_ocean           degC  2006-01-16 12:00:00   \n",
       "7             60.0   global_ocean           degC  2006-01-16 12:00:00   \n",
       "\n",
       "              end_time                                               path  \n",
       "0  2005-12-16 12:00:00  s3://ncar-cesm-lens/ocn/monthly/cesmLE-20C-O2....  \n",
       "1  2005-12-16 12:00:00  s3://ncar-cesm-lens/ocn/monthly/cesmLE-20C-SAL...  \n",
       "2  2005-12-16 12:00:00  s3://ncar-cesm-lens/ocn/monthly/cesmLE-20C-SST...  \n",
       "3  2005-12-16 12:00:00  s3://ncar-cesm-lens/ocn/monthly/cesmLE-20C-TEM...  \n",
       "4  2100-12-16 12:00:00  s3://ncar-cesm-lens/ocn/monthly/cesmLE-RCP85-O...  \n",
       "5  2100-12-16 12:00:00  s3://ncar-cesm-lens/ocn/monthly/cesmLE-RCP85-S...  \n",
       "6  2100-12-16 12:00:00  s3://ncar-cesm-lens/ocn/monthly/cesmLE-RCP85-S...  \n",
       "7  2100-12-16 12:00:00  s3://ncar-cesm-lens/ocn/monthly/cesmLE-RCP85-T...  "
      ]
     },
     "execution_count": 14,
     "metadata": {},
     "output_type": "execute_result"
    }
   ],
   "source": [
    "# the experiments and variables we want to work with at a monthly frequency\n",
    "col.search(experiment = [\"RCP85\", \"20C\"], frequency = \"monthly\", variable = [\"O2\",\"SALT\",\"TEMP\",\"SST\"]).df"
   ]
  },
  {
   "cell_type": "markdown",
   "id": "3d4948cb-da39-4cc8-81c8-4c2b7af70be6",
   "metadata": {},
   "source": [
    "### Detailed Search for Monthly Output\n",
    "\n",
    "Perform a more detailed search for monthly output for the 20th century and RCP8.5 scenarios:"
   ]
  },
  {
   "cell_type": "code",
   "execution_count": 15,
   "id": "37960578-6fb0-4945-b284-e03727b89574",
   "metadata": {
    "tags": []
   },
   "outputs": [
    {
     "name": "stdout",
     "output_type": "stream",
     "text": [
      "{'TEMP': <aws-cesm1-le catalog with 2 dataset(s) from 2 asset(s)>, 'SALT': <aws-cesm1-le catalog with 2 dataset(s) from 2 asset(s)>, 'O2': <aws-cesm1-le catalog with 2 dataset(s) from 2 asset(s)>}\n"
     ]
    }
   ],
   "source": [
    "variables = [\"TEMP\", \"SALT\", \"O2\"]# List of cariables to search for\n",
    "col_ocn = {} # Initialize an empty dictionary to store search results\n",
    "\n",
    "# Loop through each variable to perform the search and store the results\n",
    "for var in variables:\n",
    "    col_ocn[f\"{var}\"] = col.search(\n",
    "        frequency=[\"monthly\"],\n",
    "        component=\"ocn\",\n",
    "        variable=var,\n",
    "        experiment=[\"20C\", \"RCP85\"],\n",
    "    )\n",
    "\n",
    "print(col_ocn) # Print the search results"
   ]
  },
  {
   "cell_type": "markdown",
   "id": "533a37ca-7e01-43ae-903e-8d72e5f8de04",
   "metadata": {},
   "source": [
    "Display the first few entries in the resulting data frames:"
   ]
  },
  {
   "cell_type": "code",
   "execution_count": 16,
   "id": "e8280295-a5cb-4ff0-a822-adfbc865458c",
   "metadata": {
    "tags": []
   },
   "outputs": [
    {
     "data": {
      "text/html": [
       "<div>\n",
       "<style scoped>\n",
       "    .dataframe tbody tr th:only-of-type {\n",
       "        vertical-align: middle;\n",
       "    }\n",
       "\n",
       "    .dataframe tbody tr th {\n",
       "        vertical-align: top;\n",
       "    }\n",
       "\n",
       "    .dataframe thead th {\n",
       "        text-align: right;\n",
       "    }\n",
       "</style>\n",
       "<table border=\"1\" class=\"dataframe\">\n",
       "  <thead>\n",
       "    <tr style=\"text-align: right;\">\n",
       "      <th></th>\n",
       "      <th>variable</th>\n",
       "      <th>long_name</th>\n",
       "      <th>component</th>\n",
       "      <th>experiment</th>\n",
       "      <th>frequency</th>\n",
       "      <th>vertical_levels</th>\n",
       "      <th>spatial_domain</th>\n",
       "      <th>units</th>\n",
       "      <th>start_time</th>\n",
       "      <th>end_time</th>\n",
       "      <th>path</th>\n",
       "    </tr>\n",
       "  </thead>\n",
       "  <tbody>\n",
       "    <tr>\n",
       "      <th>0</th>\n",
       "      <td>O2</td>\n",
       "      <td>dissolved oxygen</td>\n",
       "      <td>ocn</td>\n",
       "      <td>20C</td>\n",
       "      <td>monthly</td>\n",
       "      <td>60.0</td>\n",
       "      <td>global_ocean</td>\n",
       "      <td>mmol/m^3</td>\n",
       "      <td>1920-01-16 12:00:00</td>\n",
       "      <td>2005-12-16 12:00:00</td>\n",
       "      <td>s3://ncar-cesm-lens/ocn/monthly/cesmLE-20C-O2....</td>\n",
       "    </tr>\n",
       "    <tr>\n",
       "      <th>1</th>\n",
       "      <td>O2</td>\n",
       "      <td>dissolved oxygen</td>\n",
       "      <td>ocn</td>\n",
       "      <td>RCP85</td>\n",
       "      <td>monthly</td>\n",
       "      <td>60.0</td>\n",
       "      <td>global_ocean</td>\n",
       "      <td>mmol/m^3</td>\n",
       "      <td>2006-01-16 12:00:00</td>\n",
       "      <td>2100-12-16 12:00:00</td>\n",
       "      <td>s3://ncar-cesm-lens/ocn/monthly/cesmLE-RCP85-O...</td>\n",
       "    </tr>\n",
       "  </tbody>\n",
       "</table>\n",
       "</div>"
      ],
      "text/plain": [
       "  variable         long_name component experiment frequency  vertical_levels  \\\n",
       "0       O2  dissolved oxygen       ocn        20C   monthly             60.0   \n",
       "1       O2  dissolved oxygen       ocn      RCP85   monthly             60.0   \n",
       "\n",
       "  spatial_domain     units           start_time             end_time  \\\n",
       "0   global_ocean  mmol/m^3  1920-01-16 12:00:00  2005-12-16 12:00:00   \n",
       "1   global_ocean  mmol/m^3  2006-01-16 12:00:00  2100-12-16 12:00:00   \n",
       "\n",
       "                                                path  \n",
       "0  s3://ncar-cesm-lens/ocn/monthly/cesmLE-20C-O2....  \n",
       "1  s3://ncar-cesm-lens/ocn/monthly/cesmLE-RCP85-O...  "
      ]
     },
     "execution_count": 16,
     "metadata": {},
     "output_type": "execute_result"
    }
   ],
   "source": [
    "col_ocn[\"TEMP\"].df\n",
    "col_ocn[\"SALT\"].df\n",
    "col_ocn[\"O2\"].df"
   ]
  },
  {
   "cell_type": "markdown",
   "id": "edbd9181-a0ca-4b8a-9819-0f25061ab290",
   "metadata": {},
   "source": [
    "## Data Wrangling"
   ]
  },
  {
   "cell_type": "markdown",
   "id": "01ad9664-023f-4b23-bfc7-7d8196ff5458",
   "metadata": {},
   "source": [
    "### Load Catalog Entries into Xarray Datasets\n",
    "\n",
    "Create a dictionary of Xarray datasets:"
   ]
  },
  {
   "cell_type": "code",
   "execution_count": 17,
   "id": "812cf0f3-970e-49aa-b2c8-19a866f31167",
   "metadata": {
    "tags": []
   },
   "outputs": [
    {
     "name": "stdout",
     "output_type": "stream",
     "text": [
      "\n",
      "--> The keys in the returned dictionary of datasets are constructed as follows:\n",
      "\t'component.experiment.frequency'\n"
     ]
    },
    {
     "data": {
      "text/html": [
       "\n",
       "<style>\n",
       "    /* Turns off some styling */\n",
       "    progress {\n",
       "        /* gets rid of default border in Firefox and Opera. */\n",
       "        border: none;\n",
       "        /* Needs to be in here for Safari polyfill so background images work as expected. */\n",
       "        background-size: auto;\n",
       "    }\n",
       "    progress:not([value]), progress:not([value])::-webkit-progress-bar {\n",
       "        background: repeating-linear-gradient(45deg, #7e7e7e, #7e7e7e 10px, #5c5c5c 10px, #5c5c5c 20px);\n",
       "    }\n",
       "    .progress-bar-interrupted, .progress-bar-interrupted::-webkit-progress-bar {\n",
       "        background: #F44336;\n",
       "    }\n",
       "</style>\n"
      ],
      "text/plain": [
       "<IPython.core.display.HTML object>"
      ]
     },
     "metadata": {},
     "output_type": "display_data"
    },
    {
     "data": {
      "text/html": [
       "\n",
       "    <div>\n",
       "      <progress value='2' class='' max='2' style='width:300px; height:20px; vertical-align: middle;'></progress>\n",
       "      100.00% [2/2 00:00&lt;00:00]\n",
       "    </div>\n",
       "    "
      ],
      "text/plain": [
       "<IPython.core.display.HTML object>"
      ]
     },
     "metadata": {},
     "output_type": "display_data"
    },
    {
     "name": "stdout",
     "output_type": "stream",
     "text": [
      "\n",
      "Dataset dictionary keys for TEMP:\n",
      " dict_keys(['ocn.20C.monthly', 'ocn.RCP85.monthly'])\n",
      "\n",
      "--> The keys in the returned dictionary of datasets are constructed as follows:\n",
      "\t'component.experiment.frequency'\n"
     ]
    },
    {
     "data": {
      "text/html": [
       "\n",
       "<style>\n",
       "    /* Turns off some styling */\n",
       "    progress {\n",
       "        /* gets rid of default border in Firefox and Opera. */\n",
       "        border: none;\n",
       "        /* Needs to be in here for Safari polyfill so background images work as expected. */\n",
       "        background-size: auto;\n",
       "    }\n",
       "    progress:not([value]), progress:not([value])::-webkit-progress-bar {\n",
       "        background: repeating-linear-gradient(45deg, #7e7e7e, #7e7e7e 10px, #5c5c5c 10px, #5c5c5c 20px);\n",
       "    }\n",
       "    .progress-bar-interrupted, .progress-bar-interrupted::-webkit-progress-bar {\n",
       "        background: #F44336;\n",
       "    }\n",
       "</style>\n"
      ],
      "text/plain": [
       "<IPython.core.display.HTML object>"
      ]
     },
     "metadata": {},
     "output_type": "display_data"
    },
    {
     "data": {
      "text/html": [
       "\n",
       "    <div>\n",
       "      <progress value='2' class='' max='2' style='width:300px; height:20px; vertical-align: middle;'></progress>\n",
       "      100.00% [2/2 00:00&lt;00:00]\n",
       "    </div>\n",
       "    "
      ],
      "text/plain": [
       "<IPython.core.display.HTML object>"
      ]
     },
     "metadata": {},
     "output_type": "display_data"
    },
    {
     "name": "stdout",
     "output_type": "stream",
     "text": [
      "\n",
      "Dataset dictionary keys for SALT:\n",
      " dict_keys(['ocn.20C.monthly', 'ocn.RCP85.monthly'])\n",
      "\n",
      "--> The keys in the returned dictionary of datasets are constructed as follows:\n",
      "\t'component.experiment.frequency'\n"
     ]
    },
    {
     "data": {
      "text/html": [
       "\n",
       "<style>\n",
       "    /* Turns off some styling */\n",
       "    progress {\n",
       "        /* gets rid of default border in Firefox and Opera. */\n",
       "        border: none;\n",
       "        /* Needs to be in here for Safari polyfill so background images work as expected. */\n",
       "        background-size: auto;\n",
       "    }\n",
       "    progress:not([value]), progress:not([value])::-webkit-progress-bar {\n",
       "        background: repeating-linear-gradient(45deg, #7e7e7e, #7e7e7e 10px, #5c5c5c 10px, #5c5c5c 20px);\n",
       "    }\n",
       "    .progress-bar-interrupted, .progress-bar-interrupted::-webkit-progress-bar {\n",
       "        background: #F44336;\n",
       "    }\n",
       "</style>\n"
      ],
      "text/plain": [
       "<IPython.core.display.HTML object>"
      ]
     },
     "metadata": {},
     "output_type": "display_data"
    },
    {
     "data": {
      "text/html": [
       "\n",
       "    <div>\n",
       "      <progress value='2' class='' max='2' style='width:300px; height:20px; vertical-align: middle;'></progress>\n",
       "      100.00% [2/2 00:00&lt;00:00]\n",
       "    </div>\n",
       "    "
      ],
      "text/plain": [
       "<IPython.core.display.HTML object>"
      ]
     },
     "metadata": {},
     "output_type": "display_data"
    },
    {
     "name": "stdout",
     "output_type": "stream",
     "text": [
      "\n",
      "Dataset dictionary keys for O2:\n",
      " dict_keys(['ocn.RCP85.monthly', 'ocn.20C.monthly'])\n"
     ]
    }
   ],
   "source": [
    "#Lets create another for loop to iteratre over the col_ocn dictionary\n",
    "dsets = {} # Initialize an empty dictionary to store datasets\n",
    "for var in variables:\n",
    "    dsets[var] = col_ocn[var].to_dataset_dict(\n",
    "        zarr_kwargs={\"consolidated\": True}, storage_options={\"anon\": True}\n",
    "    )\n",
    "    print(f\"\\nDataset dictionary keys for {var}:\\n {dsets[var].keys()}\") # Print dataset dictionary keys\n"
   ]
  },
  {
   "cell_type": "markdown",
   "id": "821c86ff-6b36-4a8a-8185-f42b8a79fe2b",
   "metadata": {},
   "source": [
    "### Define Xarray Datasets for Each Experiment and Variable\n",
    "\n",
    "Define Xarray datasets for the 20th century and RCP8.5 experiments:"
   ]
  },
  {
   "cell_type": "code",
   "execution_count": 18,
   "id": "fb545dbf-8932-406c-b46b-bce05c87c20d",
   "metadata": {
    "tags": []
   },
   "outputs": [],
   "source": [
    "# Define Xarray datasets corresponding to the two experiments by each variable \n",
    "ds_20C_TEMP = dsets[\"TEMP\"][\"ocn.20C.monthly\"]  # 20th century temperature dataset\n",
    "ds_RCP85_TEMP = dsets[\"TEMP\"][\"ocn.RCP85.monthly\"]  # RCP8.5 temperature dataset\n",
    "\n",
    "ds_20C_SALT = dsets[\"SALT\"][\"ocn.20C.monthly\"]  # 20th century salinity dataset\n",
    "ds_RCP85_SALT = dsets[\"SALT\"][\"ocn.RCP85.monthly\"]  # RCP8.5 salinity dataset\n",
    "\n",
    "ds_20C_O2 = dsets[\"O2\"][\"ocn.20C.monthly\"]  # 20th century oxygen dataset\n",
    "ds_RCP85_O2 = dsets[\"O2\"][\"ocn.RCP85.monthly\"]  # RCP8.5 oxygen dataset\n"
   ]
  },
  {
   "cell_type": "markdown",
   "id": "a2095c01-6211-4622-b1db-15d98ce51cc2",
   "metadata": {},
   "source": [
    "### Extract and Save a Subset of Data\n",
    "\n",
    "For the temperature in the 20th century run, extract a subset of data and save it to a NetCDF file:"
   ]
  },
  {
   "cell_type": "code",
   "execution_count": null,
   "id": "dd8fd515-edf4-4e03-bc47-1b32f61be4a2",
   "metadata": {
    "tags": []
   },
   "outputs": [],
   "source": [
    "#For Temperature in the 20C run\n",
    "latlon_TEMP_20C = ds_20C_TEMP.isel(nlat=280, nlon=240)  # Select a specific latitude and longitude\n",
    "latlon_TEMP_20C.to_netcdf(\"data/vertical_profile/subset_TEMP_20C.nc\")  # Save the subset to a NetCDF file to a data folder (you will have to create a data folder in your working directory)"
   ]
  },
  {
   "cell_type": "markdown",
   "id": "4b414f6c-a9ff-4e20-bed6-6d8bdc98b5a3",
   "metadata": {
    "tags": []
   },
   "source": [
    "### Extract and Save a Subset of Data¶\n",
    "Analyze RCP8.5 Scenario Data\n",
    "\n",
    "Similarly, load and analyze the RCP8.5 scenario data:"
   ]
  },
  {
   "cell_type": "code",
   "execution_count": null,
   "id": "371f16fb-f086-479a-a67f-035ae9fe2015",
   "metadata": {},
   "outputs": [],
   "source": [
    "#For Temperature in the RCP8.5 run\n",
    "latlon_TEMP_RCP85 = ds_RCP85_TEMP.isel(nlat=280, nlon=240)  # Select a specific latitude and longitude\n",
    "latlon_TEMP_RCP85.to_netcdf(\"data/vertical_profile/subset_TEMP_RCP85.nc\")  # Save the subset to a NetCDF file to a data folder (you will have to create a data folder in your working directory)"
   ]
  },
  {
   "cell_type": "markdown",
   "id": "cecc37e2-492c-4c96-9302-e1df19b73ae1",
   "metadata": {},
   "source": [
    "## Data Visualization"
   ]
  },
  {
   "cell_type": "markdown",
   "id": "5b8ec71a-efb7-4c98-abe7-805a78a425d8",
   "metadata": {},
   "source": [
    "### Plotting Temperature for 20C run (1920-2005)\n",
    "Load and Analyze the Subset Data\n",
    "\n",
    "Load the NetCDF file created above and calculate the mean temperature for each member ID:"
   ]
  },
  {
   "cell_type": "code",
   "execution_count": 21,
   "id": "301d90a8-8d21-4d5e-a175-cf89fa2a8e28",
   "metadata": {},
   "outputs": [
    {
     "data": {
      "image/png": "[encoded data removed]",
      "text/plain": [
       "<Figure size 640x480 with 1 Axes>"
      ]
     },
     "metadata": {},
     "output_type": "display_data"
    }
   ],
   "source": [
    "latlon_TEMP_final = xr.open_dataset(\"data/vertical_profile/subset_TEMP_20C.nc\")\n",
    "\n",
    "# Initialize an empty list to store mean temperature values for each member_id\n",
    "TEMP_means_list = []\n",
    "\n",
    "# Loop through each member_id and calculate the mean temperature over time\n",
    "for member in ds_20C_TEMP.member_id:\n",
    "    member_mean = latlon_TEMP_final.sel(member_id=member).TEMP.mean(\"time\")\n",
    "    TEMP_means_list.append(member_mean)\n",
    "\n",
    "# Convert the list of means to an Xarray DataArray and calculate the overall mean\n",
    "TEMP_means = xr.concat(TEMP_means_list, dim='member_id').mean('member_id')\n",
    "\n",
    "# Plot the mean temperature profile with inverted y-axis\n",
    "plt.figure()\n",
    "TEMP_means.plot(y='z_t')\n",
    "plt.gca().invert_yaxis()\n",
    "plt.xlabel('Temperature (°C)')\n",
    "plt.ylabel('Depth (cm)')\n",
    "plt.title('Mean Temperature Profile')\n",
    "plt.show()\n"
   ]
  },
  {
   "cell_type": "markdown",
   "id": "27ab27e5-5175-4a86-bb55-a5b061ffec36",
   "metadata": {},
   "source": [
    "### Plotting Tempertaure for RCP8.5 run (2006-2100)\n",
    "Load and Analyze the Subset Data\n",
    "\n",
    "Load the NetCDF file created above and calculate the mean temperature for each member ID:"
   ]
  },
  {
   "cell_type": "code",
   "execution_count": 11,
   "id": "d89e305b-3c5a-45ec-8c5e-94be8575d2ce",
   "metadata": {
    "tags": []
   },
   "outputs": [
    {
     "data": {
      "image/png": "[encoded data removed]",
      "text/plain": [
       "<Figure size 640x480 with 1 Axes>"
      ]
     },
     "metadata": {},
     "output_type": "display_data"
    }
   ],
   "source": [
    "latlon_TEMP_final_rcp = xr.open_dataset(\"subset_TEMP_RCP85.nc\")\n",
    "\n",
    "# Initialize an empty list to store mean temperature values for each member_id\n",
    "TEMP_means_list_rcp = []\n",
    "\n",
    "# Loop through each member_id and calculate the mean temperature over time\n",
    "for member in latlon_TEMP_final_rcp.member_id:\n",
    "    member_mean_rcp = latlon_TEMP_final_rcp.sel(member_id=member).TEMP.mean(\"time\")\n",
    "    TEMP_means_list_rcp.append(member_mean_rcp)\n",
    "\n",
    "# Convert the list of means to an Xarray DataArray and calculate the overall mean\n",
    "TEMP_means_rcp = xr.concat(TEMP_means_list_rcp, dim='member_id').mean('member_id')\n",
    "\n",
    "# Plot the mean temperature profile for RCP8.5 scenario\n",
    "plt.figure()\n",
    "TEMP_means_rcp.plot(y='z_t')\n",
    "plt.gca().invert_yaxis()\n",
    "plt.xlabel('Temperature (°C)')\n",
    "plt.ylabel('Depth (cm)')\n",
    "plt.title('Mean Temperature Profile for RCP8.5')\n",
    "plt.show()\n",
    "\n"
   ]
  },
  {
   "cell_type": "markdown",
   "id": "bc0b9bf9-585e-48a6-9f65-5a671ac6b0f6",
   "metadata": {},
   "source": [
    "This tutorial provides a step-by-step guide to working with CESM1 LENS data using Xarray and related libraries. You can extend this analysis to include other variables or different subsets of the data as needed."
   ]
  }
 ],
 "metadata": {
  "kernelspec": {
   "display_name": "channelislanders",
   "language": "python",
   "name": "channelislanders"
  },
  "language_info": {
   "codemirror_mode": {
    "name": "ipython",
    "version": 3
   },
   "file_extension": ".py",
   "mimetype": "text/x-python",
   "name": "python",
   "nbconvert_exporter": "python",
   "pygments_lexer": "ipython3",
   "version": "3.9.18"
  }
 },
 "nbformat": 4,
 "nbformat_minor": 5
}
