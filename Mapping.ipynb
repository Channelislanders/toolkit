{
 "cells": [
  {
   "cell_type": "markdown",
   "id": "aa7729ef-d901-4688-8b6e-1dae4996fc63",
   "metadata": {
    "tags": []
   },
   "source": [
    "# Educational Toolkit for Mapping Large Ensembles"
   ]
  },
  {
   "cell_type": "markdown",
   "id": "80736735-119b-47c4-a904-85dce38e94e5",
   "metadata": {},
   "source": [
    "This is an educational toolkit to demonstrate how to deal with CESM1 data. \n",
    "\n",
    "Things to note: \n",
    "\n",
    "- We are using the Ocean model from CESM1\n",
    "- The data is hosted on Amazon Web Services (AWS), however this data is freely available so no account for AWS is necessary.\n",
    "- We are investigating different experiments through the Ocean Model.\n",
    "- We are only looking at few variables. All variables available through the CESM1 data are found on the link below: \n",
    "https://www.cesm.ucar.edu/community-projects/lens2/output-variables"
   ]
  },
  {
   "cell_type": "markdown",
   "id": "4177ee62-8ac9-48b2-964a-956356e0d494",
   "metadata": {
    "tags": []
   },
   "source": [
    "## Data Access"
   ]
  },
  {
   "cell_type": "markdown",
   "id": "6f3293fc-962e-4879-86da-6e5a46eaed9d",
   "metadata": {},
   "source": [
    "This section shows a detailed description and a step-by-step process of accessing the CESM1 data catalog through Pangeo tuturials on AWS. \n",
    "\n",
    "Here we are: \n",
    "\n",
    "- Accessing the OCN model dataset with RCP 8.5 and 20C runs. \n",
    "- Narrowing down the columns to specific variables we aim to access.\n",
    "\n",
    "For example: \n",
    "``` \n",
    "col_ocntemp = col.search(\n",
    "    frequency=[\"monthly\"],\n",
    "    component=\"ocn\",\n",
    "    variable=\"TEMP\",\n",
    "    experiment=[\"20C\", \"RCP85\"],  \n",
    ")\n",
    "```\n",
    "- Loading in lat/lon data separately which was not in CESM1 as of March 2024. \n",
    "\n",
    "This section works similar to accessing other catalogs, we will be using Zarr. More information on the library below.\n",
    "\n",
    "https://zarr.readthedocs.io/en/stable/"
   ]
  },
  {
   "cell_type": "markdown",
   "id": "f1772e50-e3fe-498a-8790-c059cc2b7310",
   "metadata": {
    "tags": []
   },
   "source": [
    "## Data Exploration"
   ]
  },
  {
   "cell_type": "markdown",
   "id": "a5900720-0d07-4fe1-acb7-da4ba50f2011",
   "metadata": {},
   "source": [
    "In this part of the tutorial we will conduct preliminary data exploration to understand the large ensembles we are working with. This data is extremely large, so most of our data exploration is shown through \"lazyloading.\" \n",
    "\n",
    "Here we can explore different variables, and the column names."
   ]
  },
  {
   "cell_type": "markdown",
   "id": "02ae6a17-64dd-40c4-8c06-2ac4c655abd1",
   "metadata": {
    "tags": []
   },
   "source": [
    "## Data Wrangling"
   ]
  },
  {
   "cell_type": "markdown",
   "id": "a56649f2-6997-4c3b-9b97-2b7822315602",
   "metadata": {},
   "source": [
    "Although data that is made avaiable through the CESM1 model is clean and ready to use, we only want to extract a certain part of the world. This is the Channel Islands Marine Sanctuary and surrounding areas.  \n",
    "\n",
    "\n",
    "In this section we will demonstrate how to: \n",
    "\n",
    "- Merge the grid data and the CESM1 data from the catalog.\n",
    "- Use `mask` to subset the data from the Channel Islands, more specifically latitude and longitude. \n",
    "- Clarify you have extracted the proper data. "
   ]
  },
  {
   "cell_type": "markdown",
   "id": "1957bef4-5c18-4e07-8361-e9cf3546156e",
   "metadata": {
    "tags": []
   },
   "source": [
    "## Plotting Visuals"
   ]
  },
  {
   "cell_type": "markdown",
   "id": "7a4b34d3-07df-4072-851e-c61f1c236093",
   "metadata": {
    "tags": []
   },
   "source": [
    "Plotting the type of vizualization method, in this section we are mapping the variables. \n",
    "\n",
    "This section shows how to properly display the spatial distribution of the variables you are plotting. We will demonstrate some difference plots and maps of data from certain time frames. "
   ]
  },
  {
   "cell_type": "code",
   "execution_count": null,
   "id": "79839792-31f1-49af-8c76-7af3d88db266",
   "metadata": {},
   "outputs": [],
   "source": []
  }
 ],
 "metadata": {
  "kernelspec": {
   "display_name": "channelislanders",
   "language": "python",
   "name": "channelislanders"
  },
  "language_info": {
   "codemirror_mode": {
    "name": "ipython",
    "version": 3
   },
   "file_extension": ".py",
   "mimetype": "text/x-python",
   "name": "python",
   "nbconvert_exporter": "python",
   "pygments_lexer": "ipython3",
   "version": "3.9.18"
  }
 },
 "nbformat": 4,
 "nbformat_minor": 5
}
