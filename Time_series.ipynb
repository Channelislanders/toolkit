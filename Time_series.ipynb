{
 "cells": [
  {
   "cell_type": "markdown",
   "id": "6120c661-f2a9-49ed-9e17-90c48c72018d",
   "metadata": {},
   "source": [
    "# Time Series Tutorial"
   ]
  },
  {
   "cell_type": "markdown",
   "id": "8c350fbc-eae3-4bc1-a442-cefb1788ac65",
   "metadata": {
    "tags": []
   },
   "source": [
    "## Time series info:\n",
    "\n",
    "Time series are an important visualization to see the trends of whatever variable you are intereted in seeing over time. In this notebook, we will be covering how to create a time series for the persent day model and the future projected model. This notebook will be the basis of how to create a simple time series using the package `plotly`."
   ]
  },
  {
   "cell_type": "markdown",
   "id": "061abfd7-9785-4796-9b1b-0b02f116aff2",
   "metadata": {
    "tags": []
   },
   "source": [
    "### How to Access the data\n",
    "This notebook uses information from a notebook from the NCAR organization that can be found [here](https://ncar.github.io/CESM-Tutorial/notebooks/diagnostics/clm_ctsm/basics_clm.html#first-calculate-the-land-weights)\n",
    "\n",
    "Accessing the data for this notebook will be done by using Pangeo's software to promote open access and reproducibility within this notebook. To properly ensure you have the correct packages installed that the 'Pangeo Environment' uses, please make sure to view the .readme for this repository found [here](https://github.com/Channelislanders/toolkit)\n",
    "\n",
    "#### Importing Packages\n",
    "In order to access the "
   ]
  },
  {
   "cell_type": "code",
   "execution_count": 2,
   "id": "425a04de-ca0e-4db9-861b-06f2dd7e9691",
   "metadata": {
    "tags": []
   },
   "outputs": [],
   "source": [
    "#import packages\n",
    "import matplotlib.pyplot as plt\n",
    "from cartopy import crs as ccrs, feature as cfeature\n",
    "import xarray as xr\n",
    "import pandas as pd\n",
    "import numpy as np\n",
    "from rasterio import mask\n",
    "import plotly.express as px\n",
    "\n",
    "# Packages needed for CESM1 example\n",
    "import pprint\n",
    "import intake\n",
    "import requests\n",
    "import aiohttp\n",
    "import s3fs\n",
    "\n",
    "# Packages needed for CMIP6\n",
    "import zarr\n",
    "import gcsfs"
   ]
  },
  {
   "cell_type": "code",
   "execution_count": 1,
   "id": "3adb02be-0d52-4a5f-8820-1d1d01c5250a",
   "metadata": {
    "tags": []
   },
   "outputs": [
    {
     "ename": "NameError",
     "evalue": "name 'intake' is not defined",
     "output_type": "error",
     "traceback": [
      "\u001b[0;31m---------------------------------------------------------------------------\u001b[0m",
      "\u001b[0;31mNameError\u001b[0m                                 Traceback (most recent call last)",
      "Cell \u001b[0;32mIn[1], line 3\u001b[0m\n\u001b[1;32m      1\u001b[0m \u001b[38;5;66;03m# Open original collection description file: CESM1 LENS\u001b[39;00m\n\u001b[1;32m      2\u001b[0m cat_url \u001b[38;5;241m=\u001b[39m \u001b[38;5;124m\"\u001b[39m\u001b[38;5;124mhttps://ncar-cesm-lens.s3-us-west-2.amazonaws.com/catalogs/aws-cesm1-le.json\u001b[39m\u001b[38;5;124m\"\u001b[39m\n\u001b[0;32m----> 3\u001b[0m col \u001b[38;5;241m=\u001b[39m \u001b[43mintake\u001b[49m\u001b[38;5;241m.\u001b[39mopen_esm_datastore(cat_url)\n\u001b[1;32m      4\u001b[0m col\n\u001b[1;32m      6\u001b[0m \u001b[38;5;66;03m# Location of file containing grid (lat/lon) information for CESM1 LENS\u001b[39;00m\n",
      "\u001b[0;31mNameError\u001b[0m: name 'intake' is not defined"
     ]
    }
   ],
   "source": [
    "# Open original collection description file: CESM1 LENS\n",
    "cat_url = \"https://ncar-cesm-lens.s3-us-west-2.amazonaws.com/catalogs/aws-cesm1-le.json\"\n",
    "col = intake.open_esm_datastore(cat_url)\n",
    "col\n",
    "\n",
    "# Location of file containing grid (lat/lon) information for CESM1 LENS\n",
    "grid_url=\"s3://ncar-cesm-lens/ocn/static/grid.zarr\""
   ]
  },
  {
   "cell_type": "code",
   "execution_count": null,
   "id": "103d0139-9cf3-4240-9441-5bd0e5dd7090",
   "metadata": {},
   "outputs": [],
   "source": []
  },
  {
   "cell_type": "markdown",
   "id": "88f54a74-da82-4915-b38f-77c56f8eecbc",
   "metadata": {},
   "source": [
    "### Data Exploring"
   ]
  },
  {
   "cell_type": "markdown",
   "id": "b2ec6678-017a-4682-b371-70153485cf20",
   "metadata": {},
   "source": [
    "### Data Wrangling"
   ]
  },
  {
   "cell_type": "markdown",
   "id": "36faf7a6-18ee-41db-b0ef-60d98b52c3ae",
   "metadata": {},
   "source": [
    "## Plotting the time series"
   ]
  },
  {
   "cell_type": "markdown",
   "id": "f4ab015e-0b52-4203-b053-cdcd38ee6f9b",
   "metadata": {},
   "source": [
    "### How to map the variables\n",
    "\n",
    "\n",
    "- Actual points\n",
    "\n",
    "\n",
    "### Calculate and plot a global weighted sum"
   ]
  }
 ],
 "metadata": {
  "kernelspec": {
   "display_name": "channelislanders",
   "language": "python",
   "name": "channelislanders"
  },
  "language_info": {
   "codemirror_mode": {
    "name": "ipython",
    "version": 3
   },
   "file_extension": ".py",
   "mimetype": "text/x-python",
   "name": "python",
   "nbconvert_exporter": "python",
   "pygments_lexer": "ipython3",
   "version": "3.9.18"
  }
 },
 "nbformat": 4,
 "nbformat_minor": 5
}
