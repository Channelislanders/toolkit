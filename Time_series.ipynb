{
 "cells": [
  {
   "cell_type": "markdown",
   "id": "6120c661-f2a9-49ed-9e17-90c48c72018d",
   "metadata": {},
   "source": [
    "# Time Series Tutorial"
   ]
  },
  {
   "cell_type": "markdown",
   "id": "061abfd7-9785-4796-9b1b-0b02f116aff2",
   "metadata": {},
   "source": [
    "### How to Access the data\n",
    "\n",
    "\n",
    "tutorial that will help with this notebook\n",
    "https://ncar.github.io/CESM-Tutorial/notebooks/diagnostics/clm_ctsm/basics_clm.html#first-calculate-the-land-weights"
   ]
  },
  {
   "cell_type": "markdown",
   "id": "8c350fbc-eae3-4bc1-a442-cefb1788ac65",
   "metadata": {},
   "source": [
    "## Time series info:"
   ]
  },
  {
   "cell_type": "markdown",
   "id": "f4ab015e-0b52-4203-b053-cdcd38ee6f9b",
   "metadata": {},
   "source": [
    "## How to map the variables\n",
    "\n",
    "\n",
    "- actual points\n",
    "\n",
    "\n",
    "## calculate and plot a global weighted sum"
   ]
  }
 ],
 "metadata": {
  "kernelspec": {
   "display_name": "channelislanders",
   "language": "python",
   "name": "channelislanders"
  },
  "language_info": {
   "codemirror_mode": {
    "name": "ipython",
    "version": 3
   },
   "file_extension": ".py",
   "mimetype": "text/x-python",
   "name": "python",
   "nbconvert_exporter": "python",
   "pygments_lexer": "ipython3",
   "version": "3.9.18"
  }
 },
 "nbformat": 4,
 "nbformat_minor": 5
}
