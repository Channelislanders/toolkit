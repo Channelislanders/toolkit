{
 "cells": [
  {
   "cell_type": "markdown",
   "id": "6120c661-f2a9-49ed-9e17-90c48c72018d",
   "metadata": {},
   "source": [
    "# Time Series Tutorial"
   ]
  },
  {
   "cell_type": "markdown",
   "id": "8c350fbc-eae3-4bc1-a442-cefb1788ac65",
   "metadata": {
    "tags": []
   },
   "source": [
    "## Time series info:\n",
    "\n",
    "Time series are an important visualization to see the trends of whatever variable you are intereted in seeing over time. In this notebook, we will be covering how to create a time series for the persent day model and the future projected model. This notebook will be the basis of how to create a simple time series using the package `plotly`."
   ]
  },
  {
   "cell_type": "markdown",
   "id": "061abfd7-9785-4796-9b1b-0b02f116aff2",
   "metadata": {
    "tags": []
   },
   "source": [
    "### How to Access the data\n",
    "This notebook uses information from a notebook from the NCAR organization that can be found [here](https://ncar.github.io/CESM-Tutorial/notebooks/diagnostics/clm_ctsm/basics_clm.html#first-calculate-the-land-weights)\n",
    "\n",
    "Accessing the data for this notebook will be done by using Pangeo's software to promote open access and reproducibility within this notebook. To properly ensure you have the correct packages installed that the 'Pangeo Environment' uses, please make sure to view the .README for this repository found [here](https://github.com/Channelislanders/toolkit)\n",
    "\n",
    "#### Importing Packages\n",
    "In order to access the data, we'll need to import all necessary packages to do so. Below are the packages I have installed to use throughout this notebook:"
   ]
  },
  {
   "cell_type": "code",
   "execution_count": 2,
   "id": "425a04de-ca0e-4db9-861b-06f2dd7e9691",
   "metadata": {
    "tags": []
   },
   "outputs": [],
   "source": [
    "#import packages\n",
    "import matplotlib.pyplot as plt\n",
    "from cartopy import crs as ccrs, feature as cfeature\n",
    "import xarray as xr\n",
    "import pandas as pd\n",
    "import numpy as np\n",
    "from rasterio import mask\n",
    "import plotly.express as px\n",
    "\n",
    "# Packages needed for CESM1 example\n",
    "import pprint\n",
    "import intake\n",
    "import requests\n",
    "import aiohttp\n",
    "import s3fs\n",
    "\n",
    "# Packages needed for CMIP6\n",
    "import zarr\n",
    "import gcsfs"
   ]
  },
  {
   "cell_type": "markdown",
   "id": "da213723-3fbc-4d84-a286-9940ed17d46e",
   "metadata": {},
   "source": [
    "### CESM1 Large Ensemble\n",
    "This portion of the notebook will detail how to get access to the CESM1 large Ensemble dataset, which is hosted on Amazon Web Services. Since it is hosted on Amazon Web services, the users accessing this data will not have to create a separate account. Directions will be followed very similarly to a NCAR repository labeled [CESM LENS on AWS](https://github.com/NCAR/cesm-lens-aws). \n",
    "\n",
    "This has been modified to also include functionality to load a zarr-format grid file containing the latitude and longitude information for CESM1, which for some reason are not included in the data files.\n",
    "\n",
    "Things to note about the data we are accessing:\n",
    "\n",
    "- The notebook will be accessing the Ocean model for CESM1\n",
    "- Because of this the grid file used here is only for OCEAN variables; the atmosphere and land variables have different lat and lon information.\n",
    "- For most ocean variables, latitude and longitude are called \"TLAT\" and \"TLONG\".\n",
    "- This notebook will only be looking at a few variables as an example. If you are inclined to view other variables, a whole list can be found [here](https://www.cesm.ucar.edu/community-projects/lens2/output-variables)\n",
    "\n",
    "\n",
    "To first open connection to where the files are housed, we need to open the connection by using the `intake` function"
   ]
  },
  {
   "cell_type": "code",
   "execution_count": 3,
   "id": "3249afad-a194-4bc5-821d-d6057c694f26",
   "metadata": {
    "tags": []
   },
   "outputs": [
    {
     "data": {
      "text/html": [
       "<p><strong>aws-cesm1-le catalog with 56 dataset(s) from 442 asset(s)</strong>:</p> <div>\n",
       "<style scoped>\n",
       "    .dataframe tbody tr th:only-of-type {\n",
       "        vertical-align: middle;\n",
       "    }\n",
       "\n",
       "    .dataframe tbody tr th {\n",
       "        vertical-align: top;\n",
       "    }\n",
       "\n",
       "    .dataframe thead th {\n",
       "        text-align: right;\n",
       "    }\n",
       "</style>\n",
       "<table border=\"1\" class=\"dataframe\">\n",
       "  <thead>\n",
       "    <tr style=\"text-align: right;\">\n",
       "      <th></th>\n",
       "      <th>unique</th>\n",
       "    </tr>\n",
       "  </thead>\n",
       "  <tbody>\n",
       "    <tr>\n",
       "      <th>variable</th>\n",
       "      <td>78</td>\n",
       "    </tr>\n",
       "    <tr>\n",
       "      <th>long_name</th>\n",
       "      <td>75</td>\n",
       "    </tr>\n",
       "    <tr>\n",
       "      <th>component</th>\n",
       "      <td>5</td>\n",
       "    </tr>\n",
       "    <tr>\n",
       "      <th>experiment</th>\n",
       "      <td>4</td>\n",
       "    </tr>\n",
       "    <tr>\n",
       "      <th>frequency</th>\n",
       "      <td>6</td>\n",
       "    </tr>\n",
       "    <tr>\n",
       "      <th>vertical_levels</th>\n",
       "      <td>3</td>\n",
       "    </tr>\n",
       "    <tr>\n",
       "      <th>spatial_domain</th>\n",
       "      <td>5</td>\n",
       "    </tr>\n",
       "    <tr>\n",
       "      <th>units</th>\n",
       "      <td>25</td>\n",
       "    </tr>\n",
       "    <tr>\n",
       "      <th>start_time</th>\n",
       "      <td>12</td>\n",
       "    </tr>\n",
       "    <tr>\n",
       "      <th>end_time</th>\n",
       "      <td>13</td>\n",
       "    </tr>\n",
       "    <tr>\n",
       "      <th>path</th>\n",
       "      <td>427</td>\n",
       "    </tr>\n",
       "    <tr>\n",
       "      <th>derived_variable</th>\n",
       "      <td>0</td>\n",
       "    </tr>\n",
       "  </tbody>\n",
       "</table>\n",
       "</div>"
      ],
      "text/plain": [
       "<IPython.core.display.HTML object>"
      ]
     },
     "metadata": {},
     "output_type": "display_data"
    }
   ],
   "source": [
    "# Open original collection description file: CESM1 LENS\n",
    "cat_url = \"https://ncar-cesm-lens.s3-us-west-2.amazonaws.com/catalogs/aws-cesm1-le.json\"\n",
    "# open the catalog using the intake function\n",
    "col = intake.open_esm_datastore(cat_url)\n",
    "#view the catalog\n",
    "col"
   ]
  },
  {
   "cell_type": "markdown",
   "id": "7c457fae-b258-4214-8705-bc0cbafa526b",
   "metadata": {},
   "source": [
    "Because these datasets do not have the grid information for the catalog datasets that we are accessing from CESM, we are calling in a grid dataset that we will merge on later in this notebook."
   ]
  },
  {
   "cell_type": "code",
   "execution_count": 4,
   "id": "bc82cd96-a3de-425b-a3ef-fcd50669cae8",
   "metadata": {
    "tags": []
   },
   "outputs": [],
   "source": [
    "# Location of file containing grid (lat/lon) information for CESM1 LENS\n",
    "grid_url=\"s3://ncar-cesm-lens/ocn/static/grid.zarr\""
   ]
  },
  {
   "cell_type": "markdown",
   "id": "1e12fd86-2b5a-451e-b047-619dad9b617f",
   "metadata": {},
   "source": [
    "There are numerous amount of variables that the dataset contains. For the sake of this notebook, we will be looking into the `TEMP` variable. A list of variables can be found [here](https://www.cesm.ucar.edu/community-projects/lens2/output-variables)"
   ]
  },
  {
   "cell_type": "code",
   "execution_count": 5,
   "id": "103d0139-9cf3-4240-9441-5bd0e5dd7090",
   "metadata": {},
   "outputs": [
    {
     "data": {
      "text/html": [
       "<div>\n",
       "<style scoped>\n",
       "    .dataframe tbody tr th:only-of-type {\n",
       "        vertical-align: middle;\n",
       "    }\n",
       "\n",
       "    .dataframe tbody tr th {\n",
       "        vertical-align: top;\n",
       "    }\n",
       "\n",
       "    .dataframe thead th {\n",
       "        text-align: right;\n",
       "    }\n",
       "</style>\n",
       "<table border=\"1\" class=\"dataframe\">\n",
       "  <thead>\n",
       "    <tr style=\"text-align: right;\">\n",
       "      <th></th>\n",
       "      <th>variable</th>\n",
       "      <th>long_name</th>\n",
       "      <th>component</th>\n",
       "      <th>experiment</th>\n",
       "      <th>frequency</th>\n",
       "      <th>vertical_levels</th>\n",
       "      <th>spatial_domain</th>\n",
       "      <th>units</th>\n",
       "      <th>start_time</th>\n",
       "      <th>end_time</th>\n",
       "      <th>path</th>\n",
       "    </tr>\n",
       "  </thead>\n",
       "  <tbody>\n",
       "    <tr>\n",
       "      <th>0</th>\n",
       "      <td>TEMP</td>\n",
       "      <td>potential temperature</td>\n",
       "      <td>ocn</td>\n",
       "      <td>20C</td>\n",
       "      <td>monthly</td>\n",
       "      <td>60.0</td>\n",
       "      <td>global_ocean</td>\n",
       "      <td>degC</td>\n",
       "      <td>1920-01-16 12:00:00</td>\n",
       "      <td>2005-12-16 12:00:00</td>\n",
       "      <td>s3://ncar-cesm-lens/ocn/monthly/cesmLE-20C-TEM...</td>\n",
       "    </tr>\n",
       "    <tr>\n",
       "      <th>1</th>\n",
       "      <td>TEMP</td>\n",
       "      <td>potential temperature</td>\n",
       "      <td>ocn</td>\n",
       "      <td>CTRL</td>\n",
       "      <td>monthly</td>\n",
       "      <td>60.0</td>\n",
       "      <td>global_ocean</td>\n",
       "      <td>degC</td>\n",
       "      <td>0400-01-16 12:00:00</td>\n",
       "      <td>2200-12-16 12:00:00</td>\n",
       "      <td>s3://ncar-cesm-lens/ocn/monthly/cesmLE-CTRL-TE...</td>\n",
       "    </tr>\n",
       "    <tr>\n",
       "      <th>2</th>\n",
       "      <td>TEMP</td>\n",
       "      <td>potential temperature</td>\n",
       "      <td>ocn</td>\n",
       "      <td>HIST</td>\n",
       "      <td>monthly</td>\n",
       "      <td>60.0</td>\n",
       "      <td>global_ocean</td>\n",
       "      <td>degC</td>\n",
       "      <td>1850-01-16 12:00:00</td>\n",
       "      <td>1919-12-16 12:00:00</td>\n",
       "      <td>s3://ncar-cesm-lens/ocn/monthly/cesmLE-HIST-TE...</td>\n",
       "    </tr>\n",
       "    <tr>\n",
       "      <th>3</th>\n",
       "      <td>TEMP</td>\n",
       "      <td>potential temperature</td>\n",
       "      <td>ocn</td>\n",
       "      <td>RCP85</td>\n",
       "      <td>monthly</td>\n",
       "      <td>60.0</td>\n",
       "      <td>global_ocean</td>\n",
       "      <td>degC</td>\n",
       "      <td>2006-01-16 12:00:00</td>\n",
       "      <td>2100-12-16 12:00:00</td>\n",
       "      <td>s3://ncar-cesm-lens/ocn/monthly/cesmLE-RCP85-T...</td>\n",
       "    </tr>\n",
       "  </tbody>\n",
       "</table>\n",
       "</div>"
      ],
      "text/plain": [
       "  variable              long_name component experiment frequency  \\\n",
       "0     TEMP  potential temperature       ocn        20C   monthly   \n",
       "1     TEMP  potential temperature       ocn       CTRL   monthly   \n",
       "2     TEMP  potential temperature       ocn       HIST   monthly   \n",
       "3     TEMP  potential temperature       ocn      RCP85   monthly   \n",
       "\n",
       "   vertical_levels spatial_domain units           start_time  \\\n",
       "0             60.0   global_ocean  degC  1920-01-16 12:00:00   \n",
       "1             60.0   global_ocean  degC  0400-01-16 12:00:00   \n",
       "2             60.0   global_ocean  degC  1850-01-16 12:00:00   \n",
       "3             60.0   global_ocean  degC  2006-01-16 12:00:00   \n",
       "\n",
       "              end_time                                               path  \n",
       "0  2005-12-16 12:00:00  s3://ncar-cesm-lens/ocn/monthly/cesmLE-20C-TEM...  \n",
       "1  2200-12-16 12:00:00  s3://ncar-cesm-lens/ocn/monthly/cesmLE-CTRL-TE...  \n",
       "2  1919-12-16 12:00:00  s3://ncar-cesm-lens/ocn/monthly/cesmLE-HIST-TE...  \n",
       "3  2100-12-16 12:00:00  s3://ncar-cesm-lens/ocn/monthly/cesmLE-RCP85-T...  "
      ]
     },
     "execution_count": 5,
     "metadata": {},
     "output_type": "execute_result"
    }
   ],
   "source": [
    "# Search for the TEMP variable, display the first few entries in the resulting data frame\n",
    "col.search(variable=\"TEMP\").df"
   ]
  },
  {
   "cell_type": "markdown",
   "id": "ba071650-785a-443b-a338-f919d774924d",
   "metadata": {},
   "source": [
    "Now we want to get a more detailed look at the dataset. To subset correctly, we will use the dictionary framework to call for variables we are interested in looking at."
   ]
  },
  {
   "cell_type": "code",
   "execution_count": 6,
   "id": "b3a3ef2b-ddf6-45bb-b549-2cc857beff46",
   "metadata": {
    "tags": []
   },
   "outputs": [
    {
     "data": {
      "text/html": [
       "<div>\n",
       "<style scoped>\n",
       "    .dataframe tbody tr th:only-of-type {\n",
       "        vertical-align: middle;\n",
       "    }\n",
       "\n",
       "    .dataframe tbody tr th {\n",
       "        vertical-align: top;\n",
       "    }\n",
       "\n",
       "    .dataframe thead th {\n",
       "        text-align: right;\n",
       "    }\n",
       "</style>\n",
       "<table border=\"1\" class=\"dataframe\">\n",
       "  <thead>\n",
       "    <tr style=\"text-align: right;\">\n",
       "      <th></th>\n",
       "      <th>variable</th>\n",
       "      <th>long_name</th>\n",
       "      <th>component</th>\n",
       "      <th>experiment</th>\n",
       "      <th>frequency</th>\n",
       "      <th>vertical_levels</th>\n",
       "      <th>spatial_domain</th>\n",
       "      <th>units</th>\n",
       "      <th>start_time</th>\n",
       "      <th>end_time</th>\n",
       "      <th>path</th>\n",
       "    </tr>\n",
       "  </thead>\n",
       "  <tbody>\n",
       "    <tr>\n",
       "      <th>0</th>\n",
       "      <td>TEMP</td>\n",
       "      <td>potential temperature</td>\n",
       "      <td>ocn</td>\n",
       "      <td>20C</td>\n",
       "      <td>monthly</td>\n",
       "      <td>60.0</td>\n",
       "      <td>global_ocean</td>\n",
       "      <td>degC</td>\n",
       "      <td>1920-01-16 12:00:00</td>\n",
       "      <td>2005-12-16 12:00:00</td>\n",
       "      <td>s3://ncar-cesm-lens/ocn/monthly/cesmLE-20C-TEM...</td>\n",
       "    </tr>\n",
       "    <tr>\n",
       "      <th>1</th>\n",
       "      <td>TEMP</td>\n",
       "      <td>potential temperature</td>\n",
       "      <td>ocn</td>\n",
       "      <td>RCP85</td>\n",
       "      <td>monthly</td>\n",
       "      <td>60.0</td>\n",
       "      <td>global_ocean</td>\n",
       "      <td>degC</td>\n",
       "      <td>2006-01-16 12:00:00</td>\n",
       "      <td>2100-12-16 12:00:00</td>\n",
       "      <td>s3://ncar-cesm-lens/ocn/monthly/cesmLE-RCP85-T...</td>\n",
       "    </tr>\n",
       "  </tbody>\n",
       "</table>\n",
       "</div>"
      ],
      "text/plain": [
       "  variable              long_name component experiment frequency  \\\n",
       "0     TEMP  potential temperature       ocn        20C   monthly   \n",
       "1     TEMP  potential temperature       ocn      RCP85   monthly   \n",
       "\n",
       "   vertical_levels spatial_domain units           start_time  \\\n",
       "0             60.0   global_ocean  degC  1920-01-16 12:00:00   \n",
       "1             60.0   global_ocean  degC  2006-01-16 12:00:00   \n",
       "\n",
       "              end_time                                               path  \n",
       "0  2005-12-16 12:00:00  s3://ncar-cesm-lens/ocn/monthly/cesmLE-20C-TEM...  \n",
       "1  2100-12-16 12:00:00  s3://ncar-cesm-lens/ocn/monthly/cesmLE-RCP85-T...  "
      ]
     },
     "execution_count": 6,
     "metadata": {},
     "output_type": "execute_result"
    }
   ],
   "source": [
    "# Get more detailed: search for monthly output for the 20th century and RCP8.5 \n",
    "col_ocntemp = col.search(\n",
    "    frequency=[\"monthly\"],\n",
    "    component=\"ocn\",\n",
    "    variable=\"TEMP\",\n",
    "    experiment=[\"20C\", \"RCP85\"],  # (\"HIST\" is the 1850-1919 period, which is only in the first ensemble member, and \"20C\" is 1920-2005 which is common across all the other members) \n",
    ")\n",
    "\n",
    "#call the search in a dataframe\n",
    "col_ocntemp.df"
   ]
  },
  {
   "cell_type": "markdown",
   "id": "92f5155c-d292-4c16-972f-423a4ca3144a",
   "metadata": {},
   "source": [
    "After doing all these steps, we can now call in our dataframe of interest by loading it into an xarray. It should be noted that this method uses lazy loading to call in the data, so the rest of the steps in this dataframe may take some time to run as it is directly calling the data from where the data is hosted."
   ]
  },
  {
   "cell_type": "code",
   "execution_count": null,
   "id": "341d2ff5-e3d1-4d9d-9d33-b915ce3eb521",
   "metadata": {},
   "outputs": [],
   "source": [
    "# Load catalog entries for subset into a dictionary of xarray datasets\n",
    "dsets = col_ocntemp.to_dataset_dict(\n",
    "    zarr_kwargs={\"consolidated\": True}, storage_options={\"anon\": True}\n",
    ")\n",
    "print(f\"\\nDataset dictionary keys:\\n {dsets.keys()}\") #print to make sure we are getting the correct set of keys"
   ]
  },
  {
   "cell_type": "markdown",
   "id": "d80aa538-0277-4665-9a80-83519341a351",
   "metadata": {},
   "source": [
    "Lastly, we need to get information on the grid that we can overlay on top of the climate dataframe. Here we will be opening a path to where the location is located for the grid and assign it to a variable."
   ]
  },
  {
   "cell_type": "code",
   "execution_count": null,
   "id": "175f5384-08a8-4c8e-bcbd-a96986692fe3",
   "metadata": {},
   "outputs": [],
   "source": [
    "# Get file containing lat/lon grid information: s3://ncar-cesm-lens/ocn/static/grid.zarr\n",
    "fs = s3fs.S3FileSystem(anon=True)\n",
    "grid = xr.open_zarr(fs.get_mapper(grid_url), consolidated=True)\n",
    "grid"
   ]
  },
  {
   "cell_type": "markdown",
   "id": "d4dc7394-9041-4758-8f26-b550a118fb2b",
   "metadata": {},
   "source": [
    "And that is how we load in the data! Certain aspects such as the variable and experiment of interest are able to be changed to the discretion of the user. This gives the user the most flexibility to look at variables that they are most interested in."
   ]
  },
  {
   "cell_type": "markdown",
   "id": "b2ec6678-017a-4682-b371-70153485cf20",
   "metadata": {},
   "source": [
    "### Data Wrangling\n",
    "\n",
    "This section will cover some ways we recommend you wrangling the data to make the `xarray` easier to work with.\n",
    "\n",
    "Since we now have the datasets properly loaded in, we want to subset the experiments into their own variable, as they cover different time periods. The datasets will be split between one housing the 20C runs and the RCP85 runs. \n",
    "\n",
    "*note to self and delete afterwards: also should add historical runs too. or maybe just focus on one run? lets go ahead and ask Samantha*"
   ]
  },
  {
   "cell_type": "code",
   "execution_count": null,
   "id": "69fb4c9a-9425-42b2-8e4b-89853061d04d",
   "metadata": {},
   "outputs": [],
   "source": [
    "# Define Xarray datasets corresponding to the two experiments\n",
    "ds_20C = dsets[\"ocn.20C.monthly\"]\n",
    "ds_RCP85 = dsets[\"ocn.RCP85.monthly\"]\n",
    "ds_20C"
   ]
  },
  {
   "cell_type": "code",
   "execution_count": null,
   "id": "9e49f2ef-c8fb-4d3e-a434-94e227507a8d",
   "metadata": {},
   "outputs": [],
   "source": [
    "#take the mean of the member_id so it will not show up as a dimension\n",
    "ds_20C_mean=ds_20C.mean(dim=\"member_id\")\n",
    "ds_20C_mean"
   ]
  },
  {
   "cell_type": "markdown",
   "id": "c340ebb4-bfa0-47ec-a707-22f0ddf82fc4",
   "metadata": {},
   "source": [
    "#### Slicing for a specific time frame\n",
    "\n",
    "As this notebook is concerned with the time between 1950 to 2000, we will be slicing our xarray to feature that time frame using the function `.sel`."
   ]
  },
  {
   "cell_type": "code",
   "execution_count": null,
   "id": "972c5362-8368-4d33-9ef4-332991a08408",
   "metadata": {},
   "outputs": [],
   "source": [
    "ds_20C_mean.sel(time=slice(\"1950\", \"2000\"))"
   ]
  },
  {
   "cell_type": "markdown",
   "id": "32860389-874a-40a0-baca-e93f96a40cf9",
   "metadata": {},
   "source": [
    "#### Merging the grid with the climate dataframe\n",
    "\n",
    "We will now merge the grid data with the subsetted climate data to give the climate data grids to work with. As mentioned previously, the climate dataframes does not include grid information, so we are not able to subset to the location we are intereted in easily without the grid information"
   ]
  },
  {
   "cell_type": "code",
   "execution_count": null,
   "id": "95c97d19-a2c0-48b7-98cd-ae0b5429a3b9",
   "metadata": {},
   "outputs": [],
   "source": [
    "# Merge the datasets\n",
    "merged_dataset = xr.merge([grid, ds_20C])\n",
    "ds_20C_merged_mean=merged_dataset.mean(dim=\"member_id\")\n",
    "#when TEMP is added in code\n",
    "#test = ds_20C_merged_mean.TEMP.sel(time=slice(\"1950\", \"2000\"))\n",
    "#when TEMP is not added in code\n",
    "test = ds_20C_merged_mean.sel(time=slice(\"1950\", \"2000\"))"
   ]
  },
  {
   "cell_type": "code",
   "execution_count": null,
   "id": "efede0e7-85ce-4424-9fe3-df94cca6a485",
   "metadata": {},
   "outputs": [],
   "source": []
  },
  {
   "cell_type": "markdown",
   "id": "88f54a74-da82-4915-b38f-77c56f8eecbc",
   "metadata": {},
   "source": [
    "### Data Exploring\n",
    "\n",
    "This section will cover some data exploration and what are in these xarrays."
   ]
  },
  {
   "cell_type": "code",
   "execution_count": null,
   "id": "d9115125-0e44-454b-9db1-f82f7f1411b4",
   "metadata": {},
   "outputs": [],
   "source": []
  },
  {
   "cell_type": "markdown",
   "id": "36faf7a6-18ee-41db-b0ef-60d98b52c3ae",
   "metadata": {},
   "source": [
    "## Plotting the time series"
   ]
  },
  {
   "cell_type": "markdown",
   "id": "f4ab015e-0b52-4203-b053-cdcd38ee6f9b",
   "metadata": {},
   "source": []
  }
 ],
 "metadata": {
  "kernelspec": {
   "display_name": "channelislanders",
   "language": "python",
   "name": "channelislanders"
  },
  "language_info": {
   "codemirror_mode": {
    "name": "ipython",
    "version": 3
   },
   "file_extension": ".py",
   "mimetype": "text/x-python",
   "name": "python",
   "nbconvert_exporter": "python",
   "pygments_lexer": "ipython3",
   "version": "3.9.18"
  }
 },
 "nbformat": 4,
 "nbformat_minor": 5
}
