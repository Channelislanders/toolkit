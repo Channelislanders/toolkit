{
 "cells": [
  {
   "cell_type": "markdown",
   "id": "c54101b3-720c-4342-96cf-97e226328474",
   "metadata": {},
   "source": [
    "## Step 1: Import necessary libraries"
   ]
  },
  {
   "cell_type": "code",
   "execution_count": 12,
   "id": "61a6b035-8c9a-4892-83fc-6dd8d2a65e59",
   "metadata": {},
   "outputs": [
    {
     "ename": "ModuleNotFoundError",
     "evalue": "No module named 'rasterio'",
     "output_type": "error",
     "traceback": [
      "\u001b[0;31m---------------------------------------------------------------------------\u001b[0m",
      "\u001b[0;31mModuleNotFoundError\u001b[0m                       Traceback (most recent call last)",
      "Cell \u001b[0;32mIn[12], line 7\u001b[0m\n\u001b[1;32m      5\u001b[0m \u001b[38;5;28;01mimport\u001b[39;00m \u001b[38;5;21;01mpandas\u001b[39;00m \u001b[38;5;28;01mas\u001b[39;00m \u001b[38;5;21;01mpd\u001b[39;00m\n\u001b[1;32m      6\u001b[0m \u001b[38;5;28;01mimport\u001b[39;00m \u001b[38;5;21;01mnumpy\u001b[39;00m \u001b[38;5;28;01mas\u001b[39;00m \u001b[38;5;21;01mnp\u001b[39;00m\n\u001b[0;32m----> 7\u001b[0m \u001b[38;5;28;01mfrom\u001b[39;00m \u001b[38;5;21;01mrasterio\u001b[39;00m \u001b[38;5;28;01mimport\u001b[39;00m mask\n\u001b[1;32m      9\u001b[0m \u001b[38;5;66;03m# Packages needed for CESM1 example\u001b[39;00m\n\u001b[1;32m     10\u001b[0m \u001b[38;5;28;01mimport\u001b[39;00m \u001b[38;5;21;01mpprint\u001b[39;00m\n",
      "\u001b[0;31mModuleNotFoundError\u001b[0m: No module named 'rasterio'"
     ]
    }
   ],
   "source": [
    "\n",
    "# Packages needed generally\n",
    "import matplotlib.pyplot as plt\n",
    "#from cartopy import crs as ccrs, feature as cfeature\n",
    "import xarray as xr\n",
    "import pandas as pd\n",
    "import numpy as np\n",
    "from rasterio import mask\n",
    "\n",
    "# Packages needed for CESM1 example\n",
    "import pprint\n",
    "import intake\n",
    "import requests\n",
    "import aiohttp\n",
    "import s3fs\n",
    "\n",
    "# Packages needed for CMIP6\n",
    "import zarr\n",
    "import gcsfs"
   ]
  },
  {
   "cell_type": "markdown",
   "id": "dfe093f4-0553-4593-a8fe-f019e7aee182",
   "metadata": {},
   "source": [
    "## Step 2: Data access"
   ]
  },
  {
   "cell_type": "code",
   "execution_count": null,
   "id": "c1abd993-c695-4ae3-92db-df6234238003",
   "metadata": {
    "tags": []
   },
   "outputs": [],
   "source": [
    "# Open original collection description file: CESM1 LENS\n",
    "cat_url = \"https://ncar-cesm-lens.s3-us-west-2.amazonaws.com/catalogs/aws-cesm1-le.json\"\n",
    "col = intake.open_esm_datastore(cat_url)\n",
    "col\n",
    "\n",
    "# Location of file containing grid (lat/lon) information for CESM1 LENS\n",
    "grid_url=\"s3://ncar-cesm-lens/ocn/static/grid.zarr\""
   ]
  },
  {
   "cell_type": "markdown",
   "id": "2e74cae0-79e1-44c2-940c-f45c45ef0bd0",
   "metadata": {},
   "source": [
    "## Step 3: Subset data to regoin of interest"
   ]
  },
  {
   "cell_type": "code",
   "execution_count": null,
   "id": "425000ce-fda5-4943-b4a7-a11c8b97f7e0",
   "metadata": {
    "tags": []
   },
   "outputs": [],
   "source": [
    "# Search for the sea surface variable, display the first few entries in the resulting data frame\n",
    "col.search(variable=\"SST\").df"
   ]
  },
  {
   "cell_type": "code",
   "execution_count": null,
   "id": "5a7d4b3f-f85b-4359-971b-f6deacaae47d",
   "metadata": {
    "tags": []
   },
   "outputs": [],
   "source": [
    "# Get more detailed: search for monthly output for the 20th century and RCP8.5 \n",
    "# (\"HIST\" is the 1850-1919 period, which is only in the first ensemble member, and \"20C\" is 1920-2005 which is common across all the other members)\n",
    "col_ocntemp = col.search(\n",
    "    frequency=[\"monthly\"],\n",
    "    component=\"ocn\",\n",
    "    variable=\"SST\",\n",
    "    experiment=[\"20C\", \"RCP85\"],  \n",
    ")\n",
    "\n",
    "col_ocntemp.df"
   ]
  },
  {
   "cell_type": "code",
   "execution_count": 2,
   "id": "4e152aa9-b008-4d4a-b3f1-acfc0c9d69a3",
   "metadata": {
    "tags": []
   },
   "outputs": [
    {
     "ename": "NameError",
     "evalue": "name 'col_ocntemp' is not defined",
     "output_type": "error",
     "traceback": [
      "\u001b[0;31m---------------------------------------------------------------------------\u001b[0m",
      "\u001b[0;31mNameError\u001b[0m                                 Traceback (most recent call last)",
      "Cell \u001b[0;32mIn[2], line 2\u001b[0m\n\u001b[1;32m      1\u001b[0m \u001b[38;5;66;03m# Load catalog entries for subset into a dictionary of xarray datasets\u001b[39;00m\n\u001b[0;32m----> 2\u001b[0m dsets \u001b[38;5;241m=\u001b[39m \u001b[43mcol_ocntemp\u001b[49m\u001b[38;5;241m.\u001b[39mto_dataset_dict(\n\u001b[1;32m      3\u001b[0m     zarr_kwargs\u001b[38;5;241m=\u001b[39m{\u001b[38;5;124m\"\u001b[39m\u001b[38;5;124mconsolidated\u001b[39m\u001b[38;5;124m\"\u001b[39m: \u001b[38;5;28;01mTrue\u001b[39;00m}, storage_options\u001b[38;5;241m=\u001b[39m{\u001b[38;5;124m\"\u001b[39m\u001b[38;5;124manon\u001b[39m\u001b[38;5;124m\"\u001b[39m: \u001b[38;5;28;01mTrue\u001b[39;00m}\n\u001b[1;32m      4\u001b[0m )\n\u001b[1;32m      5\u001b[0m \u001b[38;5;28mprint\u001b[39m(\u001b[38;5;124mf\u001b[39m\u001b[38;5;124m\"\u001b[39m\u001b[38;5;130;01m\\n\u001b[39;00m\u001b[38;5;124mDataset dictionary keys:\u001b[39m\u001b[38;5;130;01m\\n\u001b[39;00m\u001b[38;5;124m \u001b[39m\u001b[38;5;132;01m{\u001b[39;00mdsets\u001b[38;5;241m.\u001b[39mkeys()\u001b[38;5;132;01m}\u001b[39;00m\u001b[38;5;124m\"\u001b[39m)\n",
      "\u001b[0;31mNameError\u001b[0m: name 'col_ocntemp' is not defined"
     ]
    }
   ],
   "source": [
    "# Load catalog entries for subset into a dictionary of xarray datasets\n",
    "dsets = col_ocntemp.to_dataset_dict(\n",
    "    zarr_kwargs={\"consolidated\": True}, storage_options={\"anon\": True}\n",
    ")\n",
    "print(f\"\\nDataset dictionary keys:\\n {dsets.keys()}\")"
   ]
  },
  {
   "cell_type": "code",
   "execution_count": 3,
   "id": "dc507a5f-15a7-42d5-bf25-6b071b435822",
   "metadata": {},
   "outputs": [
    {
     "ename": "NameError",
     "evalue": "name 's3fs' is not defined",
     "output_type": "error",
     "traceback": [
      "\u001b[0;31m---------------------------------------------------------------------------\u001b[0m",
      "\u001b[0;31mNameError\u001b[0m                                 Traceback (most recent call last)",
      "Cell \u001b[0;32mIn[3], line 2\u001b[0m\n\u001b[1;32m      1\u001b[0m \u001b[38;5;66;03m# Get file containing lat/lon grid information: s3://ncar-cesm-lens/ocn/static/grid.zarr\u001b[39;00m\n\u001b[0;32m----> 2\u001b[0m fs \u001b[38;5;241m=\u001b[39m \u001b[43ms3fs\u001b[49m\u001b[38;5;241m.\u001b[39mS3FileSystem(anon\u001b[38;5;241m=\u001b[39m\u001b[38;5;28;01mTrue\u001b[39;00m)\n\u001b[1;32m      3\u001b[0m grid \u001b[38;5;241m=\u001b[39m xr\u001b[38;5;241m.\u001b[39mopen_zarr(fs\u001b[38;5;241m.\u001b[39mget_mapper(grid_url), consolidated\u001b[38;5;241m=\u001b[39m\u001b[38;5;28;01mTrue\u001b[39;00m) \u001b[38;5;66;03m#we need to mess with this to get coordinates for channel islands\u001b[39;00m\n\u001b[1;32m      4\u001b[0m \u001b[38;5;66;03m#grid.z_t.plot.scatter() #for vertical profile\u001b[39;00m\n",
      "\u001b[0;31mNameError\u001b[0m: name 's3fs' is not defined"
     ]
    }
   ],
   "source": [
    "# Get file containing lat/lon grid information: s3://ncar-cesm-lens/ocn/static/grid.zarr\n",
    "fs = s3fs.S3FileSystem(anon=True)\n",
    "grid = xr.open_zarr(fs.get_mapper(grid_url), consolidated=True) #we need to mess with this to get coordinates for channel islands\n",
    "#grid.z_t.plot.scatter() #for vertical profile\n",
    "grid"
   ]
  },
  {
   "cell_type": "code",
   "execution_count": 4,
   "id": "18c573a9-0b4a-4397-9571-c5d4b874f0fd",
   "metadata": {},
   "outputs": [
    {
     "ename": "NameError",
     "evalue": "name 'dsets' is not defined",
     "output_type": "error",
     "traceback": [
      "\u001b[0;31m---------------------------------------------------------------------------\u001b[0m",
      "\u001b[0;31mNameError\u001b[0m                                 Traceback (most recent call last)",
      "Cell \u001b[0;32mIn[4], line 2\u001b[0m\n\u001b[1;32m      1\u001b[0m \u001b[38;5;66;03m# Define Xarray datasets corresponding to the three experiments\u001b[39;00m\n\u001b[0;32m----> 2\u001b[0m ds_20C \u001b[38;5;241m=\u001b[39m \u001b[43mdsets\u001b[49m[\u001b[38;5;124m\"\u001b[39m\u001b[38;5;124mocn.20C.monthly\u001b[39m\u001b[38;5;124m\"\u001b[39m]\n\u001b[1;32m      3\u001b[0m ds_RCP85 \u001b[38;5;241m=\u001b[39m dsets[\u001b[38;5;124m\"\u001b[39m\u001b[38;5;124mocn.RCP85.monthly\u001b[39m\u001b[38;5;124m\"\u001b[39m]\n\u001b[1;32m      5\u001b[0m \u001b[38;5;66;03m#look at ds_20C dataset\u001b[39;00m\n",
      "\u001b[0;31mNameError\u001b[0m: name 'dsets' is not defined"
     ]
    }
   ],
   "source": [
    "# Define Xarray datasets corresponding to the three experiments\n",
    "ds_20C = dsets[\"ocn.20C.monthly\"]\n",
    "ds_RCP85 = dsets[\"ocn.RCP85.monthly\"]\n",
    "\n",
    "#look at ds_20C dataset\n",
    "ds_20C"
   ]
  },
  {
   "cell_type": "markdown",
   "id": "3245dd75-4d3c-425d-ae95-01fde0d85efa",
   "metadata": {},
   "source": [
    "## Step 4: Mapping subset data"
   ]
  },
  {
   "cell_type": "code",
   "execution_count": 5,
   "id": "5b5fcf3f-d6cd-4ad6-8b7b-e60cf5feac2b",
   "metadata": {},
   "outputs": [
    {
     "ename": "NameError",
     "evalue": "name 'ds_20C' is not defined",
     "output_type": "error",
     "traceback": [
      "\u001b[0;31m---------------------------------------------------------------------------\u001b[0m",
      "\u001b[0;31mNameError\u001b[0m                                 Traceback (most recent call last)",
      "Cell \u001b[0;32mIn[5], line 4\u001b[0m\n\u001b[1;32m      1\u001b[0m \u001b[38;5;66;03m#this is mapping the whole world. code chunk runs a long time but is here to check if it is working correctly\u001b[39;00m\n\u001b[1;32m      2\u001b[0m \n\u001b[1;32m      3\u001b[0m \u001b[38;5;66;03m# take mean of the `member_id` dimensions\u001b[39;00m\n\u001b[0;32m----> 4\u001b[0m ds_20C_mean\u001b[38;5;241m=\u001b[39m\u001b[43mds_20C\u001b[49m\u001b[38;5;241m.\u001b[39mmean(dim\u001b[38;5;241m=\u001b[39m\u001b[38;5;124m\"\u001b[39m\u001b[38;5;124mmember_id\u001b[39m\u001b[38;5;124m\"\u001b[39m)\n\u001b[1;32m      6\u001b[0m \u001b[38;5;66;03m#zoom into SST variable and slice for years between 1950 to 2000\u001b[39;00m\n\u001b[1;32m      7\u001b[0m test_2 \u001b[38;5;241m=\u001b[39m ds_20C_mean\u001b[38;5;241m.\u001b[39mSST\u001b[38;5;241m.\u001b[39msel(time\u001b[38;5;241m=\u001b[39m\u001b[38;5;28mslice\u001b[39m(\u001b[38;5;124m\"\u001b[39m\u001b[38;5;124m1950\u001b[39m\u001b[38;5;124m\"\u001b[39m, \u001b[38;5;124m\"\u001b[39m\u001b[38;5;124m2000\u001b[39m\u001b[38;5;124m\"\u001b[39m))\n",
      "\u001b[0;31mNameError\u001b[0m: name 'ds_20C' is not defined"
     ]
    }
   ],
   "source": [
    "\n",
    "#this is mapping the whole world. code chunk runs a long time but is here to check if it is working correctly\n",
    "\n",
    "# take mean of the `member_id` dimensions\n",
    "ds_20C_mean=ds_20C.mean(dim=\"member_id\")\n",
    "\n",
    "#zoom into SST variable and slice for years between 1950 to 2000\n",
    "test_2 = ds_20C_mean.SST.sel(time=slice(\"1950\", \"2000\"))\n",
    "\n",
    "#slice even more to just a certain year stated\n",
    "test_1950_2 = test_2.sel(time='1950-03')\n",
    "test_2000_2 = test_2.sel(time='2000-03')\n",
    "\n",
    "#plot the graph on the map\n",
    "test_1950_2.squeeze().plot()"
   ]
  },
  {
   "cell_type": "code",
   "execution_count": 6,
   "id": "2e8950bf-fae3-42a7-9579-fb5270ffac72",
   "metadata": {},
   "outputs": [
    {
     "ename": "NameError",
     "evalue": "name 'ds_20C' is not defined",
     "output_type": "error",
     "traceback": [
      "\u001b[0;31m---------------------------------------------------------------------------\u001b[0m",
      "\u001b[0;31mNameError\u001b[0m                                 Traceback (most recent call last)",
      "Cell \u001b[0;32mIn[6], line 2\u001b[0m\n\u001b[1;32m      1\u001b[0m \u001b[38;5;66;03m#slicing the nlat and nlon to subset for a certain part on the map\u001b[39;00m\n\u001b[0;32m----> 2\u001b[0m ds_20C_ch \u001b[38;5;241m=\u001b[39m \u001b[43mds_20C\u001b[49m\u001b[38;5;241m.\u001b[39misel(nlat\u001b[38;5;241m=\u001b[39m\u001b[38;5;28mslice\u001b[39m(\u001b[38;5;241m240\u001b[39m,\u001b[38;5;241m330\u001b[39m), nlon\u001b[38;5;241m=\u001b[39m\u001b[38;5;28mslice\u001b[39m(\u001b[38;5;241m220\u001b[39m,\u001b[38;5;241m260\u001b[39m))\n\u001b[1;32m      3\u001b[0m ds_20C_ch\n",
      "\u001b[0;31mNameError\u001b[0m: name 'ds_20C' is not defined"
     ]
    }
   ],
   "source": [
    "#slicing the nlat and nlon to subset for a certain part on the map\n",
    "ds_20C_ch = ds_20C.isel(nlat=slice(240,330), nlon=slice(220,260))\n",
    "ds_20C_ch"
   ]
  },
  {
   "cell_type": "code",
   "execution_count": 7,
   "id": "18703041-4059-464e-a8c4-2acd67129d19",
   "metadata": {},
   "outputs": [
    {
     "ename": "NameError",
     "evalue": "name 'ds_20C_ch' is not defined",
     "output_type": "error",
     "traceback": [
      "\u001b[0;31m---------------------------------------------------------------------------\u001b[0m",
      "\u001b[0;31mNameError\u001b[0m                                 Traceback (most recent call last)",
      "Cell \u001b[0;32mIn[7], line 2\u001b[0m\n\u001b[1;32m      1\u001b[0m \u001b[38;5;66;03m#for 1920 to 2000\u001b[39;00m\n\u001b[0;32m----> 2\u001b[0m ds_20C_ch_mean \u001b[38;5;241m=\u001b[39m \u001b[43mds_20C_ch\u001b[49m\u001b[38;5;241m.\u001b[39mmean(dim\u001b[38;5;241m=\u001b[39m\u001b[38;5;124m\"\u001b[39m\u001b[38;5;124mmember_id\u001b[39m\u001b[38;5;124m\"\u001b[39m)\n\u001b[1;32m      3\u001b[0m \u001b[38;5;66;03m#see what is in this x array\u001b[39;00m\n\u001b[1;32m      4\u001b[0m ds_20C_ch_mean\n",
      "\u001b[0;31mNameError\u001b[0m: name 'ds_20C_ch' is not defined"
     ]
    }
   ],
   "source": [
    "#for 1920 to 2000\n",
    "ds_20C_ch_mean = ds_20C_ch.mean(dim=\"member_id\")\n",
    "#see what is in this x array\n",
    "ds_20C_ch_mean"
   ]
  },
  {
   "cell_type": "code",
   "execution_count": 8,
   "id": "23d946af-5d95-46b2-9378-eeda79ddeba9",
   "metadata": {},
   "outputs": [
    {
     "ename": "NameError",
     "evalue": "name 'ds_20C' is not defined",
     "output_type": "error",
     "traceback": [
      "\u001b[0;31m---------------------------------------------------------------------------\u001b[0m",
      "\u001b[0;31mNameError\u001b[0m                                 Traceback (most recent call last)",
      "Cell \u001b[0;32mIn[8], line 5\u001b[0m\n\u001b[1;32m      1\u001b[0m \u001b[38;5;66;03m#slice for times between 1950 to 2000\u001b[39;00m\n\u001b[1;32m      2\u001b[0m \u001b[38;5;66;03m#ds_20C_ch_mean = ds_20C_ch_mean.SST.sel(time=slice(\"1950\", \"2000\")) #took out SST\u001b[39;00m\n\u001b[1;32m      3\u001b[0m \u001b[38;5;66;03m#ds_20C_ch_mean\u001b[39;00m\n\u001b[0;32m----> 5\u001b[0m ds_20C_ch \u001b[38;5;241m=\u001b[39m \u001b[43mds_20C\u001b[49m\u001b[38;5;241m.\u001b[39mSST\u001b[38;5;241m.\u001b[39msel(time\u001b[38;5;241m=\u001b[39m\u001b[38;5;28mslice\u001b[39m(\u001b[38;5;124m\"\u001b[39m\u001b[38;5;124m1950\u001b[39m\u001b[38;5;124m\"\u001b[39m, \u001b[38;5;124m\"\u001b[39m\u001b[38;5;124m2000\u001b[39m\u001b[38;5;124m\"\u001b[39m)) \u001b[38;5;66;03m#took out SST\u001b[39;00m\n\u001b[1;32m      6\u001b[0m ds_20C_ch\n",
      "\u001b[0;31mNameError\u001b[0m: name 'ds_20C' is not defined"
     ]
    }
   ],
   "source": [
    "#slice for times between 1950 to 2000\n",
    "#ds_20C_ch_mean = ds_20C_ch_mean.SST.sel(time=slice(\"1950\", \"2000\")) #took out SST\n",
    "#ds_20C_ch_mean\n",
    "\n",
    "ds_20C_ch = ds_20C.SST.sel(time=slice(\"1950\", \"2000\")) #took out SST\n",
    "ds_20C_ch"
   ]
  },
  {
   "cell_type": "code",
   "execution_count": 9,
   "id": "355d8862-78d7-4470-b548-3f5aebb8154b",
   "metadata": {
    "tags": []
   },
   "outputs": [
    {
     "ename": "NameError",
     "evalue": "name 'ds_20C_ch' is not defined",
     "output_type": "error",
     "traceback": [
      "\u001b[0;31m---------------------------------------------------------------------------\u001b[0m",
      "\u001b[0;31mNameError\u001b[0m                                 Traceback (most recent call last)",
      "Cell \u001b[0;32mIn[9], line 3\u001b[0m\n\u001b[1;32m      1\u001b[0m regbox\u001b[38;5;241m=\u001b[39m[\u001b[38;5;241m-\u001b[39m\u001b[38;5;241m40\u001b[39m,\u001b[38;5;241m40\u001b[39m,\u001b[38;5;241m90\u001b[39m,\u001b[38;5;241m300\u001b[39m]\n\u001b[1;32m      2\u001b[0m \u001b[38;5;66;03m# Read in specified region\u001b[39;00m\n\u001b[0;32m----> 3\u001b[0m mask_lon \u001b[38;5;241m=\u001b[39m (\u001b[43mds_20C_ch\u001b[49m\u001b[38;5;241m.\u001b[39mlon \u001b[38;5;241m>\u001b[39m\u001b[38;5;241m=\u001b[39m regbox[\u001b[38;5;241m2\u001b[39m]) \u001b[38;5;241m&\u001b[39m (ds_20C_ch\u001b[38;5;241m.\u001b[39mlon \u001b[38;5;241m<\u001b[39m\u001b[38;5;241m=\u001b[39m regbox[\u001b[38;5;241m3\u001b[39m])\n\u001b[1;32m      4\u001b[0m mask_lat \u001b[38;5;241m=\u001b[39m (ds_20C_ch\u001b[38;5;241m.\u001b[39mlat \u001b[38;5;241m>\u001b[39m\u001b[38;5;241m=\u001b[39m regbox[\u001b[38;5;241m0\u001b[39m]) \u001b[38;5;241m&\u001b[39m (ds_20C_ch\u001b[38;5;241m.\u001b[39mlat \u001b[38;5;241m<\u001b[39m\u001b[38;5;241m=\u001b[39m regbox[\u001b[38;5;241m1\u001b[39m])\n\u001b[1;32m      5\u001b[0m sst\u001b[38;5;241m=\u001b[39mmytos\u001b[38;5;241m.\u001b[39mwhere(mask_lon \u001b[38;5;241m&\u001b[39m mask_lat, drop\u001b[38;5;241m=\u001b[39m\u001b[38;5;28;01mTrue\u001b[39;00m)\u001b[38;5;241m.\u001b[39msqueeze()\n",
      "\u001b[0;31mNameError\u001b[0m: name 'ds_20C_ch' is not defined"
     ]
    }
   ],
   "source": [
    "regbox=[-40,40,90,300]\n",
    "# Read in specified region\n",
    "mask_lon = (ds_20C_ch.lon >= regbox[2]) & (ds_20C_ch.lon <= regbox[3])\n",
    "mask_lat = (ds_20C_ch.lat >= regbox[0]) & (ds_20C_ch.lat <= regbox[1])\n",
    "sst=mytos.where(mask_lon & mask_lat, drop=True).squeeze()"
   ]
  },
  {
   "cell_type": "code",
   "execution_count": 10,
   "id": "acb2c13b-c864-4839-b235-9ef1f9e0b72e",
   "metadata": {},
   "outputs": [
    {
     "ename": "NameError",
     "evalue": "name 'ds_20C_ch_mean' is not defined",
     "output_type": "error",
     "traceback": [
      "\u001b[0;31m---------------------------------------------------------------------------\u001b[0m",
      "\u001b[0;31mNameError\u001b[0m                                 Traceback (most recent call last)",
      "Cell \u001b[0;32mIn[10], line 2\u001b[0m\n\u001b[1;32m      1\u001b[0m \u001b[38;5;66;03m#slice for just 1950-03\u001b[39;00m\n\u001b[0;32m----> 2\u001b[0m test_1950 \u001b[38;5;241m=\u001b[39m \u001b[43mds_20C_ch_mean\u001b[49m\u001b[38;5;241m.\u001b[39msel(time\u001b[38;5;241m=\u001b[39m\u001b[38;5;124m'\u001b[39m\u001b[38;5;124m1950\u001b[39m\u001b[38;5;124m'\u001b[39m)\n\u001b[1;32m      3\u001b[0m test_2000 \u001b[38;5;241m=\u001b[39m ds_20C_ch_mean\u001b[38;5;241m.\u001b[39msel(time\u001b[38;5;241m=\u001b[39m\u001b[38;5;124m'\u001b[39m\u001b[38;5;124m2000-03\u001b[39m\u001b[38;5;124m'\u001b[39m)\n\u001b[1;32m      4\u001b[0m test_1950\u001b[38;5;241m.\u001b[39mplot()\n",
      "\u001b[0;31mNameError\u001b[0m: name 'ds_20C_ch_mean' is not defined"
     ]
    }
   ],
   "source": [
    "#slice for just 1950-03\n",
    "test_1950 = ds_20C_ch_mean.sel(time='1950')\n",
    "test_2000 = ds_20C_ch_mean.sel(time='2000-03')\n",
    "test_1950.plot()\n"
   ]
  },
  {
   "cell_type": "code",
   "execution_count": 11,
   "id": "7c4af1b7-49f9-4160-a766-69677d95e954",
   "metadata": {},
   "outputs": [
    {
     "ename": "NameError",
     "evalue": "name 'test_1950' is not defined",
     "output_type": "error",
     "traceback": [
      "\u001b[0;31m---------------------------------------------------------------------------\u001b[0m",
      "\u001b[0;31mNameError\u001b[0m                                 Traceback (most recent call last)",
      "Cell \u001b[0;32mIn[11], line 5\u001b[0m\n\u001b[1;32m      1\u001b[0m fig, axs \u001b[38;5;241m=\u001b[39m plt\u001b[38;5;241m.\u001b[39msubplots(ncols\u001b[38;5;241m=\u001b[39m\u001b[38;5;241m2\u001b[39m)\n\u001b[1;32m      3\u001b[0m axs\n\u001b[0;32m----> 5\u001b[0m \u001b[43mtest_1950\u001b[49m\u001b[38;5;241m.\u001b[39mplot(ax\u001b[38;5;241m=\u001b[39maxs[\u001b[38;5;241m0\u001b[39m])\n\u001b[1;32m      7\u001b[0m test_1950\u001b[38;5;241m.\u001b[39mplot\u001b[38;5;241m.\u001b[39mhist(ax\u001b[38;5;241m=\u001b[39maxs[\u001b[38;5;241m1\u001b[39m])\n\u001b[1;32m      9\u001b[0m plt\u001b[38;5;241m.\u001b[39mtight_layout()\n",
      "\u001b[0;31mNameError\u001b[0m: name 'test_1950' is not defined"
     ]
    },
    {
     "data": {
      "image/png": "[encoded data removed]",
      "text/plain": [
       "<Figure size 640x480 with 2 Axes>"
      ]
     },
     "metadata": {},
     "output_type": "display_data"
    }
   ],
   "source": [
    "fig, axs = plt.subplots(ncols=2)\n",
    "\n",
    "axs\n",
    "\n",
    "test_1950.plot(ax=axs[0])\n",
    "\n",
    "test_1950.plot.hist(ax=axs[1])\n",
    "\n",
    "plt.tight_layout()\n",
    "\n",
    "plt.draw()"
   ]
  },
  {
   "cell_type": "code",
   "execution_count": null,
   "id": "4cc2fe7a-18a6-4351-8655-3d6c7676e16b",
   "metadata": {},
   "outputs": [],
   "source": []
  },
  {
   "cell_type": "code",
   "execution_count": null,
   "id": "db3f3074-e00f-48bc-923e-e2ff1f202e09",
   "metadata": {},
   "outputs": [],
   "source": []
  },
  {
   "cell_type": "code",
   "execution_count": null,
   "id": "45577abe-cef1-4ad4-8f41-eddeddeb57af",
   "metadata": {},
   "outputs": [],
   "source": []
  },
  {
   "cell_type": "code",
   "execution_count": null,
   "id": "1faed8a2-4f8e-456f-8589-4599ba91dfde",
   "metadata": {},
   "outputs": [],
   "source": []
  },
  {
   "cell_type": "code",
   "execution_count": null,
   "id": "85d39f46-4e50-4f9c-9a84-4425249c185c",
   "metadata": {},
   "outputs": [],
   "source": []
  },
  {
   "cell_type": "code",
   "execution_count": null,
   "id": "52f0f445-db5a-482e-8c8e-9669f682f6ee",
   "metadata": {},
   "outputs": [],
   "source": []
  }
 ],
 "metadata": {
  "kernelspec": {
   "display_name": "channelislanders",
   "language": "python",
   "name": "channelislanders"
  },
  "language_info": {
   "codemirror_mode": {
    "name": "ipython",
    "version": 3
   },
   "file_extension": ".py",
   "mimetype": "text/x-python",
   "name": "python",
   "nbconvert_exporter": "python",
   "pygments_lexer": "ipython3",
   "version": "3.9.18"
  }
 },
 "nbformat": 4,
 "nbformat_minor": 5
}
