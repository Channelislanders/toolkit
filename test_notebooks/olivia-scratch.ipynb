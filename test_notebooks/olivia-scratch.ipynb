{
 "cells": [
  {
   "cell_type": "markdown",
   "id": "c54101b3-720c-4342-96cf-97e226328474",
   "metadata": {},
   "source": [
    "## Step 1: Import necessary libraries"
   ]
  },
  {
   "cell_type": "code",
   "execution_count": 3,
   "id": "386b2638-782a-4614-9ece-3bc521f97730",
   "metadata": {},
   "outputs": [],
   "source": [
    "import sys\n",
    "import logging\n",
    "\n",
    "so = open(\"data.log\", 'w', 10)\n",
    "sys.stdout.echo = so\n",
    "sys.stderr.echo = so\n",
    "\n",
    "get_ipython().log.handlers[0].stream = so\n",
    "get_ipython().log.setLevel(logging.INFO)"
   ]
  },
  {
   "cell_type": "code",
   "execution_count": 4,
   "id": "61a6b035-8c9a-4892-83fc-6dd8d2a65e59",
   "metadata": {
    "tags": []
   },
   "outputs": [],
   "source": [
    "\n",
    "# Packages needed generally\n",
    "import matplotlib.pyplot as plt\n",
    "from cartopy import crs as ccrs, feature as cfeature\n",
    "import xarray as xr\n",
    "import pandas as pd\n",
    "import numpy as np\n",
    "from rasterio import mask\n",
    "\n",
    "# Packages needed for CESM1 example\n",
    "import pprint\n",
    "import intake\n",
    "import requests\n",
    "import aiohttp\n",
    "import s3fs\n",
    "\n",
    "# Packages needed for CMIP6\n",
    "import zarr\n",
    "import gcsfs"
   ]
  },
  {
   "cell_type": "markdown",
   "id": "dfe093f4-0553-4593-a8fe-f019e7aee182",
   "metadata": {},
   "source": [
    "## Step 2: Data access"
   ]
  },
  {
   "cell_type": "code",
   "execution_count": 5,
   "id": "c1abd993-c695-4ae3-92db-df6234238003",
   "metadata": {
    "tags": []
   },
   "outputs": [],
   "source": [
    "# Open original collection description file: CESM1 LENS\n",
    "cat_url = \"https://ncar-cesm-lens.s3-us-west-2.amazonaws.com/catalogs/aws-cesm1-le.json\"\n",
    "col = intake.open_esm_datastore(cat_url)\n",
    "col\n",
    "\n",
    "# Location of file containing grid (lat/lon) information for CESM1 LENS\n",
    "grid_url=\"s3://ncar-cesm-lens/ocn/static/grid.zarr\""
   ]
  },
  {
   "cell_type": "markdown",
   "id": "2e74cae0-79e1-44c2-940c-f45c45ef0bd0",
   "metadata": {},
   "source": [
    "## Step 3: Subset data to regoin of interest"
   ]
  },
  {
   "cell_type": "code",
   "execution_count": 6,
   "id": "425000ce-fda5-4943-b4a7-a11c8b97f7e0",
   "metadata": {
    "tags": []
   },
   "outputs": [
    {
     "data": {
      "text/html": [
       "<div>\n",
       "<style scoped>\n",
       "    .dataframe tbody tr th:only-of-type {\n",
       "        vertical-align: middle;\n",
       "    }\n",
       "\n",
       "    .dataframe tbody tr th {\n",
       "        vertical-align: top;\n",
       "    }\n",
       "\n",
       "    .dataframe thead th {\n",
       "        text-align: right;\n",
       "    }\n",
       "</style>\n",
       "<table border=\"1\" class=\"dataframe\">\n",
       "  <thead>\n",
       "    <tr style=\"text-align: right;\">\n",
       "      <th></th>\n",
       "      <th>variable</th>\n",
       "      <th>long_name</th>\n",
       "      <th>component</th>\n",
       "      <th>experiment</th>\n",
       "      <th>frequency</th>\n",
       "      <th>vertical_levels</th>\n",
       "      <th>spatial_domain</th>\n",
       "      <th>units</th>\n",
       "      <th>start_time</th>\n",
       "      <th>end_time</th>\n",
       "      <th>path</th>\n",
       "    </tr>\n",
       "  </thead>\n",
       "  <tbody>\n",
       "    <tr>\n",
       "      <th>0</th>\n",
       "      <td>O2</td>\n",
       "      <td>dissolved oxygen</td>\n",
       "      <td>ocn</td>\n",
       "      <td>20C</td>\n",
       "      <td>monthly</td>\n",
       "      <td>60.0</td>\n",
       "      <td>global_ocean</td>\n",
       "      <td>mmol/m^3</td>\n",
       "      <td>1920-01-16 12:00:00</td>\n",
       "      <td>2005-12-16 12:00:00</td>\n",
       "      <td>s3://ncar-cesm-lens/ocn/monthly/cesmLE-20C-O2....</td>\n",
       "    </tr>\n",
       "    <tr>\n",
       "      <th>1</th>\n",
       "      <td>SALT</td>\n",
       "      <td>salinity</td>\n",
       "      <td>ocn</td>\n",
       "      <td>20C</td>\n",
       "      <td>monthly</td>\n",
       "      <td>60.0</td>\n",
       "      <td>global_ocean</td>\n",
       "      <td>gram/kilogram</td>\n",
       "      <td>1920-01-16 12:00:00</td>\n",
       "      <td>2005-12-16 12:00:00</td>\n",
       "      <td>s3://ncar-cesm-lens/ocn/monthly/cesmLE-20C-SAL...</td>\n",
       "    </tr>\n",
       "    <tr>\n",
       "      <th>2</th>\n",
       "      <td>SST</td>\n",
       "      <td>potential temperature</td>\n",
       "      <td>ocn</td>\n",
       "      <td>20C</td>\n",
       "      <td>monthly</td>\n",
       "      <td>1.0</td>\n",
       "      <td>global_ocean</td>\n",
       "      <td>degC</td>\n",
       "      <td>1920-01-16 12:00:00</td>\n",
       "      <td>2005-12-16 12:00:00</td>\n",
       "      <td>s3://ncar-cesm-lens/ocn/monthly/cesmLE-20C-SST...</td>\n",
       "    </tr>\n",
       "    <tr>\n",
       "      <th>3</th>\n",
       "      <td>TEMP</td>\n",
       "      <td>potential temperature</td>\n",
       "      <td>ocn</td>\n",
       "      <td>20C</td>\n",
       "      <td>monthly</td>\n",
       "      <td>60.0</td>\n",
       "      <td>global_ocean</td>\n",
       "      <td>degC</td>\n",
       "      <td>1920-01-16 12:00:00</td>\n",
       "      <td>2005-12-16 12:00:00</td>\n",
       "      <td>s3://ncar-cesm-lens/ocn/monthly/cesmLE-20C-TEM...</td>\n",
       "    </tr>\n",
       "    <tr>\n",
       "      <th>4</th>\n",
       "      <td>O2</td>\n",
       "      <td>dissolved oxygen</td>\n",
       "      <td>ocn</td>\n",
       "      <td>RCP85</td>\n",
       "      <td>monthly</td>\n",
       "      <td>60.0</td>\n",
       "      <td>global_ocean</td>\n",
       "      <td>mmol/m^3</td>\n",
       "      <td>2006-01-16 12:00:00</td>\n",
       "      <td>2100-12-16 12:00:00</td>\n",
       "      <td>s3://ncar-cesm-lens/ocn/monthly/cesmLE-RCP85-O...</td>\n",
       "    </tr>\n",
       "    <tr>\n",
       "      <th>5</th>\n",
       "      <td>SALT</td>\n",
       "      <td>salinity</td>\n",
       "      <td>ocn</td>\n",
       "      <td>RCP85</td>\n",
       "      <td>monthly</td>\n",
       "      <td>60.0</td>\n",
       "      <td>global_ocean</td>\n",
       "      <td>gram/kilogram</td>\n",
       "      <td>2006-01-16 12:00:00</td>\n",
       "      <td>2100-12-16 12:00:00</td>\n",
       "      <td>s3://ncar-cesm-lens/ocn/monthly/cesmLE-RCP85-S...</td>\n",
       "    </tr>\n",
       "    <tr>\n",
       "      <th>6</th>\n",
       "      <td>SST</td>\n",
       "      <td>potential temperature</td>\n",
       "      <td>ocn</td>\n",
       "      <td>RCP85</td>\n",
       "      <td>monthly</td>\n",
       "      <td>1.0</td>\n",
       "      <td>global_ocean</td>\n",
       "      <td>degC</td>\n",
       "      <td>2006-01-16 12:00:00</td>\n",
       "      <td>2100-12-16 12:00:00</td>\n",
       "      <td>s3://ncar-cesm-lens/ocn/monthly/cesmLE-RCP85-S...</td>\n",
       "    </tr>\n",
       "    <tr>\n",
       "      <th>7</th>\n",
       "      <td>TEMP</td>\n",
       "      <td>potential temperature</td>\n",
       "      <td>ocn</td>\n",
       "      <td>RCP85</td>\n",
       "      <td>monthly</td>\n",
       "      <td>60.0</td>\n",
       "      <td>global_ocean</td>\n",
       "      <td>degC</td>\n",
       "      <td>2006-01-16 12:00:00</td>\n",
       "      <td>2100-12-16 12:00:00</td>\n",
       "      <td>s3://ncar-cesm-lens/ocn/monthly/cesmLE-RCP85-T...</td>\n",
       "    </tr>\n",
       "  </tbody>\n",
       "</table>\n",
       "</div>"
      ],
      "text/plain": [
       "  variable              long_name component experiment frequency  \\\n",
       "0       O2       dissolved oxygen       ocn        20C   monthly   \n",
       "1     SALT               salinity       ocn        20C   monthly   \n",
       "2      SST  potential temperature       ocn        20C   monthly   \n",
       "3     TEMP  potential temperature       ocn        20C   monthly   \n",
       "4       O2       dissolved oxygen       ocn      RCP85   monthly   \n",
       "5     SALT               salinity       ocn      RCP85   monthly   \n",
       "6      SST  potential temperature       ocn      RCP85   monthly   \n",
       "7     TEMP  potential temperature       ocn      RCP85   monthly   \n",
       "\n",
       "   vertical_levels spatial_domain          units           start_time  \\\n",
       "0             60.0   global_ocean       mmol/m^3  1920-01-16 12:00:00   \n",
       "1             60.0   global_ocean  gram/kilogram  1920-01-16 12:00:00   \n",
       "2              1.0   global_ocean           degC  1920-01-16 12:00:00   \n",
       "3             60.0   global_ocean           degC  1920-01-16 12:00:00   \n",
       "4             60.0   global_ocean       mmol/m^3  2006-01-16 12:00:00   \n",
       "5             60.0   global_ocean  gram/kilogram  2006-01-16 12:00:00   \n",
       "6              1.0   global_ocean           degC  2006-01-16 12:00:00   \n",
       "7             60.0   global_ocean           degC  2006-01-16 12:00:00   \n",
       "\n",
       "              end_time                                               path  \n",
       "0  2005-12-16 12:00:00  s3://ncar-cesm-lens/ocn/monthly/cesmLE-20C-O2....  \n",
       "1  2005-12-16 12:00:00  s3://ncar-cesm-lens/ocn/monthly/cesmLE-20C-SAL...  \n",
       "2  2005-12-16 12:00:00  s3://ncar-cesm-lens/ocn/monthly/cesmLE-20C-SST...  \n",
       "3  2005-12-16 12:00:00  s3://ncar-cesm-lens/ocn/monthly/cesmLE-20C-TEM...  \n",
       "4  2100-12-16 12:00:00  s3://ncar-cesm-lens/ocn/monthly/cesmLE-RCP85-O...  \n",
       "5  2100-12-16 12:00:00  s3://ncar-cesm-lens/ocn/monthly/cesmLE-RCP85-S...  \n",
       "6  2100-12-16 12:00:00  s3://ncar-cesm-lens/ocn/monthly/cesmLE-RCP85-S...  \n",
       "7  2100-12-16 12:00:00  s3://ncar-cesm-lens/ocn/monthly/cesmLE-RCP85-T...  "
      ]
     },
     "execution_count": 6,
     "metadata": {},
     "output_type": "execute_result"
    }
   ],
   "source": [
    "# the experiments and variables we want to work with at a monthly frequency\n",
    "col.search(experiment = [\"RCP85\", \"20C\"], frequency = \"monthly\", variable = [\"O2\",\"SALT\",\"TEMP\",\"SST\"]).df"
   ]
  },
  {
   "cell_type": "code",
   "execution_count": 7,
   "id": "5a7d4b3f-f85b-4359-971b-f6deacaae47d",
   "metadata": {
    "tags": []
   },
   "outputs": [
    {
     "name": "stdout",
     "output_type": "stream",
     "text": [
      "{'TEMP': <aws-cesm1-le catalog with 2 dataset(s) from 2 asset(s)>, 'SALT': <aws-cesm1-le catalog with 2 dataset(s) from 2 asset(s)>, 'O2': <aws-cesm1-le catalog with 2 dataset(s) from 2 asset(s)>}\n"
     ]
    },
    {
     "data": {
      "text/html": [
       "<div>\n",
       "<style scoped>\n",
       "    .dataframe tbody tr th:only-of-type {\n",
       "        vertical-align: middle;\n",
       "    }\n",
       "\n",
       "    .dataframe tbody tr th {\n",
       "        vertical-align: top;\n",
       "    }\n",
       "\n",
       "    .dataframe thead th {\n",
       "        text-align: right;\n",
       "    }\n",
       "</style>\n",
       "<table border=\"1\" class=\"dataframe\">\n",
       "  <thead>\n",
       "    <tr style=\"text-align: right;\">\n",
       "      <th></th>\n",
       "      <th>variable</th>\n",
       "      <th>long_name</th>\n",
       "      <th>component</th>\n",
       "      <th>experiment</th>\n",
       "      <th>frequency</th>\n",
       "      <th>vertical_levels</th>\n",
       "      <th>spatial_domain</th>\n",
       "      <th>units</th>\n",
       "      <th>start_time</th>\n",
       "      <th>end_time</th>\n",
       "      <th>path</th>\n",
       "    </tr>\n",
       "  </thead>\n",
       "  <tbody>\n",
       "    <tr>\n",
       "      <th>0</th>\n",
       "      <td>O2</td>\n",
       "      <td>dissolved oxygen</td>\n",
       "      <td>ocn</td>\n",
       "      <td>20C</td>\n",
       "      <td>monthly</td>\n",
       "      <td>60.0</td>\n",
       "      <td>global_ocean</td>\n",
       "      <td>mmol/m^3</td>\n",
       "      <td>1920-01-16 12:00:00</td>\n",
       "      <td>2005-12-16 12:00:00</td>\n",
       "      <td>s3://ncar-cesm-lens/ocn/monthly/cesmLE-20C-O2....</td>\n",
       "    </tr>\n",
       "    <tr>\n",
       "      <th>1</th>\n",
       "      <td>O2</td>\n",
       "      <td>dissolved oxygen</td>\n",
       "      <td>ocn</td>\n",
       "      <td>RCP85</td>\n",
       "      <td>monthly</td>\n",
       "      <td>60.0</td>\n",
       "      <td>global_ocean</td>\n",
       "      <td>mmol/m^3</td>\n",
       "      <td>2006-01-16 12:00:00</td>\n",
       "      <td>2100-12-16 12:00:00</td>\n",
       "      <td>s3://ncar-cesm-lens/ocn/monthly/cesmLE-RCP85-O...</td>\n",
       "    </tr>\n",
       "  </tbody>\n",
       "</table>\n",
       "</div>"
      ],
      "text/plain": [
       "  variable         long_name component experiment frequency  vertical_levels  \\\n",
       "0       O2  dissolved oxygen       ocn        20C   monthly             60.0   \n",
       "1       O2  dissolved oxygen       ocn      RCP85   monthly             60.0   \n",
       "\n",
       "  spatial_domain     units           start_time             end_time  \\\n",
       "0   global_ocean  mmol/m^3  1920-01-16 12:00:00  2005-12-16 12:00:00   \n",
       "1   global_ocean  mmol/m^3  2006-01-16 12:00:00  2100-12-16 12:00:00   \n",
       "\n",
       "                                                path  \n",
       "0  s3://ncar-cesm-lens/ocn/monthly/cesmLE-20C-O2....  \n",
       "1  s3://ncar-cesm-lens/ocn/monthly/cesmLE-RCP85-O...  "
      ]
     },
     "execution_count": 7,
     "metadata": {},
     "output_type": "execute_result"
    }
   ],
   "source": [
    "# Get more detailed: search for monthly output for the 20th century and RCP8.5 scenarios\n",
    "variables = [\"TEMP\", \"SALT\", \"O2\"]\n",
    "col_ocn = {}\n",
    "\n",
    "for var in variables:\n",
    "    col_ocn[f\"{var}\"] = col.search(\n",
    "        frequency=[\"monthly\"],\n",
    "        component=\"ocn\",\n",
    "        variable=var,\n",
    "        experiment=[\"20C\", \"RCP85\"],\n",
    "    )\n",
    "\n",
    "print(col_ocn)\n",
    "\n",
    "#Display the first few entries in the resulting data frame\n",
    "col_ocn[\"TEMP\"].df\n",
    "col_ocn[\"SALT\"].df\n",
    "col_ocn[\"O2\"].df"
   ]
  },
  {
   "cell_type": "code",
   "execution_count": 8,
   "id": "4e152aa9-b008-4d4a-b3f1-acfc0c9d69a3",
   "metadata": {
    "tags": []
   },
   "outputs": [
    {
     "name": "stdout",
     "output_type": "stream",
     "text": [
      "\n",
      "--> The keys in the returned dictionary of datasets are constructed as follows:\n",
      "\t'component.experiment.frequency'\n"
     ]
    },
    {
     "data": {
      "text/html": [
       "\n",
       "<style>\n",
       "    /* Turns off some styling */\n",
       "    progress {\n",
       "        /* gets rid of default border in Firefox and Opera. */\n",
       "        border: none;\n",
       "        /* Needs to be in here for Safari polyfill so background images work as expected. */\n",
       "        background-size: auto;\n",
       "    }\n",
       "    progress:not([value]), progress:not([value])::-webkit-progress-bar {\n",
       "        background: repeating-linear-gradient(45deg, #7e7e7e, #7e7e7e 10px, #5c5c5c 10px, #5c5c5c 20px);\n",
       "    }\n",
       "    .progress-bar-interrupted, .progress-bar-interrupted::-webkit-progress-bar {\n",
       "        background: #F44336;\n",
       "    }\n",
       "</style>\n"
      ],
      "text/plain": [
       "<IPython.core.display.HTML object>"
      ]
     },
     "metadata": {},
     "output_type": "display_data"
    },
    {
     "data": {
      "text/html": [
       "\n",
       "    <div>\n",
       "      <progress value='2' class='' max='2' style='width:300px; height:20px; vertical-align: middle;'></progress>\n",
       "      100.00% [2/2 00:01&lt;00:00]\n",
       "    </div>\n",
       "    "
      ],
      "text/plain": [
       "<IPython.core.display.HTML object>"
      ]
     },
     "metadata": {},
     "output_type": "display_data"
    },
    {
     "name": "stderr",
     "output_type": "stream",
     "text": [
      "/Users/olholt/.conda/envs/channelislanders/lib/python3.9/site-packages/xarray/backends/plugins.py:80: RuntimeWarning: Engine 'cfgrib' loading failed:\n",
      "Cannot find the ecCodes library\n",
      "  warnings.warn(f\"Engine {name!r} loading failed:\\n{ex}\", RuntimeWarning)\n",
      "/Users/olholt/.conda/envs/channelislanders/lib/python3.9/site-packages/xarray/backends/plugins.py:80: RuntimeWarning: Engine 'cfgrib' loading failed:\n",
      "Cannot find the ecCodes library\n",
      "  warnings.warn(f\"Engine {name!r} loading failed:\\n{ex}\", RuntimeWarning)\n"
     ]
    },
    {
     "name": "stdout",
     "output_type": "stream",
     "text": [
      "\n",
      "Dataset dictionary keys for TEMP:\n",
      " dict_keys(['ocn.RCP85.monthly', 'ocn.20C.monthly'])\n",
      "\n",
      "--> The keys in the returned dictionary of datasets are constructed as follows:\n",
      "\t'component.experiment.frequency'\n"
     ]
    },
    {
     "data": {
      "text/html": [
       "\n",
       "<style>\n",
       "    /* Turns off some styling */\n",
       "    progress {\n",
       "        /* gets rid of default border in Firefox and Opera. */\n",
       "        border: none;\n",
       "        /* Needs to be in here for Safari polyfill so background images work as expected. */\n",
       "        background-size: auto;\n",
       "    }\n",
       "    progress:not([value]), progress:not([value])::-webkit-progress-bar {\n",
       "        background: repeating-linear-gradient(45deg, #7e7e7e, #7e7e7e 10px, #5c5c5c 10px, #5c5c5c 20px);\n",
       "    }\n",
       "    .progress-bar-interrupted, .progress-bar-interrupted::-webkit-progress-bar {\n",
       "        background: #F44336;\n",
       "    }\n",
       "</style>\n"
      ],
      "text/plain": [
       "<IPython.core.display.HTML object>"
      ]
     },
     "metadata": {},
     "output_type": "display_data"
    },
    {
     "data": {
      "text/html": [
       "\n",
       "    <div>\n",
       "      <progress value='2' class='' max='2' style='width:300px; height:20px; vertical-align: middle;'></progress>\n",
       "      100.00% [2/2 00:00&lt;00:00]\n",
       "    </div>\n",
       "    "
      ],
      "text/plain": [
       "<IPython.core.display.HTML object>"
      ]
     },
     "metadata": {},
     "output_type": "display_data"
    },
    {
     "name": "stdout",
     "output_type": "stream",
     "text": [
      "\n",
      "Dataset dictionary keys for SALT:\n",
      " dict_keys(['ocn.20C.monthly', 'ocn.RCP85.monthly'])\n",
      "\n",
      "--> The keys in the returned dictionary of datasets are constructed as follows:\n",
      "\t'component.experiment.frequency'\n"
     ]
    },
    {
     "data": {
      "text/html": [
       "\n",
       "<style>\n",
       "    /* Turns off some styling */\n",
       "    progress {\n",
       "        /* gets rid of default border in Firefox and Opera. */\n",
       "        border: none;\n",
       "        /* Needs to be in here for Safari polyfill so background images work as expected. */\n",
       "        background-size: auto;\n",
       "    }\n",
       "    progress:not([value]), progress:not([value])::-webkit-progress-bar {\n",
       "        background: repeating-linear-gradient(45deg, #7e7e7e, #7e7e7e 10px, #5c5c5c 10px, #5c5c5c 20px);\n",
       "    }\n",
       "    .progress-bar-interrupted, .progress-bar-interrupted::-webkit-progress-bar {\n",
       "        background: #F44336;\n",
       "    }\n",
       "</style>\n"
      ],
      "text/plain": [
       "<IPython.core.display.HTML object>"
      ]
     },
     "metadata": {},
     "output_type": "display_data"
    },
    {
     "data": {
      "text/html": [
       "\n",
       "    <div>\n",
       "      <progress value='2' class='' max='2' style='width:300px; height:20px; vertical-align: middle;'></progress>\n",
       "      100.00% [2/2 00:00&lt;00:00]\n",
       "    </div>\n",
       "    "
      ],
      "text/plain": [
       "<IPython.core.display.HTML object>"
      ]
     },
     "metadata": {},
     "output_type": "display_data"
    },
    {
     "name": "stdout",
     "output_type": "stream",
     "text": [
      "\n",
      "Dataset dictionary keys for O2:\n",
      " dict_keys(['ocn.20C.monthly', 'ocn.RCP85.monthly'])\n"
     ]
    }
   ],
   "source": [
    "# Load catalog entries for subset into a dictionary of xarray datasets\n",
    "#Lets create another for loop to iteratre over the col_ocn dictionary\n",
    "\n",
    "dsets = {}\n",
    "for var in variables:\n",
    "    dsets[var] = col_ocn[var].to_dataset_dict(\n",
    "        zarr_kwargs={\"consolidated\": True}, storage_options={\"anon\": True}\n",
    "    )\n",
    "    print(f\"\\nDataset dictionary keys for {var}:\\n {dsets[var].keys()}\")\n"
   ]
  },
  {
   "cell_type": "code",
   "execution_count": 9,
   "id": "dc507a5f-15a7-42d5-bf25-6b071b435822",
   "metadata": {},
   "outputs": [],
   "source": [
    "# Define Xarray datasets corresponding to the two experiments by each variable \n",
    "ds_20C_TEMP = dsets[\"TEMP\"][\"ocn.20C.monthly\"]\n",
    "ds_RCP85_TEMP = dsets[\"TEMP\"][\"ocn.RCP85.monthly\"]\n",
    "\n",
    "ds_20C_SALT = dsets[\"SALT\"][\"ocn.20C.monthly\"]\n",
    "ds_RCP85_SALT = dsets[\"SALT\"][\"ocn.RCP85.monthly\"]\n",
    "\n",
    "ds_20C_O2 = dsets[\"O2\"][\"ocn.20C.monthly\"]\n",
    "ds_RCP85_O2 = dsets[\"O2\"][\"ocn.RCP85.monthly\"]\n"
   ]
  },
  {
   "cell_type": "code",
   "execution_count": null,
   "id": "d4f3ec53-4490-4faf-8c6b-0e864f4fc85b",
   "metadata": {},
   "outputs": [],
   "source": []
  },
  {
   "cell_type": "code",
   "execution_count": null,
   "id": "18c573a9-0b4a-4397-9571-c5d4b874f0fd",
   "metadata": {},
   "outputs": [],
   "source": [
    "latlon_subset = ds_20C_TEMP.isel(nlat = 280, nlon = 240)\n",
    "\n",
    "latlon_subset.to_netcdf(\"latlon_TEMP_subset.nc\")"
   ]
  },
  {
   "cell_type": "code",
   "execution_count": null,
   "id": "35f0ae87-94e5-4eda-8c06-c32eb4becf09",
   "metadata": {
    "tags": []
   },
   "outputs": [],
   "source": [
    "#latlon_subset = ds_20C_TEMP.isel(nlat = 280, nlon = 240)\n",
    "\n",
    "#latlon_subset.to_netcdf(\"latlon_TEMP_subset.nc\")\n",
    "\n",
    "# Initialize an empty list to store mean values for each member_id\n",
    "TEMP_means_list = []\n",
    "\n",
    "# Loop through each member_id and calculate the mean\n",
    "for member in ds_20C_TEMP.member_id:\n",
    "    member_mean = latlon_subset.sel(member_id=member).TEMP.mean(\"time\")\n",
    "    TEMP_means_list.append(member_mean)\n",
    "\n",
    "# Convert the list to an xarray DataArray (assuming member IDs are a coordinate)\n",
    "TEMP_means = xr.concat(TEMP_means_list, dim='member_id').mean('member_id')\n",
    "\n",
    "# Plot the dissolved oxygen with inverted y-axis\n",
    "plt.figure()\n",
    "TEMP_means.plot(y='z_t')\n",
    "plt.gca().invert_yaxis()\n",
    "plt.xlabel('Temperature (Degrees Celsius)')\n",
    "plt.ylabel('Depth (cm)')\n",
    "plt.title('Mean Temperature Profile')\n",
    "plt.show()\n"
   ]
  },
  {
   "cell_type": "code",
   "execution_count": null,
   "id": "f31f9b95-41d2-4d0a-a176-249b52c3d433",
   "metadata": {},
   "outputs": [],
   "source": []
  },
  {
   "cell_type": "code",
   "execution_count": null,
   "id": "2e8950bf-fae3-42a7-9579-fb5270ffac72",
   "metadata": {},
   "outputs": [],
   "source": [
    "# Approximate latitude range for southern California\n",
    "lat_range = (30, 35)\n",
    "# Approximate longitude range for southern California\n",
    "lon_range = (235, 245)\n",
    "# Subset the data based on the latitude and longitude ranges\n",
    "test_subset = test_SST.where((test_SST.lat >= lat_range[0]) & (test_SST.lat <= lat_range[1]) &\n",
    "                                 (test_SST.lon >= lon_range[0]) & (test_SST.lon <= lon_range[1]),\n",
    "                                 drop=True)"
   ]
  },
  {
   "cell_type": "code",
   "execution_count": null,
   "id": "355d8862-78d7-4470-b548-3f5aebb8154b",
   "metadata": {
    "tags": []
   },
   "outputs": [],
   "source": []
  },
  {
   "cell_type": "code",
   "execution_count": null,
   "id": "4cc2fe7a-18a6-4351-8655-3d6c7676e16b",
   "metadata": {},
   "outputs": [],
   "source": []
  },
  {
   "cell_type": "code",
   "execution_count": null,
   "id": "db3f3074-e00f-48bc-923e-e2ff1f202e09",
   "metadata": {},
   "outputs": [],
   "source": []
  },
  {
   "cell_type": "code",
   "execution_count": null,
   "id": "45577abe-cef1-4ad4-8f41-eddeddeb57af",
   "metadata": {},
   "outputs": [],
   "source": []
  },
  {
   "cell_type": "code",
   "execution_count": null,
   "id": "1faed8a2-4f8e-456f-8589-4599ba91dfde",
   "metadata": {},
   "outputs": [],
   "source": []
  },
  {
   "cell_type": "code",
   "execution_count": null,
   "id": "85d39f46-4e50-4f9c-9a84-4425249c185c",
   "metadata": {},
   "outputs": [],
   "source": []
  },
  {
   "cell_type": "code",
   "execution_count": null,
   "id": "52f0f445-db5a-482e-8c8e-9669f682f6ee",
   "metadata": {},
   "outputs": [],
   "source": []
  }
 ],
 "metadata": {
  "kernelspec": {
   "display_name": "channelislanders",
   "language": "python",
   "name": "channelislanders"
  },
  "language_info": {
   "codemirror_mode": {
    "name": "ipython",
    "version": 3
   },
   "file_extension": ".py",
   "mimetype": "text/x-python",
   "name": "python",
   "nbconvert_exporter": "python",
   "pygments_lexer": "ipython3",
   "version": "3.9.18"
  }
 },
 "nbformat": 4,
 "nbformat_minor": 5
}
