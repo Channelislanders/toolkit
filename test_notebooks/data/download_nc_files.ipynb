{
 "cells": [
  {
   "cell_type": "code",
   "execution_count": 1,
   "id": "1d6481c0-ed4b-40a2-a269-5b39448c8719",
   "metadata": {
    "tags": []
   },
   "outputs": [],
   "source": [
    "#import packages\n",
    "import matplotlib.pyplot as plt\n",
    "from cartopy import crs as ccrs, feature as cfeature\n",
    "import xarray as xr\n",
    "import pandas as pd\n",
    "import numpy as np\n",
    "\n",
    "# Packages needed for CESM1 example\n",
    "import pprint\n",
    "import intake\n",
    "import requests\n",
    "import aiohttp\n",
    "import s3fs\n",
    "import dask"
   ]
  },
  {
   "cell_type": "code",
   "execution_count": 2,
   "id": "8212c018-389e-4582-a360-b42386abe1b6",
   "metadata": {
    "tags": []
   },
   "outputs": [
    {
     "data": {
      "text/html": [
       "<p><strong>aws-cesm1-le catalog with 56 dataset(s) from 442 asset(s)</strong>:</p> <div>\n",
       "<style scoped>\n",
       "    .dataframe tbody tr th:only-of-type {\n",
       "        vertical-align: middle;\n",
       "    }\n",
       "\n",
       "    .dataframe tbody tr th {\n",
       "        vertical-align: top;\n",
       "    }\n",
       "\n",
       "    .dataframe thead th {\n",
       "        text-align: right;\n",
       "    }\n",
       "</style>\n",
       "<table border=\"1\" class=\"dataframe\">\n",
       "  <thead>\n",
       "    <tr style=\"text-align: right;\">\n",
       "      <th></th>\n",
       "      <th>unique</th>\n",
       "    </tr>\n",
       "  </thead>\n",
       "  <tbody>\n",
       "    <tr>\n",
       "      <th>variable</th>\n",
       "      <td>78</td>\n",
       "    </tr>\n",
       "    <tr>\n",
       "      <th>long_name</th>\n",
       "      <td>75</td>\n",
       "    </tr>\n",
       "    <tr>\n",
       "      <th>component</th>\n",
       "      <td>5</td>\n",
       "    </tr>\n",
       "    <tr>\n",
       "      <th>experiment</th>\n",
       "      <td>4</td>\n",
       "    </tr>\n",
       "    <tr>\n",
       "      <th>frequency</th>\n",
       "      <td>6</td>\n",
       "    </tr>\n",
       "    <tr>\n",
       "      <th>vertical_levels</th>\n",
       "      <td>3</td>\n",
       "    </tr>\n",
       "    <tr>\n",
       "      <th>spatial_domain</th>\n",
       "      <td>5</td>\n",
       "    </tr>\n",
       "    <tr>\n",
       "      <th>units</th>\n",
       "      <td>25</td>\n",
       "    </tr>\n",
       "    <tr>\n",
       "      <th>start_time</th>\n",
       "      <td>12</td>\n",
       "    </tr>\n",
       "    <tr>\n",
       "      <th>end_time</th>\n",
       "      <td>13</td>\n",
       "    </tr>\n",
       "    <tr>\n",
       "      <th>path</th>\n",
       "      <td>427</td>\n",
       "    </tr>\n",
       "    <tr>\n",
       "      <th>derived_variable</th>\n",
       "      <td>0</td>\n",
       "    </tr>\n",
       "  </tbody>\n",
       "</table>\n",
       "</div>"
      ],
      "text/plain": [
       "<IPython.core.display.HTML object>"
      ]
     },
     "metadata": {},
     "output_type": "display_data"
    }
   ],
   "source": [
    "# Open original collection description file: CESM1 LENS\n",
    "cat_url = \"https://ncar-cesm-lens.s3-us-west-2.amazonaws.com/catalogs/aws-cesm1-le.json\"\n",
    "# open the catalog using the intake function\n",
    "col = intake.open_esm_datastore(cat_url)\n",
    "#view the catalog\n",
    "col"
   ]
  },
  {
   "cell_type": "code",
   "execution_count": 6,
   "id": "f7723302-5ba0-4e66-93d5-b13436482484",
   "metadata": {
    "tags": []
   },
   "outputs": [],
   "source": [
    "# Get more detailed: search for monthly output for the 20th century and RCP8.5 \n",
    "col_ocntemp = col.search(\n",
    "    frequency=[\"monthly\"],\n",
    "    component=\"ocn\",\n",
    "    variable=[\"TEMP\"],\n",
    "    experiment=[\"HIST\", \"20C\", \"RCP85\"],  # (\"HIST\" is the 1850-1919 period, which is only in the first ensemble member, and \"20C\" is 1920-2005 which is common across all the other members) \n",
    ")\n",
    "\n",
    "\n",
    "# Get more detailed: search for monthly output for the 20th century and RCP8.5 \n",
    "col_ocnO2 = col.search(\n",
    "    frequency=[\"monthly\"],\n",
    "    component=\"ocn\",\n",
    "    variable=[\"O2\"],\n",
    "    experiment=[\"HIST\", \"20C\", \"RCP85\"],  # (\"HIST\" is the 1850-1919 period, which is only in the first ensemble member, and \"20C\" is 1920-2005 which is common across all the other members) \n",
    ")\n",
    "\n",
    "\n",
    "# Get more detailed: search for monthly output for the 20th century and RCP8.5 \n",
    "col_ocnsalt = col.search(\n",
    "    frequency=[\"monthly\"],\n",
    "    component=\"ocn\",\n",
    "    variable=[\"SALT\"],\n",
    "    experiment=[\"HIST\", \"20C\", \"RCP85\"],  # (\"HIST\" is the 1850-1919 period, which is only in the first ensemble member, and \"20C\" is 1920-2005 which is common across all the other members) \n",
    ")\n",
    "\n",
    "\n",
    "# Get more detailed: search for monthly output for the 20th century and RCP8.5 \n",
    "col_ocnsst = col.search(\n",
    "    frequency=[\"monthly\"],\n",
    "    component=\"ocn\",\n",
    "    variable=[\"SST\"],\n",
    "    experiment=[\"HIST\", \"20C\", \"RCP85\"],  # (\"HIST\" is the 1850-1919 period, which is only in the first ensemble member, and \"20C\" is 1920-2005 which is common across all the other members) \n",
    ")\n"
   ]
  },
  {
   "cell_type": "code",
   "execution_count": 9,
   "id": "5ced2a1c-3b8b-44f2-89aa-7b77e7451385",
   "metadata": {
    "tags": []
   },
   "outputs": [
    {
     "name": "stdout",
     "output_type": "stream",
     "text": [
      "\n",
      "--> The keys in the returned dictionary of datasets are constructed as follows:\n",
      "\t'component.experiment.frequency'\n"
     ]
    },
    {
     "data": {
      "text/html": [
       "\n",
       "<style>\n",
       "    /* Turns off some styling */\n",
       "    progress {\n",
       "        /* gets rid of default border in Firefox and Opera. */\n",
       "        border: none;\n",
       "        /* Needs to be in here for Safari polyfill so background images work as expected. */\n",
       "        background-size: auto;\n",
       "    }\n",
       "    progress:not([value]), progress:not([value])::-webkit-progress-bar {\n",
       "        background: repeating-linear-gradient(45deg, #7e7e7e, #7e7e7e 10px, #5c5c5c 10px, #5c5c5c 20px);\n",
       "    }\n",
       "    .progress-bar-interrupted, .progress-bar-interrupted::-webkit-progress-bar {\n",
       "        background: #F44336;\n",
       "    }\n",
       "</style>\n"
      ],
      "text/plain": [
       "<IPython.core.display.HTML object>"
      ]
     },
     "metadata": {},
     "output_type": "display_data"
    },
    {
     "data": {
      "text/html": [
       "\n",
       "    <div>\n",
       "      <progress value='3' class='' max='3' style='width:300px; height:20px; vertical-align: middle;'></progress>\n",
       "      100.00% [3/3 00:00&lt;00:00]\n",
       "    </div>\n",
       "    "
      ],
      "text/plain": [
       "<IPython.core.display.HTML object>"
      ]
     },
     "metadata": {},
     "output_type": "display_data"
    },
    {
     "name": "stdout",
     "output_type": "stream",
     "text": [
      "\n",
      "Dataset dictionary keys:\n",
      " dict_keys(['ocn.HIST.monthly', 'ocn.RCP85.monthly', 'ocn.20C.monthly'])\n",
      "\n",
      "--> The keys in the returned dictionary of datasets are constructed as follows:\n",
      "\t'component.experiment.frequency'\n"
     ]
    },
    {
     "data": {
      "text/html": [
       "\n",
       "<style>\n",
       "    /* Turns off some styling */\n",
       "    progress {\n",
       "        /* gets rid of default border in Firefox and Opera. */\n",
       "        border: none;\n",
       "        /* Needs to be in here for Safari polyfill so background images work as expected. */\n",
       "        background-size: auto;\n",
       "    }\n",
       "    progress:not([value]), progress:not([value])::-webkit-progress-bar {\n",
       "        background: repeating-linear-gradient(45deg, #7e7e7e, #7e7e7e 10px, #5c5c5c 10px, #5c5c5c 20px);\n",
       "    }\n",
       "    .progress-bar-interrupted, .progress-bar-interrupted::-webkit-progress-bar {\n",
       "        background: #F44336;\n",
       "    }\n",
       "</style>\n"
      ],
      "text/plain": [
       "<IPython.core.display.HTML object>"
      ]
     },
     "metadata": {},
     "output_type": "display_data"
    },
    {
     "data": {
      "text/html": [
       "\n",
       "    <div>\n",
       "      <progress value='3' class='' max='3' style='width:300px; height:20px; vertical-align: middle;'></progress>\n",
       "      100.00% [3/3 00:00&lt;00:00]\n",
       "    </div>\n",
       "    "
      ],
      "text/plain": [
       "<IPython.core.display.HTML object>"
      ]
     },
     "metadata": {},
     "output_type": "display_data"
    },
    {
     "name": "stdout",
     "output_type": "stream",
     "text": [
      "\n",
      "Dataset dictionary keys:\n",
      " dict_keys(['ocn.20C.monthly', 'ocn.HIST.monthly', 'ocn.RCP85.monthly'])\n",
      "\n",
      "--> The keys in the returned dictionary of datasets are constructed as follows:\n",
      "\t'component.experiment.frequency'\n"
     ]
    },
    {
     "data": {
      "text/html": [
       "\n",
       "<style>\n",
       "    /* Turns off some styling */\n",
       "    progress {\n",
       "        /* gets rid of default border in Firefox and Opera. */\n",
       "        border: none;\n",
       "        /* Needs to be in here for Safari polyfill so background images work as expected. */\n",
       "        background-size: auto;\n",
       "    }\n",
       "    progress:not([value]), progress:not([value])::-webkit-progress-bar {\n",
       "        background: repeating-linear-gradient(45deg, #7e7e7e, #7e7e7e 10px, #5c5c5c 10px, #5c5c5c 20px);\n",
       "    }\n",
       "    .progress-bar-interrupted, .progress-bar-interrupted::-webkit-progress-bar {\n",
       "        background: #F44336;\n",
       "    }\n",
       "</style>\n"
      ],
      "text/plain": [
       "<IPython.core.display.HTML object>"
      ]
     },
     "metadata": {},
     "output_type": "display_data"
    },
    {
     "data": {
      "text/html": [
       "\n",
       "    <div>\n",
       "      <progress value='3' class='' max='3' style='width:300px; height:20px; vertical-align: middle;'></progress>\n",
       "      100.00% [3/3 00:00&lt;00:00]\n",
       "    </div>\n",
       "    "
      ],
      "text/plain": [
       "<IPython.core.display.HTML object>"
      ]
     },
     "metadata": {},
     "output_type": "display_data"
    },
    {
     "name": "stdout",
     "output_type": "stream",
     "text": [
      "\n",
      "Dataset dictionary keys:\n",
      " dict_keys(['ocn.20C.monthly', 'ocn.RCP85.monthly', 'ocn.HIST.monthly'])\n",
      "\n",
      "--> The keys in the returned dictionary of datasets are constructed as follows:\n",
      "\t'component.experiment.frequency'\n"
     ]
    },
    {
     "data": {
      "text/html": [
       "\n",
       "<style>\n",
       "    /* Turns off some styling */\n",
       "    progress {\n",
       "        /* gets rid of default border in Firefox and Opera. */\n",
       "        border: none;\n",
       "        /* Needs to be in here for Safari polyfill so background images work as expected. */\n",
       "        background-size: auto;\n",
       "    }\n",
       "    progress:not([value]), progress:not([value])::-webkit-progress-bar {\n",
       "        background: repeating-linear-gradient(45deg, #7e7e7e, #7e7e7e 10px, #5c5c5c 10px, #5c5c5c 20px);\n",
       "    }\n",
       "    .progress-bar-interrupted, .progress-bar-interrupted::-webkit-progress-bar {\n",
       "        background: #F44336;\n",
       "    }\n",
       "</style>\n"
      ],
      "text/plain": [
       "<IPython.core.display.HTML object>"
      ]
     },
     "metadata": {},
     "output_type": "display_data"
    },
    {
     "data": {
      "text/html": [
       "\n",
       "    <div>\n",
       "      <progress value='3' class='' max='3' style='width:300px; height:20px; vertical-align: middle;'></progress>\n",
       "      100.00% [3/3 00:00&lt;00:00]\n",
       "    </div>\n",
       "    "
      ],
      "text/plain": [
       "<IPython.core.display.HTML object>"
      ]
     },
     "metadata": {},
     "output_type": "display_data"
    },
    {
     "name": "stdout",
     "output_type": "stream",
     "text": [
      "\n",
      "Dataset dictionary keys:\n",
      " dict_keys(['ocn.20C.monthly', 'ocn.RCP85.monthly', 'ocn.HIST.monthly'])\n"
     ]
    }
   ],
   "source": [
    "# Load catalog entries for subset into a dictionary of xarray datasets\n",
    "dsets_temp = col_ocntemp.to_dataset_dict(\n",
    "    zarr_kwargs={\"consolidated\": True}, \n",
    "    storage_options={\"anon\": True})\n",
    "\n",
    "print(f\"\\nDataset dictionary keys:\\n {dsets_temp.keys()}\") #print to make sure we are getting the correct set of keys\n",
    "\n",
    "\n",
    "# Load catalog entries for subset into a dictionary of xarray datasets\n",
    "dsets_o2 = col_ocnO2.to_dataset_dict(\n",
    "    zarr_kwargs={\"consolidated\": True}, \n",
    "    storage_options={\"anon\": True})\n",
    "\n",
    "print(f\"\\nDataset dictionary keys:\\n {dsets_o2.keys()}\") #print to make sure we are getting the correct set of keys\n",
    "\n",
    "\n",
    "# Load catalog entries for subset into a dictionary of xarray datasets\n",
    "dsets_salt = col_ocnsalt.to_dataset_dict(\n",
    "    zarr_kwargs={\"consolidated\": True}, \n",
    "    storage_options={\"anon\": True})\n",
    "\n",
    "print(f\"\\nDataset dictionary keys:\\n {dsets_salt.keys()}\") #print to make sure we are getting the correct set of keys\n",
    "\n",
    "\n",
    "# Load catalog entries for subset into a dictionary of xarray datasets\n",
    "dsets_sst = col_ocnsst.to_dataset_dict(\n",
    "    zarr_kwargs={\"consolidated\": True}, \n",
    "    storage_options={\"anon\": True})\n",
    "\n",
    "print(f\"\\nDataset dictionary keys:\\n {dsets_salt.keys()}\") #print to make sure we are getting the correct set of keys"
   ]
  },
  {
   "cell_type": "code",
   "execution_count": 10,
   "id": "57d5b7a4-c0cc-459a-ad20-2cc52c1fa9cf",
   "metadata": {
    "tags": []
   },
   "outputs": [],
   "source": [
    "# Define Xarray datasets corresponding to the two experiments\n",
    "ds_20C_t = dsets_temp[\"ocn.20C.monthly\"]\n",
    "ds_RCP85_t = dsets_temp[\"ocn.RCP85.monthly\"]\n",
    "\n",
    "\n",
    "\n",
    "ds_20C_o = dsets_o2[\"ocn.20C.monthly\"]\n",
    "ds_RCP85_o = dsets_o2[\"ocn.RCP85.monthly\"]\n",
    "\n",
    "\n",
    "\n",
    "ds_20C_s = dsets_salt[\"ocn.20C.monthly\"]\n",
    "ds_RCP85_s = dsets_salt[\"ocn.RCP85.monthly\"]\n",
    "\n",
    "\n",
    "\n",
    "ds_20C_sst = dsets_salt[\"ocn.20C.monthly\"]\n",
    "ds_RCP85_sst = dsets_salt[\"ocn.RCP85.monthly\"]\n"
   ]
  },
  {
   "cell_type": "code",
   "execution_count": 11,
   "id": "09d5ab01-bb9f-4910-b927-18aa4d27c149",
   "metadata": {
    "tags": []
   },
   "outputs": [],
   "source": [
    "merge_ds_o = xr.concat([ds_20C_o, ds_RCP85_o], dim ='time')\n",
    "merge_ds_t = xr.concat([ds_20C_t, ds_RCP85_t], dim ='time')\n",
    "merge_ds_s = xr.concat([ds_20C_s, ds_RCP85_s], dim ='time')\n",
    "merge_ds_sst = xr.concat([ds_20C_sst, ds_RCP85_sst], dim ='time')"
   ]
  },
  {
   "cell_type": "code",
   "execution_count": null,
   "id": "9d5813b9-4649-40d9-9ba0-36706a247eb8",
   "metadata": {},
   "outputs": [],
   "source": []
  },
  {
   "cell_type": "code",
   "execution_count": null,
   "id": "9891a59a-b488-4d6f-8da3-968eeda00b8e",
   "metadata": {},
   "outputs": [],
   "source": [
    "%%time\n",
    "\n",
    "#create to nc file here:\n",
    "# save file - don't forget the .nc extension!\n",
    "test_2.to_netcdf('20C_rcp85_temp.nc')\n",
    "\n",
    "# open to check:\n",
    "check = xr.open_dataset('time_series_o2_20c.nc'\n",
    ")\n",
    "check"
   ]
  }
 ],
 "metadata": {
  "kernelspec": {
   "display_name": "channelislanders",
   "language": "python",
   "name": "channelislanders"
  },
  "language_info": {
   "codemirror_mode": {
    "name": "ipython",
    "version": 3
   },
   "file_extension": ".py",
   "mimetype": "text/x-python",
   "name": "python",
   "nbconvert_exporter": "python",
   "pygments_lexer": "ipython3",
   "version": "3.9.18"
  }
 },
 "nbformat": 4,
 "nbformat_minor": 5
}
