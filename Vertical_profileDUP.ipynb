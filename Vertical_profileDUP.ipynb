{
 "cells": [
  {
   "cell_type": "markdown",
   "id": "a5df7942-a7f9-4bad-991c-499d49acff56",
   "metadata": {},
   "source": [
    "## Vertical Profile Tutorial\n",
    "This is an educational toolkit to demonstrate how to plot the CESM1 data as a vertical profile.\n",
    "Vertical profiles are a vertical trend chart that display a parameter measured at a specified depth, location, and time frame. In this notebook, we will be covering how to create vertical profiles plot for the historic, present day and future projected data."
   ]
  },
  {
   "cell_type": "markdown",
   "id": "ef8ebf94-8949-46ea-8f63-63ca70a05dcb",
   "metadata": {},
   "source": [
    "### CESM1 Large Ensemble\n",
    "This portion of the notebook will detail how to get access to the CESM1 large Ensemble dataset, which is hosted on Amazon Web Services. Since it is hosted on Amazon Web services, the users accessing this data will not have to create a separate account. Directions will be followed very similarly to a NCAR repository labeled CESM LENS on AWS.\n",
    "This has been modified to also include functionality to load a zarr-format grid file containing the latitude and longitude information for CESM1, which for some reason are not included in the data files.\n",
    "Things to note about the data we are accessing:\n",
    "The notebook will be accessing the Ocean model for CESM1\n",
    "Because of this the grid file used here is only for OCEAN variables; the atmosphere and land variables have different lat and lon information.\n",
    "For most ocean variables, latitude and longitude are called \"TLAT\" and \"TLONG\".\n",
    "This notebook will only be looking at a few variables as an example. If you are inclined to view other variables, a whole list can be found here\n",
    "To first open connection to where the files are housed, we need to open the connection by using the intake function"
   ]
  },
  {
   "cell_type": "markdown",
   "id": "3dc2cb66-6b44-410b-91d7-f9e3c8fbac1e",
   "metadata": {},
   "source": [
    "### Data Access\n",
    "This notebook uses information from a notebook from the NCAR organization that can be found [here](https://ncar.github.io/CESM-Tutorial/notebooks/diagnostics/clm_ctsm/basics_clm.html#first-calculate-the-land-weights)\n",
    "\n",
    "\n",
    "Accessing the data for this notebook will be done by using Pangeo's software to promote open access and reproducibility within this notebook. To properly ensure you have the correct packages installed that the 'Pangeo Environment' uses, make sure to view the .README for this repository found [here](https://github.com/Channelislanders/toolkit)\n",
    "Here we are:\n",
    "Accessing the OCN model dataset with RCP 8.5 and 20C runs.\n",
    "Explain what these are\n",
    "Narrowing down the columns to specific variables we aim to access.\n",
    "\n",
    "pH,\n",
    "DO,\n",
    "salinity,\n",
    "nutrients,\n",
    "Temperature\n",
    "\n",
    "For example:\n",
    "col_ocntemp = col.search(\n",
    "    frequency=[\"monthly\"],\n",
    "    component=\"ocn\",\n",
    "    variable=\"TEMP\",\n",
    "    experiment=[\"20C\", \"RCP85\"],  \n",
    ")\n",
    "\n",
    "Loading in lat/lon data separately which was not in CESM1 as of March 2024.\n",
    "This section works similar to accessing other catalogs, we will be using Zarr. More information on the library below.\n",
    "https://zarr.readthedocs.io/en/stable/\n"
   ]
  },
  {
   "cell_type": "markdown",
   "id": "1c9ef6e8-49db-4539-acf3-87b9c12f58fc",
   "metadata": {},
   "source": [
    "### Importing Packages\n",
    "In order to access the data, we'll need to import all necessary packages to do so. Below are the packages I have installed to use throughout this notebook:"
   ]
  },
  {
   "cell_type": "code",
   "execution_count": 3,
   "id": "d02028cd-d41a-4cc1-a285-abf0bf2b0b37",
   "metadata": {
    "tags": []
   },
   "outputs": [],
   "source": [
    "# Packages needed generally\n",
    "import matplotlib.pyplot as plt\n",
    "from cartopy import crs as ccrs, feature as cfeature\n",
    "import xarray as xr\n",
    "import pandas as pd\n",
    "import numpy as np\n",
    "#from rasterio import mask\n",
    "\n",
    "# Packages needed for CESM1 example\n",
    "import pprint\n",
    "import intake\n",
    "import requests\n",
    "import aiohttp\n",
    "import s3fs\n",
    "\n",
    "# Packages needed for CMIP6\n",
    "import zarr\n",
    "import gcsfs"
   ]
  },
  {
   "cell_type": "code",
   "execution_count": 4,
   "id": "d85cb3fb-a1ab-4810-94b6-9e43fe35b78b",
   "metadata": {
    "tags": []
   },
   "outputs": [],
   "source": [
    "# Open original collection description file: CESM1 LENS\n",
    "cat_url = \"https://ncar-cesm-lens.s3-us-west-2.amazonaws.com/catalogs/aws-cesm1-le.json\"\n",
    "col = intake.open_esm_datastore(cat_url)\n",
    "col\n",
    "\n",
    "# Location of file containing grid (lat/lon) information for CESM1 LENS\n",
    "grid_url=\"s3://ncar-cesm-lens/ocn/static/grid.zarr\""
   ]
  },
  {
   "cell_type": "code",
   "execution_count": 5,
   "id": "172c511c-c6ff-4196-8d06-1ab90d4f4245",
   "metadata": {
    "tags": []
   },
   "outputs": [
    {
     "data": {
      "text/html": [
       "<div>\n",
       "<style scoped>\n",
       "    .dataframe tbody tr th:only-of-type {\n",
       "        vertical-align: middle;\n",
       "    }\n",
       "\n",
       "    .dataframe tbody tr th {\n",
       "        vertical-align: top;\n",
       "    }\n",
       "\n",
       "    .dataframe thead th {\n",
       "        text-align: right;\n",
       "    }\n",
       "</style>\n",
       "<table border=\"1\" class=\"dataframe\">\n",
       "  <thead>\n",
       "    <tr style=\"text-align: right;\">\n",
       "      <th></th>\n",
       "      <th>variable</th>\n",
       "      <th>long_name</th>\n",
       "      <th>component</th>\n",
       "      <th>experiment</th>\n",
       "      <th>frequency</th>\n",
       "      <th>vertical_levels</th>\n",
       "      <th>spatial_domain</th>\n",
       "      <th>units</th>\n",
       "      <th>start_time</th>\n",
       "      <th>end_time</th>\n",
       "      <th>path</th>\n",
       "    </tr>\n",
       "  </thead>\n",
       "  <tbody>\n",
       "    <tr>\n",
       "      <th>0</th>\n",
       "      <td>TEMP</td>\n",
       "      <td>potential temperature</td>\n",
       "      <td>ocn</td>\n",
       "      <td>20C</td>\n",
       "      <td>monthly</td>\n",
       "      <td>60.0</td>\n",
       "      <td>global_ocean</td>\n",
       "      <td>degC</td>\n",
       "      <td>1920-01-16 12:00:00</td>\n",
       "      <td>2005-12-16 12:00:00</td>\n",
       "      <td>s3://ncar-cesm-lens/ocn/monthly/cesmLE-20C-TEM...</td>\n",
       "    </tr>\n",
       "    <tr>\n",
       "      <th>1</th>\n",
       "      <td>TEMP</td>\n",
       "      <td>potential temperature</td>\n",
       "      <td>ocn</td>\n",
       "      <td>CTRL</td>\n",
       "      <td>monthly</td>\n",
       "      <td>60.0</td>\n",
       "      <td>global_ocean</td>\n",
       "      <td>degC</td>\n",
       "      <td>0400-01-16 12:00:00</td>\n",
       "      <td>2200-12-16 12:00:00</td>\n",
       "      <td>s3://ncar-cesm-lens/ocn/monthly/cesmLE-CTRL-TE...</td>\n",
       "    </tr>\n",
       "    <tr>\n",
       "      <th>2</th>\n",
       "      <td>TEMP</td>\n",
       "      <td>potential temperature</td>\n",
       "      <td>ocn</td>\n",
       "      <td>HIST</td>\n",
       "      <td>monthly</td>\n",
       "      <td>60.0</td>\n",
       "      <td>global_ocean</td>\n",
       "      <td>degC</td>\n",
       "      <td>1850-01-16 12:00:00</td>\n",
       "      <td>1919-12-16 12:00:00</td>\n",
       "      <td>s3://ncar-cesm-lens/ocn/monthly/cesmLE-HIST-TE...</td>\n",
       "    </tr>\n",
       "    <tr>\n",
       "      <th>3</th>\n",
       "      <td>TEMP</td>\n",
       "      <td>potential temperature</td>\n",
       "      <td>ocn</td>\n",
       "      <td>RCP85</td>\n",
       "      <td>monthly</td>\n",
       "      <td>60.0</td>\n",
       "      <td>global_ocean</td>\n",
       "      <td>degC</td>\n",
       "      <td>2006-01-16 12:00:00</td>\n",
       "      <td>2100-12-16 12:00:00</td>\n",
       "      <td>s3://ncar-cesm-lens/ocn/monthly/cesmLE-RCP85-T...</td>\n",
       "    </tr>\n",
       "  </tbody>\n",
       "</table>\n",
       "</div>"
      ],
      "text/plain": [
       "  variable              long_name component experiment frequency  \\\n",
       "0     TEMP  potential temperature       ocn        20C   monthly   \n",
       "1     TEMP  potential temperature       ocn       CTRL   monthly   \n",
       "2     TEMP  potential temperature       ocn       HIST   monthly   \n",
       "3     TEMP  potential temperature       ocn      RCP85   monthly   \n",
       "\n",
       "   vertical_levels spatial_domain units           start_time  \\\n",
       "0             60.0   global_ocean  degC  1920-01-16 12:00:00   \n",
       "1             60.0   global_ocean  degC  0400-01-16 12:00:00   \n",
       "2             60.0   global_ocean  degC  1850-01-16 12:00:00   \n",
       "3             60.0   global_ocean  degC  2006-01-16 12:00:00   \n",
       "\n",
       "              end_time                                               path  \n",
       "0  2005-12-16 12:00:00  s3://ncar-cesm-lens/ocn/monthly/cesmLE-20C-TEM...  \n",
       "1  2200-12-16 12:00:00  s3://ncar-cesm-lens/ocn/monthly/cesmLE-CTRL-TE...  \n",
       "2  1919-12-16 12:00:00  s3://ncar-cesm-lens/ocn/monthly/cesmLE-HIST-TE...  \n",
       "3  2100-12-16 12:00:00  s3://ncar-cesm-lens/ocn/monthly/cesmLE-RCP85-T...  "
      ]
     },
     "execution_count": 5,
     "metadata": {},
     "output_type": "execute_result"
    }
   ],
   "source": [
    "# Search for the sea surface variable, display the first few entries in the resulting data frame\n",
    "col.search(variable=\"TEMP\").df"
   ]
  },
  {
   "cell_type": "code",
   "execution_count": 6,
   "id": "37960578-6fb0-4945-b284-e03727b89574",
   "metadata": {
    "tags": []
   },
   "outputs": [
    {
     "data": {
      "text/html": [
       "<div>\n",
       "<style scoped>\n",
       "    .dataframe tbody tr th:only-of-type {\n",
       "        vertical-align: middle;\n",
       "    }\n",
       "\n",
       "    .dataframe tbody tr th {\n",
       "        vertical-align: top;\n",
       "    }\n",
       "\n",
       "    .dataframe thead th {\n",
       "        text-align: right;\n",
       "    }\n",
       "</style>\n",
       "<table border=\"1\" class=\"dataframe\">\n",
       "  <thead>\n",
       "    <tr style=\"text-align: right;\">\n",
       "      <th></th>\n",
       "      <th>variable</th>\n",
       "      <th>long_name</th>\n",
       "      <th>component</th>\n",
       "      <th>experiment</th>\n",
       "      <th>frequency</th>\n",
       "      <th>vertical_levels</th>\n",
       "      <th>spatial_domain</th>\n",
       "      <th>units</th>\n",
       "      <th>start_time</th>\n",
       "      <th>end_time</th>\n",
       "      <th>path</th>\n",
       "    </tr>\n",
       "  </thead>\n",
       "  <tbody>\n",
       "    <tr>\n",
       "      <th>0</th>\n",
       "      <td>TEMP</td>\n",
       "      <td>potential temperature</td>\n",
       "      <td>ocn</td>\n",
       "      <td>20C</td>\n",
       "      <td>monthly</td>\n",
       "      <td>60.0</td>\n",
       "      <td>global_ocean</td>\n",
       "      <td>degC</td>\n",
       "      <td>1920-01-16 12:00:00</td>\n",
       "      <td>2005-12-16 12:00:00</td>\n",
       "      <td>s3://ncar-cesm-lens/ocn/monthly/cesmLE-20C-TEM...</td>\n",
       "    </tr>\n",
       "    <tr>\n",
       "      <th>1</th>\n",
       "      <td>TEMP</td>\n",
       "      <td>potential temperature</td>\n",
       "      <td>ocn</td>\n",
       "      <td>RCP85</td>\n",
       "      <td>monthly</td>\n",
       "      <td>60.0</td>\n",
       "      <td>global_ocean</td>\n",
       "      <td>degC</td>\n",
       "      <td>2006-01-16 12:00:00</td>\n",
       "      <td>2100-12-16 12:00:00</td>\n",
       "      <td>s3://ncar-cesm-lens/ocn/monthly/cesmLE-RCP85-T...</td>\n",
       "    </tr>\n",
       "  </tbody>\n",
       "</table>\n",
       "</div>"
      ],
      "text/plain": [
       "  variable              long_name component experiment frequency  \\\n",
       "0     TEMP  potential temperature       ocn        20C   monthly   \n",
       "1     TEMP  potential temperature       ocn      RCP85   monthly   \n",
       "\n",
       "   vertical_levels spatial_domain units           start_time  \\\n",
       "0             60.0   global_ocean  degC  1920-01-16 12:00:00   \n",
       "1             60.0   global_ocean  degC  2006-01-16 12:00:00   \n",
       "\n",
       "              end_time                                               path  \n",
       "0  2005-12-16 12:00:00  s3://ncar-cesm-lens/ocn/monthly/cesmLE-20C-TEM...  \n",
       "1  2100-12-16 12:00:00  s3://ncar-cesm-lens/ocn/monthly/cesmLE-RCP85-T...  "
      ]
     },
     "execution_count": 6,
     "metadata": {},
     "output_type": "execute_result"
    }
   ],
   "source": [
    "# Get more detailed: search for monthly output for the 20th century and RCP8.5 \n",
    "# (\"HIST\" is the 1850-1919 period, which is only in the first ensemble member, and \"20C\" is 1920-2005 which is common across all the other members)\n",
    "col_ocntemp = col.search(\n",
    "    frequency=[\"monthly\"],\n",
    "    component=\"ocn\",\n",
    "    variable=\"TEMP\",\n",
    "    experiment=[\"20C\", \"RCP85\"],  \n",
    ")\n",
    "\n",
    "col_ocntemp.df"
   ]
  },
  {
   "cell_type": "code",
   "execution_count": 7,
   "id": "812cf0f3-970e-49aa-b2c8-19a866f31167",
   "metadata": {
    "tags": []
   },
   "outputs": [
    {
     "name": "stdout",
     "output_type": "stream",
     "text": [
      "\n",
      "--> The keys in the returned dictionary of datasets are constructed as follows:\n",
      "\t'component.experiment.frequency'\n"
     ]
    },
    {
     "data": {
      "text/html": [
       "\n",
       "<style>\n",
       "    /* Turns off some styling */\n",
       "    progress {\n",
       "        /* gets rid of default border in Firefox and Opera. */\n",
       "        border: none;\n",
       "        /* Needs to be in here for Safari polyfill so background images work as expected. */\n",
       "        background-size: auto;\n",
       "    }\n",
       "    progress:not([value]), progress:not([value])::-webkit-progress-bar {\n",
       "        background: repeating-linear-gradient(45deg, #7e7e7e, #7e7e7e 10px, #5c5c5c 10px, #5c5c5c 20px);\n",
       "    }\n",
       "    .progress-bar-interrupted, .progress-bar-interrupted::-webkit-progress-bar {\n",
       "        background: #F44336;\n",
       "    }\n",
       "</style>\n"
      ],
      "text/plain": [
       "<IPython.core.display.HTML object>"
      ]
     },
     "metadata": {},
     "output_type": "display_data"
    },
    {
     "data": {
      "text/html": [
       "\n",
       "    <div>\n",
       "      <progress value='2' class='' max='2' style='width:300px; height:20px; vertical-align: middle;'></progress>\n",
       "      100.00% [2/2 00:01&lt;00:00]\n",
       "    </div>\n",
       "    "
      ],
      "text/plain": [
       "<IPython.core.display.HTML object>"
      ]
     },
     "metadata": {},
     "output_type": "display_data"
    },
    {
     "name": "stdout",
     "output_type": "stream",
     "text": [
      "\n",
      "Dataset dictionary keys:\n",
      " dict_keys(['ocn.20C.monthly', 'ocn.RCP85.monthly'])\n"
     ]
    }
   ],
   "source": [
    "# Load catalog entries for subset into a dictionary of xarray datasets\n",
    "dsets_TEMP = col_ocntemp.to_dataset_dict(\n",
    "    zarr_kwargs={\"consolidated\": True}, storage_options={\"anon\": True}\n",
    ")\n",
    "print(f\"\\nDataset dictionary keys:\\n {dsets_TEMP.keys()}\")"
   ]
  },
  {
   "cell_type": "code",
   "execution_count": 8,
   "id": "fb545dbf-8932-406c-b46b-bce05c87c20d",
   "metadata": {
    "tags": []
   },
   "outputs": [],
   "source": [
    "# Define Xarray datasets corresponding to the three experiments\n",
    "ds_20C_temp = dsets_TEMP[\"ocn.20C.monthly\"]\n",
    "ds_RCP85_temp = dsets_TEMP[\"ocn.RCP85.monthly\"]\n"
   ]
  },
  {
   "cell_type": "code",
   "execution_count": 12,
   "id": "3ca158bf-bda5-4035-8157-7b93cc4e019b",
   "metadata": {},
   "outputs": [],
   "source": [
    "#for 1920 to 2000\n",
    "ds_20C_ch_mean=ds_20C_temp.mean(dim=\"time\")\n",
    "ds_RCP85_mean = ds_RCP85_temp.mean(dim = \"time\")"
   ]
  },
  {
   "cell_type": "code",
   "execution_count": 15,
   "id": "5c7cc92f-d121-4cc4-bf1b-7051ce3ac882",
   "metadata": {
    "tags": []
   },
   "outputs": [],
   "source": [
    "# plot for temperature\n",
    "#example code\n",
    "\n",
    "#select a member_id\n",
    "time_mem = ds_20C_temp.sel(member_id = 1)\n",
    "\n",
    "#select just one point on the graph (this point is closest to channel islands)\n",
    "point_temp = time_mem.isel(nlat=(280), nlon=(240))"
   ]
  },
  {
   "cell_type": "markdown",
   "id": "334299d9-cffc-4e4e-991d-1e6b0103ccaa",
   "metadata": {},
   "source": [
    "gca() is a function in Matplotlib that stands for \"get current axis.\" It is used to retrieve the current Axes instance on the current figure. When you call plt.gca(), you are essentially getting a reference to the current Axes object where your plot is being drawn.\n",
    "\n",
    "In the context of the provided code, plt.gca() is used to retrieve the current Axes object after calling temp_2000_03.plot(), and then invert_yaxis() is called on this Axes object to invert the y-axis of the plot."
   ]
  },
  {
   "cell_type": "code",
   "execution_count": 16,
   "id": "972f7b2d-2c09-47b9-8c40-9780cf26bc70",
   "metadata": {},
   "outputs": [
    {
     "name": "stdout",
     "output_type": "stream",
     "text": [
      "\n",
      "--> The keys in the returned dictionary of datasets are constructed as follows:\n",
      "\t'component.experiment.frequency'\n"
     ]
    },
    {
     "data": {
      "text/html": [
       "\n",
       "<style>\n",
       "    /* Turns off some styling */\n",
       "    progress {\n",
       "        /* gets rid of default border in Firefox and Opera. */\n",
       "        border: none;\n",
       "        /* Needs to be in here for Safari polyfill so background images work as expected. */\n",
       "        background-size: auto;\n",
       "    }\n",
       "    progress:not([value]), progress:not([value])::-webkit-progress-bar {\n",
       "        background: repeating-linear-gradient(45deg, #7e7e7e, #7e7e7e 10px, #5c5c5c 10px, #5c5c5c 20px);\n",
       "    }\n",
       "    .progress-bar-interrupted, .progress-bar-interrupted::-webkit-progress-bar {\n",
       "        background: #F44336;\n",
       "    }\n",
       "</style>\n"
      ],
      "text/plain": [
       "<IPython.core.display.HTML object>"
      ]
     },
     "metadata": {},
     "output_type": "display_data"
    },
    {
     "data": {
      "text/html": [
       "\n",
       "    <div>\n",
       "      <progress value='2' class='' max='2' style='width:300px; height:20px; vertical-align: middle;'></progress>\n",
       "      100.00% [2/2 00:01&lt;00:00]\n",
       "    </div>\n",
       "    "
      ],
      "text/plain": [
       "<IPython.core.display.HTML object>"
      ]
     },
     "metadata": {},
     "output_type": "display_data"
    },
    {
     "name": "stdout",
     "output_type": "stream",
     "text": [
      "\n",
      "Dataset dictionary keys:\n",
      " dict_keys(['ocn.RCP85.monthly', 'ocn.20C.monthly'])\n"
     ]
    }
   ],
   "source": [
    "# Get more detailed: search for monthly output for the 20th century and RCP8.5 \n",
    "# (\"HIST\" is the 1850-1919 period, which is only in the first ensemble member, and \"20C\" is 1920-2005 which is common across all the other members)\n",
    "col_ocnDO = col.search(\n",
    "    frequency=[\"monthly\"],\n",
    "    component=\"ocn\",\n",
    "    variable=\"O2\",\n",
    "    experiment=[\"20C\", \"RCP85\"],  \n",
    ")\n",
    "\n",
    "col_ocnDO.df\n",
    "\n",
    "# Load catalog entries for subset into a dictionary of xarray datasets\n",
    "dsets_DO = col_ocnDO.to_dataset_dict(\n",
    "    zarr_kwargs={\"consolidated\": True}, storage_options={\"anon\": True}\n",
    ")\n",
    "print(f\"\\nDataset dictionary keys:\\n {dsets_DO.keys()}\")\n",
    "\n",
    "# Define Xarray datasets corresponding to the three experiments\n",
    "ds_20C_DO = dsets_DO[\"ocn.20C.monthly\"]\n",
    "ds_RCP85_DO = dsets_DO[\"ocn.RCP85.monthly\"]\n",
    "\n",
    "#look at ds_20C dataset\n",
    "ds_20C_DO\n",
    "\n",
    "# plot for DO\n",
    "#Lets find the mean of the member_id and time dimension \n",
    "ds_20C_ch_mean_DO=ds_20C_DO.mean(dim = [\"member_id\", \"time\"])"
   ]
  },
  {
   "cell_type": "code",
   "execution_count": 17,
   "id": "c257a31c-0ab3-41a7-8231-a163502db3a4",
   "metadata": {},
   "outputs": [
    {
     "name": "stdout",
     "output_type": "stream",
     "text": [
      "\n",
      "--> The keys in the returned dictionary of datasets are constructed as follows:\n",
      "\t'component.experiment.frequency'\n"
     ]
    },
    {
     "data": {
      "text/html": [
       "\n",
       "<style>\n",
       "    /* Turns off some styling */\n",
       "    progress {\n",
       "        /* gets rid of default border in Firefox and Opera. */\n",
       "        border: none;\n",
       "        /* Needs to be in here for Safari polyfill so background images work as expected. */\n",
       "        background-size: auto;\n",
       "    }\n",
       "    progress:not([value]), progress:not([value])::-webkit-progress-bar {\n",
       "        background: repeating-linear-gradient(45deg, #7e7e7e, #7e7e7e 10px, #5c5c5c 10px, #5c5c5c 20px);\n",
       "    }\n",
       "    .progress-bar-interrupted, .progress-bar-interrupted::-webkit-progress-bar {\n",
       "        background: #F44336;\n",
       "    }\n",
       "</style>\n"
      ],
      "text/plain": [
       "<IPython.core.display.HTML object>"
      ]
     },
     "metadata": {},
     "output_type": "display_data"
    },
    {
     "data": {
      "text/html": [
       "\n",
       "    <div>\n",
       "      <progress value='2' class='' max='2' style='width:300px; height:20px; vertical-align: middle;'></progress>\n",
       "      100.00% [2/2 00:00&lt;00:00]\n",
       "    </div>\n",
       "    "
      ],
      "text/plain": [
       "<IPython.core.display.HTML object>"
      ]
     },
     "metadata": {},
     "output_type": "display_data"
    },
    {
     "name": "stdout",
     "output_type": "stream",
     "text": [
      "\n",
      "Dataset dictionary keys:\n",
      " dict_keys(['ocn.20C.monthly', 'ocn.RCP85.monthly'])\n"
     ]
    },
    {
     "data": {
      "image/png": "[encoded data removed]",
      "text/plain": [
       "<Figure size 640x480 with 1 Axes>"
      ]
     },
     "metadata": {},
     "output_type": "display_data"
    }
   ],
   "source": [
    "# Get more detailed: search for monthly output for the 20th century and RCP8.5 \n",
    "# (\"HIST\" is the 1850-1919 period, which is only in the first ensemble member, and \"20C\" is 1920-2005 which is common across all the other members)\n",
    "col_ocnSALT = col.search(\n",
    "    frequency=[\"monthly\"],\n",
    "    component=\"ocn\",\n",
    "    variable=\"SALT\",\n",
    "    experiment=[\"20C\", \"RCP85\"],  \n",
    ")\n",
    "\n",
    "col_ocnSALT.df\n",
    "\n",
    "# Load catalog entries for subset into a dictionary of xarray datasets\n",
    "dsets_SALT = col_ocnSALT.to_dataset_dict(\n",
    "    zarr_kwargs={\"consolidated\": True}, storage_options={\"anon\": True}\n",
    ")\n",
    "print(f\"\\nDataset dictionary keys:\\n {dsets_SALT.keys()}\")\n",
    "\n",
    "# Define Xarray datasets corresponding to the three experiments\n",
    "ds_20C_SALT = dsets_SALT[\"ocn.20C.monthly\"]\n",
    "ds_RCP85_SALT = dsets_SALT[\"ocn.RCP85.monthly\"]\n",
    "\n",
    "# plot for DO\n",
    "\n",
    "slice_time_SALT = ds_20C_SALT.mean(dim = \"time\")\n",
    "\n",
    "SALT_2000 = slice_time_SALT.sel(member_id = 1)\n",
    "\n",
    "SALT_2000_03 = SALT_2000.isel(nlat = 280, nlon = 240)\n",
    "\n",
    "# Select the variable you want to plot\n",
    "SALT_2000_03_dataarray = SALT_2000_03['SALT']\n",
    "\n",
    "# Plot the data\n",
    "SALT_2000_03_dataarray.plot(y='z_t')\n",
    "\n",
    "# Plotting the salinity with inverted y-axis\n",
    "plt.gca().invert_yaxis()\n",
    "plt.show()\n",
    "\n"
   ]
  },
  {
   "cell_type": "code",
   "execution_count": null,
   "id": "0d441456-8bc8-4dd6-a987-a51899941190",
   "metadata": {},
   "outputs": [
    {
     "name": "stdout",
     "output_type": "stream",
     "text": [
      "\n",
      "--> The keys in the returned dictionary of datasets are constructed as follows:\n",
      "\t'component.experiment.frequency'\n"
     ]
    },
    {
     "data": {
      "text/html": [
       "\n",
       "<style>\n",
       "    /* Turns off some styling */\n",
       "    progress {\n",
       "        /* gets rid of default border in Firefox and Opera. */\n",
       "        border: none;\n",
       "        /* Needs to be in here for Safari polyfill so background images work as expected. */\n",
       "        background-size: auto;\n",
       "    }\n",
       "    progress:not([value]), progress:not([value])::-webkit-progress-bar {\n",
       "        background: repeating-linear-gradient(45deg, #7e7e7e, #7e7e7e 10px, #5c5c5c 10px, #5c5c5c 20px);\n",
       "    }\n",
       "    .progress-bar-interrupted, .progress-bar-interrupted::-webkit-progress-bar {\n",
       "        background: #F44336;\n",
       "    }\n",
       "</style>\n"
      ],
      "text/plain": [
       "<IPython.core.display.HTML object>"
      ]
     },
     "metadata": {},
     "output_type": "display_data"
    },
    {
     "data": {
      "text/html": [
       "\n",
       "    <div>\n",
       "      <progress value='2' class='' max='2' style='width:300px; height:20px; vertical-align: middle;'></progress>\n",
       "      100.00% [2/2 00:00&lt;00:00]\n",
       "    </div>\n",
       "    "
      ],
      "text/plain": [
       "<IPython.core.display.HTML object>"
      ]
     },
     "metadata": {},
     "output_type": "display_data"
    },
    {
     "name": "stdout",
     "output_type": "stream",
     "text": [
      "\n",
      "Dataset dictionary keys:\n",
      " dict_keys(['ocn.RCP85.monthly', 'ocn.20C.monthly'])\n"
     ]
    },
    {
     "data": {
      "image/png": "[encoded data removed]",
      "text/plain": [
       "<Figure size 640x480 with 1 Axes>"
      ]
     },
     "metadata": {},
     "output_type": "display_data"
    },
    {
     "data": {
      "text/plain": [
       "Text(0.5, 1.0, 'Sea Temperature Vertical Profile')"
      ]
     },
     "execution_count": 24,
     "metadata": {},
     "output_type": "execute_result"
    },
    {
     "data": {
      "image/png": "[encoded data removed]",
      "text/plain": [
       "<Figure size 640x480 with 1 Axes>"
      ]
     },
     "metadata": {},
     "output_type": "display_data"
    }
   ],
   "source": [
    "# Get more detailed: search for monthly output for the 20th century and RCP8.5 \n",
    "col_ocnTEMP = col.search(\n",
    "    frequency=[\"monthly\"],\n",
    "    component=\"ocn\",\n",
    "    variable=\"TEMP\",\n",
    "    experiment=[\"20C\", \"RCP85\"],  \n",
    ")\n",
    "\n",
    "col_ocnTEMP.df\n",
    "\n",
    "# Load catalog entries for subset into a dictionary of xarray datasets\n",
    "dsets_TEMP = col_ocnTEMP.to_dataset_dict(\n",
    "    zarr_kwargs={\"consolidated\": True}, storage_options={\"anon\": True}\n",
    ")\n",
    "print(f\"\\nDataset dictionary keys:\\n {dsets_TEMP.keys()}\")\n",
    "\n",
    "# Define Xarray datasets corresponding to the three experiments\n",
    "ds_20C_TEMP = dsets_TEMP[\"ocn.20C.monthly\"]\n",
    "ds_RCP85_TEMP = dsets_TEMP[\"ocn.RCP85.monthly\"]\n",
    "\n",
    "# plot for TEMP\n",
    "\n",
    "slice_time_TEMP = ds_20C_TEMP.sel(time = \"2000-03\")\n",
    "\n",
    "TEMP_2000 = slice_time_TEMP.sel(member_id = 1)\n",
    "\n",
    "TEMP_2000_03 = TEMP_2000.isel(nlat = 280, nlon = 240)\n",
    "\n",
    "# Select the variable you want to plot\n",
    "TEMP_2000_03_dataarray = TEMP_2000_03['TEMP']\n",
    "\n",
    "# Plot the data\n",
    "TEMP_2000_03_dataarray.plot(y='z_t')\n",
    "\n",
    "# Plotting the salinity with inverted y-axis\n",
    "plt.gca().invert_yaxis()\n",
    "plt.show()\n",
    "\n",
    "#add title to graph\n",
    "plt.title(\"Sea Temperature Vertical Profile\")"
   ]
  },
  {
   "cell_type": "code",
   "execution_count": null,
   "id": "ecf705a4-4e2e-4e70-badd-0a0370a03c95",
   "metadata": {},
   "outputs": [],
   "source": []
  }
 ],
 "metadata": {
  "kernelspec": {
   "display_name": "cmip6",
   "language": "python",
   "name": "python3"
  },
  "language_info": {
   "codemirror_mode": {
    "name": "ipython",
    "version": 3
   },
   "file_extension": ".py",
   "mimetype": "text/x-python",
   "name": "python",
   "nbconvert_exporter": "python",
   "pygments_lexer": "ipython3",
   "version": "3.11.8"
  }
 },
 "nbformat": 4,
 "nbformat_minor": 5
}
